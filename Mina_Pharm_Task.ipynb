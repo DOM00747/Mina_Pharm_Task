{
 "cells": [
  {
   "cell_type": "code",
   "execution_count": 1,
   "id": "52a58e77",
   "metadata": {
    "_cell_guid": "b1076dfc-b9ad-4769-8c92-a6c4dae69d19",
    "_uuid": "8f2839f25d086af736a60e9eeb907d3b93b6e0e5",
    "execution": {
     "iopub.execute_input": "2022-04-11T01:28:17.952808Z",
     "iopub.status.busy": "2022-04-11T01:28:17.952006Z",
     "iopub.status.idle": "2022-04-11T01:28:17.967514Z",
     "shell.execute_reply": "2022-04-11T01:28:17.966401Z",
     "shell.execute_reply.started": "2022-04-11T01:03:30.753091Z"
    },
    "papermill": {
     "duration": 0.071871,
     "end_time": "2022-04-11T01:28:17.967775",
     "exception": false,
     "start_time": "2022-04-11T01:28:17.895904",
     "status": "completed"
    },
    "tags": []
   },
   "outputs": [
    {
     "name": "stdout",
     "output_type": "stream",
     "text": [
      "/kaggle/input/dataset/Pubmed5k.xlsx\n"
     ]
    }
   ],
   "source": [
    "# This Python 3 environment comes with many helpful analytics libraries installed\n",
    "# It is defined by the kaggle/python Docker image: https://github.com/kaggle/docker-python\n",
    "# For example, here's several helpful packages to load\n",
    "\n",
    "import numpy as np # linear algebra\n",
    "import pandas as pd # data processing, CSV file I/O (e.g. pd.read_csv)\n",
    "\n",
    "# Input data files are available in the read-only \"../input/\" directory\n",
    "# For example, running this (by clicking run or pressing Shift+Enter) will list all files under the input directory\n",
    "\n",
    "import os\n",
    "for dirname, _, filenames in os.walk('/kaggle/input'):\n",
    "    for filename in filenames:\n",
    "        print(os.path.join(dirname, filename))\n",
    "\n",
    "# You can write up to 20GB to the current directory (/kaggle/working/) that gets preserved as output when you create a version using \"Save & Run All\" \n",
    "# You can also write temporary files to /kaggle/temp/, but they won't be saved outside of the current session"
   ]
  },
  {
   "cell_type": "markdown",
   "id": "8b397803",
   "metadata": {
    "papermill": {
     "duration": 0.046912,
     "end_time": "2022-04-11T01:28:18.064014",
     "exception": false,
     "start_time": "2022-04-11T01:28:18.017102",
     "status": "completed"
    },
    "tags": []
   },
   "source": [
    "# Importing important modules"
   ]
  },
  {
   "cell_type": "code",
   "execution_count": 2,
   "id": "1622ed65",
   "metadata": {
    "execution": {
     "iopub.execute_input": "2022-04-11T01:28:18.158065Z",
     "iopub.status.busy": "2022-04-11T01:28:18.157121Z",
     "iopub.status.idle": "2022-04-11T01:28:29.990183Z",
     "shell.execute_reply": "2022-04-11T01:28:29.989462Z",
     "shell.execute_reply.started": "2022-04-11T01:03:30.782343Z"
    },
    "papermill": {
     "duration": 11.882275,
     "end_time": "2022-04-11T01:28:29.990344",
     "exception": false,
     "start_time": "2022-04-11T01:28:18.108069",
     "status": "completed"
    },
    "tags": []
   },
   "outputs": [
    {
     "name": "stdout",
     "output_type": "stream",
     "text": [
      "[nltk_data] Downloading package stopwords to /usr/share/nltk_data...\n",
      "[nltk_data]   Package stopwords is already up-to-date!\n"
     ]
    },
    {
     "name": "stderr",
     "output_type": "stream",
     "text": [
      "/opt/conda/lib/python3.7/site-packages/past/types/oldstr.py:36: DeprecationWarning: invalid escape sequence \\d\n",
      "  \"\"\"\n"
     ]
    }
   ],
   "source": [
    "import nltk \n",
    "nltk.download('stopwords')\n",
    "import re \n",
    "import numpy as np\n",
    "import pandas as pd\n",
    "from pprint import pprint\n",
    "\n",
    "#Gensim\n",
    "import gensim\n",
    "import gensim.corpora as corpora\n",
    "from gensim.utils import simple_preprocess\n",
    "from gensim.models import CoherenceModel\n",
    "\n",
    "#Spacy for lemmatization\n",
    "import spacy \n",
    "\n",
    "#plotting tools \n",
    "import pyLDAvis\n",
    "import pyLDAvis.gensim\n",
    "import matplotlib.pyplot as plt \n",
    "%matplotlib inline\n",
    "\n",
    "# Enable logging for gensim \n",
    "import logging\n",
    "logging.basicConfig(format='%(asctime)s : %(levelname)s : %(message)s', level=logging.ERROR)\n",
    "\n",
    "import warnings\n",
    "warnings.filterwarnings(\"ignore\" , category=DeprecationWarning)\n"
   ]
  },
  {
   "cell_type": "markdown",
   "id": "81e4c3e3",
   "metadata": {
    "papermill": {
     "duration": 0.04051,
     "end_time": "2022-04-11T01:28:30.073200",
     "exception": false,
     "start_time": "2022-04-11T01:28:30.032690",
     "status": "completed"
    },
    "tags": []
   },
   "source": [
    "# **Prepare Stopwords**\n",
    "We have already downloaded the stopwords. Let’s import them and make it available in stop_words"
   ]
  },
  {
   "cell_type": "code",
   "execution_count": 3,
   "id": "1b7ba2be",
   "metadata": {
    "execution": {
     "iopub.execute_input": "2022-04-11T01:28:30.162759Z",
     "iopub.status.busy": "2022-04-11T01:28:30.162014Z",
     "iopub.status.idle": "2022-04-11T01:28:30.165792Z",
     "shell.execute_reply": "2022-04-11T01:28:30.166303Z",
     "shell.execute_reply.started": "2022-04-11T01:03:40.270433Z"
    },
    "papermill": {
     "duration": 0.050766,
     "end_time": "2022-04-11T01:28:30.166491",
     "exception": false,
     "start_time": "2022-04-11T01:28:30.115725",
     "status": "completed"
    },
    "tags": []
   },
   "outputs": [],
   "source": [
    "#NLTK stopwords\n",
    "from nltk.corpus import stopwords\n",
    "stop_words = stopwords.words('english')\n",
    "stop_words.extend(['from', 'subject', 're', 'edu', 'use'])"
   ]
  },
  {
   "cell_type": "code",
   "execution_count": 4,
   "id": "3a77f6e3",
   "metadata": {
    "execution": {
     "iopub.execute_input": "2022-04-11T01:28:30.255981Z",
     "iopub.status.busy": "2022-04-11T01:28:30.255011Z",
     "iopub.status.idle": "2022-04-11T01:28:41.971872Z",
     "shell.execute_reply": "2022-04-11T01:28:41.972462Z",
     "shell.execute_reply.started": "2022-04-11T01:03:40.280605Z"
    },
    "papermill": {
     "duration": 11.764109,
     "end_time": "2022-04-11T01:28:41.972649",
     "exception": false,
     "start_time": "2022-04-11T01:28:30.208540",
     "status": "completed"
    },
    "tags": []
   },
   "outputs": [
    {
     "name": "stdout",
     "output_type": "stream",
     "text": [
      "Collecting openpyxl\r\n",
      "  Downloading openpyxl-3.0.9-py2.py3-none-any.whl (242 kB)\r\n",
      "     |████████████████████████████████| 242 kB 927 kB/s            \r\n",
      "\u001b[?25hCollecting et-xmlfile\r\n",
      "  Downloading et_xmlfile-1.1.0-py3-none-any.whl (4.7 kB)\r\n",
      "Installing collected packages: et-xmlfile, openpyxl\r\n",
      "Successfully installed et-xmlfile-1.1.0 openpyxl-3.0.9\r\n",
      "\u001b[33mWARNING: Running pip as the 'root' user can result in broken permissions and conflicting behaviour with the system package manager. It is recommended to use a virtual environment instead: https://pip.pypa.io/warnings/venv\u001b[0m\r\n",
      "Note: you may need to restart the kernel to use updated packages.\n"
     ]
    }
   ],
   "source": [
    "pip install openpyxl\n"
   ]
  },
  {
   "cell_type": "code",
   "execution_count": 5,
   "id": "e1840820",
   "metadata": {
    "execution": {
     "iopub.execute_input": "2022-04-11T01:28:42.066872Z",
     "iopub.status.busy": "2022-04-11T01:28:42.066102Z",
     "iopub.status.idle": "2022-04-11T01:28:43.125359Z",
     "shell.execute_reply": "2022-04-11T01:28:43.125894Z",
     "shell.execute_reply.started": "2022-04-11T01:03:51.092570Z"
    },
    "papermill": {
     "duration": 1.10817,
     "end_time": "2022-04-11T01:28:43.126083",
     "exception": false,
     "start_time": "2022-04-11T01:28:42.017913",
     "status": "completed"
    },
    "tags": []
   },
   "outputs": [
    {
     "data": {
      "text/html": [
       "<div>\n",
       "<style scoped>\n",
       "    .dataframe tbody tr th:only-of-type {\n",
       "        vertical-align: middle;\n",
       "    }\n",
       "\n",
       "    .dataframe tbody tr th {\n",
       "        vertical-align: top;\n",
       "    }\n",
       "\n",
       "    .dataframe thead th {\n",
       "        text-align: right;\n",
       "    }\n",
       "</style>\n",
       "<table border=\"1\" class=\"dataframe\">\n",
       "  <thead>\n",
       "    <tr style=\"text-align: right;\">\n",
       "      <th></th>\n",
       "      <th>ArticleID</th>\n",
       "      <th>Title</th>\n",
       "      <th>Abstract</th>\n",
       "    </tr>\n",
       "  </thead>\n",
       "  <tbody>\n",
       "    <tr>\n",
       "      <th>0</th>\n",
       "      <td>34153941</td>\n",
       "      <td>Stable Coordination Variability in Overground ...</td>\n",
       "      <td>Coordination variability (CV) is commonly anal...</td>\n",
       "    </tr>\n",
       "    <tr>\n",
       "      <th>1</th>\n",
       "      <td>34153942</td>\n",
       "      <td>Weak Hip Strength Increases Dynamic Knee Valgu...</td>\n",
       "      <td>Clinical Scenario: Dynamic knee valgus (DKV) i...</td>\n",
       "    </tr>\n",
       "    <tr>\n",
       "      <th>2</th>\n",
       "      <td>34153964</td>\n",
       "      <td>Current and Future Projections of Amyotrophic ...</td>\n",
       "      <td>Various methodologies have been reported to as...</td>\n",
       "    </tr>\n",
       "    <tr>\n",
       "      <th>3</th>\n",
       "      <td>34153968</td>\n",
       "      <td>Disparities between Asian and Non-Asian Thromb...</td>\n",
       "      <td>As outcomes for acute ischemic stroke (AIS) va...</td>\n",
       "    </tr>\n",
       "    <tr>\n",
       "      <th>4</th>\n",
       "      <td>34153978</td>\n",
       "      <td>Maternal Factors Predicting Loss to Follow-Up ...</td>\n",
       "      <td>Because hearing loss in children can result in...</td>\n",
       "    </tr>\n",
       "  </tbody>\n",
       "</table>\n",
       "</div>"
      ],
      "text/plain": [
       "   ArticleID                                              Title  \\\n",
       "0   34153941  Stable Coordination Variability in Overground ...   \n",
       "1   34153942  Weak Hip Strength Increases Dynamic Knee Valgu...   \n",
       "2   34153964  Current and Future Projections of Amyotrophic ...   \n",
       "3   34153968  Disparities between Asian and Non-Asian Thromb...   \n",
       "4   34153978  Maternal Factors Predicting Loss to Follow-Up ...   \n",
       "\n",
       "                                            Abstract  \n",
       "0  Coordination variability (CV) is commonly anal...  \n",
       "1  Clinical Scenario: Dynamic knee valgus (DKV) i...  \n",
       "2  Various methodologies have been reported to as...  \n",
       "3  As outcomes for acute ischemic stroke (AIS) va...  \n",
       "4  Because hearing loss in children can result in...  "
      ]
     },
     "execution_count": 5,
     "metadata": {},
     "output_type": "execute_result"
    }
   ],
   "source": [
    "#importing Dataset\n",
    "df = pd.read_excel('../input/dataset/Pubmed5k.xlsx')\n",
    "df.head()"
   ]
  },
  {
   "cell_type": "code",
   "execution_count": 6,
   "id": "24572529",
   "metadata": {
    "execution": {
     "iopub.execute_input": "2022-04-11T01:28:43.221416Z",
     "iopub.status.busy": "2022-04-11T01:28:43.220778Z",
     "iopub.status.idle": "2022-04-11T01:28:43.236747Z",
     "shell.execute_reply": "2022-04-11T01:28:43.237417Z",
     "shell.execute_reply.started": "2022-04-11T01:03:52.140218Z"
    },
    "papermill": {
     "duration": 0.06592,
     "end_time": "2022-04-11T01:28:43.237635",
     "exception": false,
     "start_time": "2022-04-11T01:28:43.171715",
     "status": "completed"
    },
    "tags": []
   },
   "outputs": [
    {
     "name": "stdout",
     "output_type": "stream",
     "text": [
      "['Stable Coordination Variability in Overground Walking and Running at Preferred and Fixed Speeds.'\n",
      " 'Weak Hip Strength Increases Dynamic Knee Valgus in Single-Leg Tasks of Collegiate Female Athletes.'\n",
      " 'Current and Future Projections of Amyotrophic Lateral Sclerosis in the United States Using Administrative Claims Data.'\n",
      " ...\n",
      " 'Research on Adolescents Regarding the Indirect Effect of Depression, Anxiety, and Stress between TikTok Use Disorder and Memory Loss.'\n",
      " 'Pre-Intervention Effects of a Community-Based Intervention Targeting Alcohol Use (LEF); The Role of Participatory Research and Publicity.'\n",
      " \"Pharmacists' Role in Older Adults' Medication Regimen Complexity: A Systematic Review.\"]\n"
     ]
    }
   ],
   "source": [
    "print(df.Title.unique())"
   ]
  },
  {
   "cell_type": "markdown",
   "id": "82cfd918",
   "metadata": {
    "papermill": {
     "duration": 0.044629,
     "end_time": "2022-04-11T01:28:43.328658",
     "exception": false,
     "start_time": "2022-04-11T01:28:43.284029",
     "status": "completed"
    },
    "tags": []
   },
   "source": [
    "**cleaning the data**"
   ]
  },
  {
   "cell_type": "code",
   "execution_count": 7,
   "id": "8a799aa5",
   "metadata": {
    "execution": {
     "iopub.execute_input": "2022-04-11T01:28:43.495127Z",
     "iopub.status.busy": "2022-04-11T01:28:43.463839Z",
     "iopub.status.idle": "2022-04-11T01:28:44.609556Z",
     "shell.execute_reply": "2022-04-11T01:28:44.610308Z",
     "shell.execute_reply.started": "2022-04-11T01:03:52.155285Z"
    },
    "papermill": {
     "duration": 1.236844,
     "end_time": "2022-04-11T01:28:44.610543",
     "exception": false,
     "start_time": "2022-04-11T01:28:43.373699",
     "status": "completed"
    },
    "tags": []
   },
   "outputs": [
    {
     "name": "stdout",
     "output_type": "stream",
     "text": [
      "['Coordination variability (CV) is commonly analyzed to understand dynamical '\n",
      " 'qualities of human locomotion. The purpose of this study was to develop '\n",
      " 'guidelines for the number of trials required to inform the calculation of a '\n",
      " 'stable mean lower limb CV during overground locomotion. Three-dimensional '\n",
      " 'lower limb kinematics were captured for 10 recreational runners performing '\n",
      " '20 trials each of preferred and fixed speed walking and running. Stance '\n",
      " 'phase CV was calculated for 9 segment and joint couplings using a modified '\n",
      " 'vector coding technique. The number of trials required to achieve a CV mean '\n",
      " 'within 10% of 20 strides average was determined for each coupling and '\n",
      " 'individual. The statistical outputs of mode (walking vs running) and speed '\n",
      " '(preferred vs fixed) were compared when informed by differing numbers of '\n",
      " 'trials. A minimum of 11 trials were required for stable mean stance phase '\n",
      " 'CV. With fewer than 11 trials, CV was underestimated and led to an oversight '\n",
      " 'of significant differences between mode and speed. Future overground '\n",
      " 'locomotion CV research in healthy populations using a vector coding approach '\n",
      " 'should use 11 trials as a standard minimum. Researchers should be aware of '\n",
      " 'the notable consequences of an insufficient number of trials for overall '\n",
      " 'study findings.']\n"
     ]
    }
   ],
   "source": [
    "#convert to list \n",
    "data = df.Abstract.values.tolist()\n",
    "\n",
    "#removing e-mails if exists\n",
    "data = [re.sub('\\S*@\\S*\\s' , '',sent) for sent in data]\n",
    "\n",
    "#remove newline chars\n",
    "data = [re.sub('\\s+' , ' ' , sent) for sent in data]\n",
    "\n",
    "#Remove distracting single quotes \n",
    "data = [re.sub(\"\\'\" , \"\" , sent) for sent in data]\n",
    "\n",
    "pprint(data[:1])"
   ]
  },
  {
   "cell_type": "markdown",
   "id": "c470de93",
   "metadata": {
    "papermill": {
     "duration": 0.044978,
     "end_time": "2022-04-11T01:28:44.702016",
     "exception": false,
     "start_time": "2022-04-11T01:28:44.657038",
     "status": "completed"
    },
    "tags": []
   },
   "source": [
    "# Tokenize words and clean-up text\n",
    "**Let’s tokenize each sentence into a list of words, removing punctuations and unnecessary characters altogether.**"
   ]
  },
  {
   "cell_type": "code",
   "execution_count": 8,
   "id": "ea2df1f3",
   "metadata": {
    "execution": {
     "iopub.execute_input": "2022-04-11T01:28:44.795816Z",
     "iopub.status.busy": "2022-04-11T01:28:44.795145Z",
     "iopub.status.idle": "2022-04-11T01:28:50.037981Z",
     "shell.execute_reply": "2022-04-11T01:28:50.037326Z",
     "shell.execute_reply.started": "2022-04-11T01:03:53.384828Z"
    },
    "papermill": {
     "duration": 5.290791,
     "end_time": "2022-04-11T01:28:50.038132",
     "exception": false,
     "start_time": "2022-04-11T01:28:44.747341",
     "status": "completed"
    },
    "tags": []
   },
   "outputs": [
    {
     "name": "stdout",
     "output_type": "stream",
     "text": [
      "[['coordination', 'variability', 'cv', 'is', 'commonly', 'analyzed', 'to', 'understand', 'dynamical', 'qualities', 'of', 'human', 'locomotion', 'the', 'purpose', 'of', 'this', 'study', 'was', 'to', 'develop', 'guidelines', 'for', 'the', 'number', 'of', 'trials', 'required', 'to', 'inform', 'the', 'calculation', 'of', 'stable', 'mean', 'lower', 'limb', 'cv', 'during', 'overground', 'locomotion', 'three', 'dimensional', 'lower', 'limb', 'kinematics', 'were', 'captured', 'for', 'recreational', 'runners', 'performing', 'trials', 'each', 'of', 'preferred', 'and', 'fixed', 'speed', 'walking', 'and', 'running', 'stance', 'phase', 'cv', 'was', 'calculated', 'for', 'segment', 'and', 'joint', 'couplings', 'using', 'modified', 'vector', 'coding', 'technique', 'the', 'number', 'of', 'trials', 'required', 'to', 'achieve', 'cv', 'mean', 'within', 'of', 'strides', 'average', 'was', 'determined', 'for', 'each', 'coupling', 'and', 'individual', 'the', 'statistical', 'outputs', 'of', 'mode', 'walking', 'vs', 'running', 'and', 'speed', 'preferred', 'vs', 'fixed', 'were', 'compared', 'when', 'informed', 'by', 'differing', 'numbers', 'of', 'trials', 'minimum', 'of', 'trials', 'were', 'required', 'for', 'stable', 'mean', 'stance', 'phase', 'cv', 'with', 'fewer', 'than', 'trials', 'cv', 'was', 'underestimated', 'and', 'led', 'to', 'an', 'oversight', 'of', 'significant', 'differences', 'between', 'mode', 'and', 'speed', 'future', 'overground', 'locomotion', 'cv', 'research', 'in', 'healthy', 'populations', 'using', 'vector', 'coding', 'approach', 'should', 'use', 'trials', 'as', 'standard', 'minimum', 'researchers', 'should', 'be', 'aware', 'of', 'the', 'notable', 'consequences', 'of', 'an', 'insufficient', 'number', 'of', 'trials', 'for', 'overall', 'study', 'findings']]\n"
     ]
    }
   ],
   "source": [
    "def sent_to_words(sentences):\n",
    "    for sentence in sentences:\n",
    "        yield(gensim.utils.simple_preprocess(str(sentence),deacc=True))\n",
    "\n",
    "data_words = list(sent_to_words(data))\n",
    "\n",
    "print(data_words[:1])\n",
    "        "
   ]
  },
  {
   "cell_type": "markdown",
   "id": "d85f4952",
   "metadata": {
    "papermill": {
     "duration": 0.04836,
     "end_time": "2022-04-11T01:28:50.136366",
     "exception": false,
     "start_time": "2022-04-11T01:28:50.088006",
     "status": "completed"
    },
    "tags": []
   },
   "source": [
    "# Creating Bigram and Trigram Models"
   ]
  },
  {
   "cell_type": "code",
   "execution_count": 9,
   "id": "ed085411",
   "metadata": {
    "execution": {
     "iopub.execute_input": "2022-04-11T01:28:50.256669Z",
     "iopub.status.busy": "2022-04-11T01:28:50.240807Z",
     "iopub.status.idle": "2022-04-11T01:29:00.638385Z",
     "shell.execute_reply": "2022-04-11T01:29:00.637467Z",
     "shell.execute_reply.started": "2022-04-11T01:03:58.638735Z"
    },
    "papermill": {
     "duration": 10.456402,
     "end_time": "2022-04-11T01:29:00.638595",
     "exception": false,
     "start_time": "2022-04-11T01:28:50.182193",
     "status": "completed"
    },
    "tags": []
   },
   "outputs": [
    {
     "name": "stdout",
     "output_type": "stream",
     "text": [
      "['coordination', 'variability', 'cv', 'is', 'commonly', 'analyzed', 'to', 'understand', 'dynamical', 'qualities', 'of', 'human', 'locomotion', 'the', 'purpose', 'of', 'this', 'study', 'was', 'to', 'develop', 'guidelines', 'for', 'the', 'number', 'of', 'trials', 'required', 'to', 'inform', 'the', 'calculation', 'of', 'stable', 'mean', 'lower_limb', 'cv', 'during', 'overground', 'locomotion', 'three_dimensional', 'lower_limb', 'kinematics', 'were', 'captured', 'for', 'recreational', 'runners', 'performing', 'trials', 'each', 'of', 'preferred', 'and', 'fixed', 'speed', 'walking', 'and', 'running', 'stance', 'phase', 'cv', 'was', 'calculated', 'for', 'segment', 'and', 'joint', 'couplings', 'using', 'modified', 'vector', 'coding', 'technique', 'the', 'number', 'of', 'trials', 'required', 'to', 'achieve', 'cv', 'mean', 'within', 'of', 'strides', 'average', 'was', 'determined', 'for', 'each', 'coupling', 'and', 'individual', 'the', 'statistical', 'outputs', 'of', 'mode', 'walking', 'vs', 'running', 'and', 'speed', 'preferred', 'vs', 'fixed', 'were', 'compared', 'when', 'informed', 'by', 'differing', 'numbers', 'of', 'trials', 'minimum', 'of', 'trials', 'were', 'required', 'for', 'stable', 'mean', 'stance', 'phase', 'cv', 'with', 'fewer', 'than', 'trials', 'cv', 'was', 'underestimated', 'and', 'led', 'to', 'an', 'oversight', 'of', 'significant', 'differences', 'between', 'mode', 'and', 'speed', 'future', 'overground', 'locomotion', 'cv', 'research', 'in', 'healthy', 'populations', 'using', 'vector', 'coding', 'approach', 'should', 'use', 'trials', 'as', 'standard', 'minimum', 'researchers', 'should', 'be', 'aware', 'of', 'the', 'notable', 'consequences', 'of', 'an', 'insufficient', 'number', 'of', 'trials', 'for', 'overall', 'study', 'findings']\n"
     ]
    }
   ],
   "source": [
    "#building the bigram and trigram models \n",
    "bigram = gensim.models.Phrases(data_words , min_count=5 , threshold=100)\n",
    "trigram = gensim.models.Phrases(bigram[data_words] , threshold=100)\n",
    "\n",
    "#faster way to get sentence clubbed as trigram/bigram\n",
    "bigram_mod = gensim.models.phrases.Phraser(bigram)\n",
    "trigram_mod = gensim.models.phrases.Phraser(trigram)\n",
    "\n",
    "#see trigram example \n",
    "print(trigram_mod[bigram_mod[data_words[0]]])"
   ]
  },
  {
   "cell_type": "markdown",
   "id": "b3ed98c6",
   "metadata": {
    "papermill": {
     "duration": 0.046605,
     "end_time": "2022-04-11T01:29:00.733775",
     "exception": false,
     "start_time": "2022-04-11T01:29:00.687170",
     "status": "completed"
    },
    "tags": []
   },
   "source": [
    "# Remove Stopwords, Make Bigrams and Lemmatize\n",
    "The bigrams model is ready. Let’s define the functions to remove the stopwords, make bigrams and lemmatization and call them sequentially."
   ]
  },
  {
   "cell_type": "code",
   "execution_count": 10,
   "id": "7cfa190b",
   "metadata": {
    "execution": {
     "iopub.execute_input": "2022-04-11T01:29:00.837760Z",
     "iopub.status.busy": "2022-04-11T01:29:00.836994Z",
     "iopub.status.idle": "2022-04-11T01:29:00.838948Z",
     "shell.execute_reply": "2022-04-11T01:29:00.839450Z",
     "shell.execute_reply.started": "2022-04-11T01:04:09.233312Z"
    },
    "papermill": {
     "duration": 0.059395,
     "end_time": "2022-04-11T01:29:00.839640",
     "exception": false,
     "start_time": "2022-04-11T01:29:00.780245",
     "status": "completed"
    },
    "tags": []
   },
   "outputs": [],
   "source": [
    "#define functions for stopwords , bigrams , trigrams , lemmatization\n",
    "def remove_stopwords(texts):\n",
    "    return [[word for word in simple_preprocess(str(doc)) if word not in stop_words] for doc in texts]\n",
    "\n",
    "def make_bigrams(texts):\n",
    "    return [bigram_mod[doc] for doc in texts]\n",
    "\n",
    "def make_trigrams(texts):\n",
    "    return [trigram_mod[bigram_mod[doc]] for doc in texts]\n",
    "\n",
    "def lemmatization(texts , allowed_postags=['NOUN', 'ADJ', 'VERB', 'ADV']):\n",
    "    texts_out = []\n",
    "    for sent in texts:\n",
    "        doc = nlp(\" \".join(sent))\n",
    "        texts_out.append([token.lemma_ for token in doc if token.pos_ in allowed_postags])\n",
    "    return texts_out        "
   ]
  },
  {
   "cell_type": "markdown",
   "id": "14ba0652",
   "metadata": {
    "papermill": {
     "duration": 0.046156,
     "end_time": "2022-04-11T01:29:00.931899",
     "exception": false,
     "start_time": "2022-04-11T01:29:00.885743",
     "status": "completed"
    },
    "tags": []
   },
   "source": [
    "**Let's call the functions in order to perform the operations**"
   ]
  },
  {
   "cell_type": "code",
   "execution_count": 11,
   "id": "1c61ed52",
   "metadata": {
    "execution": {
     "iopub.execute_input": "2022-04-11T01:29:01.029058Z",
     "iopub.status.busy": "2022-04-11T01:29:01.028380Z",
     "iopub.status.idle": "2022-04-11T01:30:18.467512Z",
     "shell.execute_reply": "2022-04-11T01:30:18.468073Z",
     "shell.execute_reply.started": "2022-04-11T01:04:09.245203Z"
    },
    "papermill": {
     "duration": 77.4903,
     "end_time": "2022-04-11T01:30:18.468259",
     "exception": false,
     "start_time": "2022-04-11T01:29:00.977959",
     "status": "completed"
    },
    "tags": []
   },
   "outputs": [
    {
     "name": "stdout",
     "output_type": "stream",
     "text": [
      "[['coordination', 'cv', 'commonly', 'analyze', 'understand', 'dynamical', 'quality', 'human', 'locomotion', 'purpose', 'study', 'develop', 'guideline', 'number', 'trial', 'require', 'inform', 'calculation', 'stable', 'mean', 'cv', 'overground', 'locomotion', 'kinematic', 'capture', 'recreational', 'runner', 'perform', 'trial', 'preferred', 'fix', 'speed', 'walk', 'run', 'stance', 'phase', 'cv', 'calculate', 'segment', 'joint', 'coupling', 'use', 'modify', 'vector', 'code', 'technique', 'number', 'trial', 'require', 'achieve', 'average', 'determine', 'couple', 'individual', 'statistical', 'output', 'mode', 'walk', 'run', 'speed', 'prefer', 'fix', 'compare', 'informed', 'differ', 'number', 'trial', 'minimum', 'trial', 'require', 'stable', 'mean', 'stance', 'phase', 'cv', 'few', 'trial', 'cv', 'underestimate', 'lead', 'oversight', 'significant', 'difference', 'mode', 'speed', 'future', 'overground', 'locomotion', 'cv', 'research', 'healthy', 'population', 'use', 'vector', 'code', 'approach', 'trial', 'standard', 'minimum', 'researcher', 'aware', 'notable', 'consequence', 'insufficient', 'number', 'trial', 'overall', 'study', 'finding']]\n"
     ]
    }
   ],
   "source": [
    "#remove stopwords\n",
    "data_words_nostops = remove_stopwords(data_words)\n",
    "\n",
    "#forming bi-grams\n",
    "data_words_bigrams = make_bigrams(data_words_nostops)\n",
    "\n",
    "# Initialize spacy 'en' model, keeping only tagger component (for efficiency)\n",
    "# python3 -m spacy download en\n",
    "nlp = spacy.load('en_core_web_sm' , disable=['parser', 'ner'])\n",
    "\n",
    "#do lemmatizayion keeping only noun, adj, vb, adv\n",
    "data_lemmatized = lemmatization(data_words_bigrams, allowed_postags=['NOUN', 'ADJ', 'VERB', 'ADV'])\n",
    "\n",
    "print(data_lemmatized[:1])\n"
   ]
  },
  {
   "cell_type": "markdown",
   "id": "a292fb64",
   "metadata": {
    "papermill": {
     "duration": 0.046437,
     "end_time": "2022-04-11T01:30:18.561474",
     "exception": false,
     "start_time": "2022-04-11T01:30:18.515037",
     "status": "completed"
    },
    "tags": []
   },
   "source": [
    "# Create the Dictionary and Corpus needed for Topic Modeling"
   ]
  },
  {
   "cell_type": "code",
   "execution_count": 12,
   "id": "7a9ce7a1",
   "metadata": {
    "execution": {
     "iopub.execute_input": "2022-04-11T01:30:18.658421Z",
     "iopub.status.busy": "2022-04-11T01:30:18.657676Z",
     "iopub.status.idle": "2022-04-11T01:30:20.092566Z",
     "shell.execute_reply": "2022-04-11T01:30:20.093086Z",
     "shell.execute_reply.started": "2022-04-11T01:05:26.526349Z"
    },
    "papermill": {
     "duration": 1.485052,
     "end_time": "2022-04-11T01:30:20.093271",
     "exception": false,
     "start_time": "2022-04-11T01:30:18.608219",
     "status": "completed"
    },
    "tags": []
   },
   "outputs": [
    {
     "name": "stdout",
     "output_type": "stream",
     "text": [
      "[[(0, 1), (1, 1), (2, 1), (3, 1), (4, 1), (5, 1), (6, 1), (7, 1), (8, 2), (9, 1), (10, 1), (11, 1), (12, 1), (13, 1), (14, 1), (15, 6), (16, 1), (17, 1), (18, 1), (19, 1), (20, 1), (21, 1), (22, 1), (23, 2), (24, 1), (25, 1), (26, 1), (27, 1), (28, 1), (29, 1), (30, 1), (31, 1), (32, 1), (33, 1), (34, 1), (35, 3), (36, 2), (37, 2), (38, 2), (39, 1), (40, 1), (41, 4), (42, 1), (43, 1), (44, 2), (45, 1), (46, 1), (47, 2), (48, 1), (49, 1), (50, 1), (51, 1), (52, 1), (53, 1), (54, 3), (55, 1), (56, 1), (57, 2), (58, 1), (59, 1), (60, 1), (61, 3), (62, 2), (63, 2), (64, 1), (65, 1), (66, 2), (67, 1), (68, 8), (69, 1), (70, 1), (71, 2), (72, 2), (73, 2)]]\n"
     ]
    }
   ],
   "source": [
    "#create Dictionary \n",
    "id2word = corpora.Dictionary(data_lemmatized)\n",
    "\n",
    "#ceate corpus\n",
    "texts = data_lemmatized\n",
    "\n",
    "#term document frequency \n",
    "corpus = [id2word.doc2bow(text) for text in texts]\n",
    "\n",
    "# View\n",
    "print(corpus[:1])"
   ]
  },
  {
   "cell_type": "markdown",
   "id": "26607499",
   "metadata": {
    "papermill": {
     "duration": 0.046884,
     "end_time": "2022-04-11T01:30:20.187175",
     "exception": false,
     "start_time": "2022-04-11T01:30:20.140291",
     "status": "completed"
    },
    "tags": []
   },
   "source": [
    "> **Gensim creates a unique id for each word in the document. The produced corpus shown above is a mapping of (word_id, word_frequency).**\n",
    "\n",
    "> **For example, (0, 1) above implies, word id 0 occurs once in the first document. Likewise, word id 1 occurs twice and so on.**"
   ]
  },
  {
   "cell_type": "code",
   "execution_count": 13,
   "id": "ac242eb7",
   "metadata": {
    "execution": {
     "iopub.execute_input": "2022-04-11T01:30:20.298273Z",
     "iopub.status.busy": "2022-04-11T01:30:20.297301Z",
     "iopub.status.idle": "2022-04-11T01:30:20.313181Z",
     "shell.execute_reply": "2022-04-11T01:30:20.312605Z",
     "shell.execute_reply.started": "2022-04-11T01:05:28.206548Z"
    },
    "papermill": {
     "duration": 0.074153,
     "end_time": "2022-04-11T01:30:20.313335",
     "exception": false,
     "start_time": "2022-04-11T01:30:20.239182",
     "status": "completed"
    },
    "tags": []
   },
   "outputs": [
    {
     "data": {
      "text/plain": [
       "[[('achieve', 1),\n",
       "  ('analyze', 1),\n",
       "  ('approach', 1),\n",
       "  ('average', 1),\n",
       "  ('aware', 1),\n",
       "  ('calculate', 1),\n",
       "  ('calculation', 1),\n",
       "  ('capture', 1),\n",
       "  ('code', 2),\n",
       "  ('commonly', 1),\n",
       "  ('compare', 1),\n",
       "  ('consequence', 1),\n",
       "  ('coordination', 1),\n",
       "  ('couple', 1),\n",
       "  ('coupling', 1),\n",
       "  ('cv', 6),\n",
       "  ('determine', 1),\n",
       "  ('develop', 1),\n",
       "  ('differ', 1),\n",
       "  ('difference', 1),\n",
       "  ('dynamical', 1),\n",
       "  ('few', 1),\n",
       "  ('finding', 1),\n",
       "  ('fix', 2),\n",
       "  ('future', 1),\n",
       "  ('guideline', 1),\n",
       "  ('healthy', 1),\n",
       "  ('human', 1),\n",
       "  ('individual', 1),\n",
       "  ('inform', 1),\n",
       "  ('informed', 1),\n",
       "  ('insufficient', 1),\n",
       "  ('joint', 1),\n",
       "  ('kinematic', 1),\n",
       "  ('lead', 1),\n",
       "  ('locomotion', 3),\n",
       "  ('mean', 2),\n",
       "  ('minimum', 2),\n",
       "  ('mode', 2),\n",
       "  ('modify', 1),\n",
       "  ('notable', 1),\n",
       "  ('number', 4),\n",
       "  ('output', 1),\n",
       "  ('overall', 1),\n",
       "  ('overground', 2),\n",
       "  ('oversight', 1),\n",
       "  ('perform', 1),\n",
       "  ('phase', 2),\n",
       "  ('population', 1),\n",
       "  ('prefer', 1),\n",
       "  ('preferred', 1),\n",
       "  ('purpose', 1),\n",
       "  ('quality', 1),\n",
       "  ('recreational', 1),\n",
       "  ('require', 3),\n",
       "  ('research', 1),\n",
       "  ('researcher', 1),\n",
       "  ('run', 2),\n",
       "  ('runner', 1),\n",
       "  ('segment', 1),\n",
       "  ('significant', 1),\n",
       "  ('speed', 3),\n",
       "  ('stable', 2),\n",
       "  ('stance', 2),\n",
       "  ('standard', 1),\n",
       "  ('statistical', 1),\n",
       "  ('study', 2),\n",
       "  ('technique', 1),\n",
       "  ('trial', 8),\n",
       "  ('underestimate', 1),\n",
       "  ('understand', 1),\n",
       "  ('use', 2),\n",
       "  ('vector', 2),\n",
       "  ('walk', 2)]]"
      ]
     },
     "execution_count": 13,
     "metadata": {},
     "output_type": "execute_result"
    }
   ],
   "source": [
    "# readable format of corpus (term-frequency)\n",
    "[[(id2word[id], freq) for id, freq in cp] for cp in corpus[:1]]"
   ]
  },
  {
   "cell_type": "markdown",
   "id": "9fd84568",
   "metadata": {
    "papermill": {
     "duration": 0.049209,
     "end_time": "2022-04-11T01:30:20.410711",
     "exception": false,
     "start_time": "2022-04-11T01:30:20.361502",
     "status": "completed"
    },
    "tags": []
   },
   "source": [
    "# **Building The Topic Model**\n",
    "***Let's try number of topics to be 10 then consider the optimal number of topics***"
   ]
  },
  {
   "cell_type": "code",
   "execution_count": 14,
   "id": "cf4fae99",
   "metadata": {
    "execution": {
     "iopub.execute_input": "2022-04-11T01:30:20.521606Z",
     "iopub.status.busy": "2022-04-11T01:30:20.520632Z",
     "iopub.status.idle": "2022-04-11T01:31:03.791420Z",
     "shell.execute_reply": "2022-04-11T01:31:03.790787Z",
     "shell.execute_reply.started": "2022-04-11T01:05:28.232331Z"
    },
    "papermill": {
     "duration": 43.332178,
     "end_time": "2022-04-11T01:31:03.791566",
     "exception": false,
     "start_time": "2022-04-11T01:30:20.459388",
     "status": "completed"
    },
    "tags": []
   },
   "outputs": [],
   "source": [
    "#Build LDA Model \n",
    "lda_model = gensim.models.ldamodel.LdaModel(corpus=corpus,\n",
    "                                           id2word=id2word,\n",
    "                                           num_topics=10,\n",
    "                                           random_state=100,\n",
    "                                           update_every=1,\n",
    "                                           chunksize=100,\n",
    "                                           passes=10,\n",
    "                                           alpha='auto',\n",
    "                                           per_word_topics=True)"
   ]
  },
  {
   "cell_type": "markdown",
   "id": "0ad8e920",
   "metadata": {
    "papermill": {
     "duration": 0.047911,
     "end_time": "2022-04-11T01:31:03.888754",
     "exception": false,
     "start_time": "2022-04-11T01:31:03.840843",
     "status": "completed"
    },
    "tags": []
   },
   "source": [
    "# **View The Topics in LDA Model**\n",
    "**the above model is built with 10 different topics where each topic is consists of variety of keywords each of these keyword has its certain weight that contributes to the topic**\n",
    "\n",
    "***let's see in the next cell the importance score of the keyword for each topic***"
   ]
  },
  {
   "cell_type": "code",
   "execution_count": 15,
   "id": "e3d3b626",
   "metadata": {
    "execution": {
     "iopub.execute_input": "2022-04-11T01:31:04.004573Z",
     "iopub.status.busy": "2022-04-11T01:31:04.003358Z",
     "iopub.status.idle": "2022-04-11T01:31:04.021974Z",
     "shell.execute_reply": "2022-04-11T01:31:04.021235Z",
     "shell.execute_reply.started": "2022-04-11T01:06:11.455546Z"
    },
    "papermill": {
     "duration": 0.082092,
     "end_time": "2022-04-11T01:31:04.022125",
     "exception": false,
     "start_time": "2022-04-11T01:31:03.940033",
     "status": "completed"
    },
    "tags": []
   },
   "outputs": [
    {
     "name": "stdout",
     "output_type": "stream",
     "text": [
      "[(0,\n",
      "  '0.018*\"water\" + 0.014*\"application\" + 0.013*\"method\" + 0.011*\"surface\" + '\n",
      "  '0.010*\"process\" + 0.009*\"implant\" + 0.009*\"use\" + 0.009*\"product\" + '\n",
      "  '0.009*\"chemical\" + 0.008*\"technique\"'),\n",
      " (1,\n",
      "  '0.037*\"effect\" + 0.030*\"mortality\" + 0.025*\"increase\" + 0.023*\"induce\" + '\n",
      "  '0.020*\"level\" + 0.019*\"stress\" + 0.014*\"high\" + 0.013*\"reduce\" + '\n",
      "  '0.011*\"concentration\" + 0.011*\"rat\"'),\n",
      " (2,\n",
      "  '0.026*\"age\" + 0.021*\"child\" + 0.020*\"exposure\" + 0.018*\"level\" + '\n",
      "  '0.017*\"associate\" + 0.016*\"effect\" + 0.016*\"high\" + 0.014*\"study\" + '\n",
      "  '0.013*\"association\" + 0.013*\"measure\"'),\n",
      " (3,\n",
      "  '0.031*\"cell\" + 0.019*\"protein\" + 0.015*\"gene\" + 0.011*\"mechanism\" + '\n",
      "  '0.010*\"expression\" + 0.010*\"human\" + 0.009*\"activity\" + 0.009*\"role\" + '\n",
      "  '0.008*\"function\" + 0.008*\"target\"'),\n",
      " (4,\n",
      "  '0.035*\"suicide\" + 0.031*\"infant\" + 0.030*\"video\" + 0.021*\"awareness\" + '\n",
      "  '0.021*\"ct\" + 0.017*\"job\" + 0.015*\"suspect\" + 0.013*\"dentist\" + '\n",
      "  '0.012*\"standard_deviation\" + 0.011*\"remission\"'),\n",
      " (5,\n",
      "  '0.017*\"use\" + 0.012*\"study\" + 0.012*\"model\" + 0.012*\"result\" + 0.010*\"base\" '\n",
      "  '+ 0.009*\"analysis\" + 0.008*\"datum\" + 0.008*\"different\" + 0.008*\"show\" + '\n",
      "  '0.007*\"also\"'),\n",
      " (6,\n",
      "  '0.080*\"patient\" + 0.021*\"risk\" + 0.019*\"disease\" + 0.017*\"clinical\" + '\n",
      "  '0.016*\"case\" + 0.015*\"year\" + 0.014*\"treatment\" + 0.013*\"cancer\" + '\n",
      "  '0.010*\"associate\" + 0.010*\"ci\"'),\n",
      " (7,\n",
      "  '0.035*\"group\" + 0.021*\"study\" + 0.016*\"compare\" + 0.016*\"treatment\" + '\n",
      "  '0.013*\"rate\" + 0.013*\"day\" + 0.012*\"time\" + 0.012*\"evaluate\" + '\n",
      "  '0.010*\"follow\" + 0.010*\"use\"'),\n",
      " (8,\n",
      "  '0.029*\"extract\" + 0.017*\"visual\" + 0.016*\"build\" + 0.015*\"construct\" + '\n",
      "  '0.014*\"fall\" + 0.012*\"placebo\" + 0.011*\"hiv\" + 0.011*\"series\" + '\n",
      "  '0.011*\"pose\" + 0.011*\"composite\"'),\n",
      " (9,\n",
      "  '0.022*\"health\" + 0.019*\"study\" + 0.010*\"care\" + 0.008*\"research\" + '\n",
      "  '0.007*\"use\" + 0.007*\"intervention\" + 0.007*\"datum\" + 0.007*\"report\" + '\n",
      "  '0.007*\"conduct\" + 0.007*\"risk\"')]\n"
     ]
    }
   ],
   "source": [
    "#print the keyword in the 10 topics \n",
    "pprint(lda_model.print_topics())\n",
    "doc_lda = lda_model[corpus]"
   ]
  },
  {
   "cell_type": "markdown",
   "id": "499d6e7a",
   "metadata": {
    "papermill": {
     "duration": 0.0478,
     "end_time": "2022-04-11T01:31:04.118361",
     "exception": false,
     "start_time": "2022-04-11T01:31:04.070561",
     "status": "completed"
    },
    "tags": []
   },
   "source": [
    "# **Compute Model Perplexity and Coherence Score**\n",
    "\n",
    "***Model perplexity and topic coherence provide a convenient measure to judge how good a given topic model is.***"
   ]
  },
  {
   "cell_type": "code",
   "execution_count": 16,
   "id": "b7e36dff",
   "metadata": {
    "execution": {
     "iopub.execute_input": "2022-04-11T01:31:04.219217Z",
     "iopub.status.busy": "2022-04-11T01:31:04.218540Z",
     "iopub.status.idle": "2022-04-11T01:31:14.099490Z",
     "shell.execute_reply": "2022-04-11T01:31:14.098921Z",
     "shell.execute_reply.started": "2022-04-11T01:06:11.483886Z"
    },
    "papermill": {
     "duration": 9.932419,
     "end_time": "2022-04-11T01:31:14.099669",
     "exception": false,
     "start_time": "2022-04-11T01:31:04.167250",
     "status": "completed"
    },
    "tags": []
   },
   "outputs": [
    {
     "name": "stdout",
     "output_type": "stream",
     "text": [
      "\n",
      "Perplexity:  -9.069331183698113\n",
      "\n",
      "Coherence Score:  0.4519818239911716\n"
     ]
    }
   ],
   "source": [
    "#Compute Perplexity\n",
    "#a measure of how good the model is , more lower more better \n",
    "print('\\nPerplexity: ' , lda_model.log_perplexity(corpus))\n",
    "\n",
    "#Compute Coherence Score \n",
    "coherence_model_lda = CoherenceModel(model=lda_model , texts=data_lemmatized , dictionary=id2word , coherence='c_v')\n",
    "coherence_lda = coherence_model_lda.get_coherence()\n",
    "print('\\nCoherence Score: ' , coherence_lda)"
   ]
  },
  {
   "cell_type": "markdown",
   "id": "5265b7ee",
   "metadata": {
    "papermill": {
     "duration": 0.049243,
     "end_time": "2022-04-11T01:31:14.198050",
     "exception": false,
     "start_time": "2022-04-11T01:31:14.148807",
     "status": "completed"
    },
    "tags": []
   },
   "source": [
    "# **Let's Now Visualize The Topics-Keywords**\n",
    "\n",
    "***Now that the LDA model is built, the next step is to examine the produced topics and the associated keywords. There is no better tool than pyLDAvis package’s interactive chart and is designed to work well with jupyter notebooks.***"
   ]
  },
  {
   "cell_type": "code",
   "execution_count": 17,
   "id": "a5bc17e1",
   "metadata": {
    "execution": {
     "iopub.execute_input": "2022-04-11T01:31:14.301361Z",
     "iopub.status.busy": "2022-04-11T01:31:14.300328Z",
     "iopub.status.idle": "2022-04-11T01:31:19.226769Z",
     "shell.execute_reply": "2022-04-11T01:31:19.227326Z",
     "shell.execute_reply.started": "2022-04-11T01:06:21.486898Z"
    },
    "papermill": {
     "duration": 4.979611,
     "end_time": "2022-04-11T01:31:19.227522",
     "exception": false,
     "start_time": "2022-04-11T01:31:14.247911",
     "status": "completed"
    },
    "tags": []
   },
   "outputs": [
    {
     "name": "stderr",
     "output_type": "stream",
     "text": [
      "/opt/conda/lib/python3.7/site-packages/pyLDAvis/_prepare.py:248: FutureWarning: In a future version of pandas all arguments of DataFrame.drop except for the argument 'labels' will be keyword-only\n",
      "  by='saliency', ascending=False).head(R).drop('saliency', 1)\n"
     ]
    },
    {
     "data": {
      "text/html": [
       "\n",
       "<link rel=\"stylesheet\" type=\"text/css\" href=\"https://cdn.jsdelivr.net/gh/bmabey/pyLDAvis@3.2.2/pyLDAvis/js/ldavis.v1.0.0.css\">\n",
       "\n",
       "\n",
       "<div id=\"ldavis_el201403045687546404038228997\"></div>\n",
       "<script type=\"text/javascript\">\n",
       "\n",
       "var ldavis_el201403045687546404038228997_data = {\"mdsDat\": {\"x\": [-0.21544130933007613, -0.2137245523036821, -0.14615431359522893, -0.15132419687412907, -0.01991461189504037, -0.04190891690271241, 0.08794959846119371, 0.15471814605107012, 0.2875283363918418, 0.25827181999676385], \"y\": [0.1279060285082297, 0.042489425300321966, -0.11446918603905278, -0.12717305979349766, 0.17406955675755784, -0.20601714615292624, 0.2561300217132697, -0.1258514176581576, -0.019299005231740916, -0.0077852174040033174], \"topics\": [1, 2, 3, 4, 5, 6, 7, 8, 9, 10], \"cluster\": [1, 1, 1, 1, 1, 1, 1, 1, 1, 1], \"Freq\": [28.786157338413354, 18.73896810993889, 12.487815656060288, 12.020566711585449, 10.274735497496554, 5.991376979344177, 5.781581192736329, 3.922449693004752, 1.5240443424147465, 0.47230447900546485]}, \"tinfo\": {\"Term\": [\"patient\", \"group\", \"cell\", \"effect\", \"health\", \"risk\", \"level\", \"age\", \"increase\", \"treatment\", \"disease\", \"protein\", \"model\", \"case\", \"high\", \"method\", \"associate\", \"year\", \"compare\", \"clinical\", \"child\", \"mortality\", \"gene\", \"study\", \"exposure\", \"use\", \"care\", \"stress\", \"time\", \"cancer\", \"model\", \"specie\", \"area\", \"environmental\", \"region\", \"distribution\", \"record\", \"temperature\", \"vaccine\", \"food\", \"muscle\", \"cluster\", \"monitor\", \"user\", \"prediction\", \"attention\", \"sensitivity\", \"variation\", \"medium\", \"sars_cov\", \"useful\", \"mainly\", \"map\", \"step\", \"employ\", \"dataset\", \"identification\", \"little\", \"noise\", \"spatial\", \"different\", \"image\", \"new\", \"set\", \"density\", \"sample\", \"accuracy\", \"base\", \"result\", \"large\", \"type\", \"provide\", \"use\", \"analysis\", \"also\", \"present\", \"describe\", \"method\", \"performance\", \"datum\", \"find\", \"test\", \"environment\", \"show\", \"approach\", \"well\", \"first\", \"study\", \"develop\", \"however\", \"high\", \"time\", \"include\", \"identify\", \"health\", \"care\", \"social\", \"people\", \"survey\", \"service\", \"public\", \"practice\", \"depression\", \"pandemic\", \"article\", \"student\", \"program\", \"country\", \"education\", \"face\", \"parent\", \"professional\", \"perception\", \"nurse\", \"psychological\", \"access\", \"perceive\", \"anxiety\", \"policy\", \"healthcare\", \"communication\", \"qualitative\", \"recommendation\", \"barrier\", \"experience\", \"self\", \"conduct\", \"issue\", \"intervention\", \"research\", \"medical\", \"support\", \"need\", \"participant\", \"cost\", \"impact\", \"study\", \"covid\", \"report\", \"community\", \"datum\", \"risk\", \"quality\", \"include\", \"use\", \"review\", \"factor\", \"identify\", \"work\", \"base\", \"diagnosis\", \"tumor\", \"severe\", \"cohort\", \"publish\", \"diagnose\", \"acute\", \"lung\", \"median\", \"chemotherapy\", \"discharge\", \"hazard\", \"stroke\", \"lesion\", \"coefficient\", \"rare\", \"admit\", \"admission\", \"intake\", \"prognostic\", \"syndrome\", \"pca\", \"failure\", \"outpatient\", \"asd\", \"prognosis\", \"onset\", \"persistent\", \"insurance\", \"headache\", \"patient\", \"cancer\", \"disease\", \"case\", \"clinical\", \"infection\", \"ci\", \"therapy\", \"risk\", \"symptom\", \"year\", \"death\", \"treatment\", \"severity\", \"covid\", \"associate\", \"early\", \"factor\", \"undergo\", \"injury\", \"outcome\", \"include\", \"treat\", \"hospital\", \"report\", \"age\", \"study\", \"high\", \"follow\", \"present\", \"analysis\", \"group\", \"safety\", \"trial\", \"exercise\", \"week\", \"incidence\", \"pain\", \"procedure\", \"complication\", \"dose\", \"fatigue\", \"match\", \"liver\", \"reach\", \"dental\", \"retrospective\", \"probability\", \"simple\", \"statistically_significant\", \"antibiotic\", \"administer\", \"force\", \"depressive_symptom\", \"right\", \"session\", \"partial\", \"interval\", \"calcium\", \"late\", \"randomize\", \"visit\", \"baseline\", \"day\", \"reduction\", \"duration\", \"efficacy\", \"period\", \"post\", \"expose\", \"month\", \"receive\", \"compare\", \"score\", \"rate\", \"evaluate\", \"mean\", \"treatment\", \"follow\", \"control\", \"time\", \"total\", \"study\", \"assess\", \"significantly\", \"difference\", \"perform\", \"use\", \"low\", \"quality\", \"result\", \"reduce\", \"test\", \"increase\", \"effect\", \"cell\", \"protein\", \"gene\", \"expression\", \"signal\", \"regulate\", \"formation\", \"mediate\", \"bind\", \"genome\", \"stability\", \"receptor\", \"mitochondrial\", \"cellular\", \"activation\", \"resistance\", \"variant\", \"dna\", \"inhibit\", \"trigger\", \"rna\", \"activate\", \"mutation\", \"dysfunction\", \"phenotype\", \"mirna\", \"transcription\", \"regulatory\", \"insertion\", \"substrate\", \"immune\", \"pathway\", \"sequence\", \"mechanism\", \"brain\", \"tissue\", \"interaction\", \"assay\", \"human\", \"role\", \"target\", \"growth\", \"activity\", \"function\", \"drug\", \"development\", \"response\", \"involve\", \"show\", \"specific\", \"suggest\", \"potential\", \"also\", \"plant\", \"adolescent\", \"exposure\", \"task\", \"meet\", \"sex\", \"soil\", \"older_adult\", \"elderly\", \"memory\", \"survivor\", \"decline\", \"physical_activity\", \"train\", \"chinese\", \"reliability\", \"dietary\", \"motor\", \"ad\", \"metabolism\", \"nutrient\", \"rural\", \"suitable\", \"dementia\", \"positively\", \"disturbance\", \"asthma\", \"gradient\", \"sustainable\", \"diabetes\", \"cognitive\", \"child\", \"female\", \"age\", \"association\", \"school\", \"adult\", \"associate\", \"male\", \"level\", \"measure\", \"old\", \"subject\", \"aged_year\", \"effect\", \"relationship\", \"change\", \"activity\", \"high\", \"year\", \"low\", \"study\", \"increase\", \"individual\", \"control\", \"difference\", \"water\", \"application\", \"surface\", \"implant\", \"product\", \"chemical\", \"fracture\", \"efficiency\", \"release\", \"matrix\", \"sensor\", \"depth\", \"zone\", \"mixed\", \"land\", \"carbon\", \"peptide\", \"operation\", \"column\", \"excellent\", \"river\", \"pac\", \"pollutant\", \"text\", \"fusion\", \"particle\", \"fiber\", \"polymer\", \"prosthetic\", \"aggregate\", \"property\", \"space\", \"device\", \"solution\", \"removal\", \"platform\", \"technology\", \"content\", \"detection\", \"technique\", \"process\", \"method\", \"explain\", \"concentration\", \"measurement\", \"field\", \"system\", \"parameter\", \"use\", \"design\", \"phase\", \"mortality\", \"induce\", \"rat\", \"membrane\", \"co\", \"cardiovascular\", \"mouse\", \"toxicity\", \"relatively\", \"plasma\", \"inflammation\", \"metal\", \"urine\", \"serum\", \"ethanol\", \"administration\", \"trail\", \"crc\", \"antioxidant\", \"inhibition\", \"vascular\", \"calculation\", \"oxygen\", \"vivo\", \"organism\", \"sodium\", \"diabetic\", \"aggression\", \"intermediate\", \"hfpef\", \"bacterial\", \"lipid\", \"stress\", \"obesity\", \"effect\", \"concentration\", \"blood\", \"increase\", \"level\", \"reduce\", \"acid\", \"cardiac\", \"high\", \"decrease\", \"cause\", \"significantly\", \"extract\", \"visual\", \"build\", \"construct\", \"fall\", \"placebo\", \"hiv\", \"pose\", \"composite\", \"compression\", \"valuable\", \"arm\", \"programme\", \"glucose\", \"channel\", \"general_population\", \"regular\", \"air\", \"easy\", \"game\", \"correct\", \"discover\", \"spectrum\", \"rank\", \"white\", \"meta_analyse\", \"predominantly\", \"oxidation\", \"color\", \"coach\", \"series\", \"transition\", \"continue\", \"suicide\", \"infant\", \"video\", \"awareness\", \"ct\", \"job\", \"suspect\", \"dentist\", \"standard_deviation\", \"remission\", \"appointment\", \"generalize\", \"selective\", \"cumulative\", \"encourage\", \"ischemic\", \"mental_illness\", \"consultation\", \"suicidal\", \"intolerance\", \"endoscopic\", \"breastfeed\", \"advocate\", \"organize\", \"actively\", \"ep\", \"odds_ratio\", \"insufficiency\", \"statistical_significance\", \"determine_whether\"], \"Freq\": [5969.0, 2355.0, 1816.0, 2233.0, 2334.0, 2204.0, 2015.0, 1297.0, 2260.0, 2063.0, 1541.0, 1132.0, 1960.0, 1345.0, 3001.0, 1418.0, 1655.0, 1809.0, 1584.0, 1497.0, 893.0, 656.0, 859.0, 6826.0, 683.0, 4675.0, 1094.0, 623.0, 1615.0, 999.0, 1959.2539062122682, 895.6231283184455, 819.6448016225149, 688.1667644006819, 673.6652376729444, 473.72844279398055, 368.1644730678514, 361.590586402106, 358.4464793238603, 345.0007252526635, 329.42291215096526, 327.3060484667006, 312.60871070851755, 309.4922781546058, 306.6244034767644, 298.7275909734504, 290.0262038810745, 286.8012575608484, 275.7344299139547, 274.88755527980584, 263.88701733087066, 262.36607713765227, 249.93151637597384, 246.04994115648503, 242.0198504217132, 241.8695684474301, 240.16126963511053, 237.0290909036608, 231.35292629940952, 228.41703345297515, 1316.1614772378036, 325.7886411914822, 906.7000798647696, 464.29767908223266, 274.9402831312479, 1032.6531651715916, 326.60907592317886, 1685.002675050316, 1953.4922867796172, 561.1575265536633, 794.2117428119407, 1162.7456907235426, 2833.9521310417076, 1510.5882116410685, 1181.9732740378856, 958.8422266861633, 564.3293271504258, 992.5499872667809, 624.4116881828227, 1327.7585654858171, 923.7254776257276, 876.879364828286, 432.79388950818276, 1251.4006590408885, 639.531551537306, 812.9543666511324, 641.7679266197239, 2019.3943514556556, 706.217164242051, 740.3519900286573, 982.1989174101943, 748.7064673664444, 782.3247273577266, 709.0680391262899, 2333.6379098943053, 1094.028824928273, 698.397017272578, 552.1673152171758, 533.1510436095648, 532.3503074687042, 527.3348009478644, 493.29940989027523, 470.9867168009866, 414.9420122395343, 409.5654078456604, 364.43818910048384, 357.4941400014738, 370.976429673505, 302.0911619025086, 299.7908878336212, 274.36355866634443, 267.05161112485183, 266.74605535720286, 250.97748842467607, 244.85939939684403, 241.0335721306221, 232.3191740634813, 226.84869708187713, 226.7452542382323, 224.77150642023815, 223.3226636462807, 222.84051563706637, 222.69817353617714, 220.2219749179975, 644.7679738965435, 456.3014434875624, 716.5721449921335, 250.78034609870508, 783.3341513346464, 841.1874116998573, 444.4147899721986, 630.5947463685627, 661.6915000854864, 690.9421093966099, 404.59485927121, 617.8097747230908, 2018.790635490129, 701.896169911846, 730.5917538386125, 445.82609360280134, 772.147684449682, 712.1665629981063, 518.5278904068831, 654.2173033216285, 784.3705581185708, 488.1473973936001, 505.1269602747972, 497.3902368008907, 452.0279161875498, 474.2738400495276, 544.8123473451292, 496.57478923152144, 419.15486821203893, 383.4208070064597, 327.20083547840403, 314.9205746898041, 282.7107964522069, 246.4458367092445, 241.83258138516302, 214.44138098840213, 210.78537453728168, 185.91625119037712, 178.70975880140222, 172.7046808210043, 170.01968392199169, 169.5662407043571, 146.7489582171586, 142.44975949487474, 136.3346784805786, 132.77347239687384, 132.16029818207684, 131.02060083146975, 130.96344869340842, 130.14826441276503, 128.07076441841036, 125.97081886118387, 123.32536537488122, 123.30007703697606, 122.68051687826365, 120.7910685123454, 5658.130751622206, 907.978785995595, 1366.8866577168492, 1167.6615555714661, 1217.592089216515, 642.5194316325843, 702.0244315898752, 502.30872415323347, 1491.1712660271787, 512.1991752103393, 1035.3229123957044, 315.28669115438595, 979.4328675700672, 234.4011389718119, 653.1927746939405, 719.2100201774299, 406.87289351849137, 618.0068334744971, 254.30840861620052, 266.4822589793501, 453.1490851778016, 637.8413939974536, 334.2153540333893, 298.999023960836, 476.5119167937145, 413.1570578478132, 681.5611975482443, 501.7053636922472, 350.21732645605385, 342.69486580207047, 341.2083169376871, 2354.120601631319, 511.5234862093959, 484.5661964778747, 468.20069599475016, 423.4837809170593, 347.896019960398, 337.8275906806144, 310.95443956674364, 297.69981535680125, 291.7099516326116, 240.85261483297083, 220.19780566916066, 202.19390231145263, 198.17641022455288, 295.4168732337722, 168.666408133999, 156.87616707095808, 153.85145990996998, 149.9986599664426, 148.8113124188336, 143.93796688180626, 141.26664508759777, 139.590329072708, 137.88415844273183, 136.4752649045297, 127.57691603711515, 120.4772680705582, 118.72729110712773, 118.41254065801172, 112.16704877504982, 281.8530745030894, 352.40041829355766, 852.8842960282614, 333.3340110761948, 223.37970166165294, 316.14378081711885, 567.968791582741, 374.6715169773124, 217.38496792320637, 592.79983626234, 448.6975103651725, 1107.558883800486, 686.4468156897839, 858.4269750557002, 789.0699135119859, 520.0621599359173, 1072.477395041156, 693.573661178958, 675.7775821104352, 791.4043477075816, 561.5319969736186, 1408.3841378835243, 556.5682627029238, 512.0493208432339, 482.31149091959264, 502.35716758356125, 688.4886048592831, 519.0365698325355, 407.8007169594479, 490.06680619648836, 401.88639397757566, 411.2062053003156, 423.90218969894994, 418.87820684796924, 1815.375639591702, 1131.781221486856, 858.9910793953347, 608.4062586827517, 363.955045730493, 267.91079755213815, 266.9788662298395, 251.49725374823143, 248.88046978158263, 237.0871249993555, 223.99455432683285, 223.61022926646282, 219.18691141457478, 209.82716433151128, 205.08819932042363, 187.5859107831549, 176.62386013023792, 160.3920653070396, 160.3506144987715, 154.32884392084682, 152.08960535996093, 144.02866382860734, 142.0875809180346, 141.85078114191612, 138.6535502664217, 138.18140156027067, 129.5530029382987, 129.29270487931186, 128.56688861637974, 126.46362280829482, 239.04530619884744, 281.389537351084, 417.72470336873596, 619.7024649519459, 347.9018541282654, 398.2221862141017, 454.6524786249925, 262.4032230982381, 577.0253527584983, 534.4458133541568, 468.66043826257237, 319.27253882286936, 540.8651699968632, 477.751792379048, 344.93201286829475, 399.71162209405543, 388.94295430915275, 269.8763821344611, 399.5998391488928, 282.0598824800204, 277.81405598574753, 270.99608277075936, 260.1089337419421, 335.54015305627297, 331.92544535657856, 681.1460650843668, 301.8037561971662, 297.1803156609748, 279.35586886403144, 251.24101881441933, 183.0439109585211, 167.55877870463323, 159.55463624574202, 157.8327851149251, 150.09794380363607, 150.01865572647358, 140.1089427748839, 125.14595903792205, 123.42075547943091, 122.71913348189939, 122.45731994988085, 122.3589056403035, 122.14586044294175, 118.95595435091688, 114.98547026429779, 111.80631724217129, 107.32708644265392, 106.63500779465721, 102.56522385152796, 100.36750984436227, 99.31448384788678, 95.4304750005902, 92.06009128099141, 309.09851230952574, 718.4945762557219, 338.437061713574, 883.8095529793382, 446.289435620764, 193.8501927395648, 288.1453649456188, 593.1420554890533, 247.19659946557982, 619.6937886955543, 426.8574997540406, 255.06371934995704, 165.90196783336341, 171.85206836826802, 549.4658054559652, 288.1339160888446, 421.4803006446486, 337.79048594591933, 530.2178103378566, 425.9073078951374, 420.36954015082165, 462.7954927948131, 300.95008895393914, 231.5144330191421, 220.4630603111057, 202.47164047731368, 589.8502341301487, 461.33254701057587, 362.00882030792906, 280.9702308807262, 278.84355956163324, 278.6369138732791, 243.5216587456856, 216.94904054427653, 172.82594390807625, 162.6210009664692, 152.1763142344522, 146.25059423581976, 145.2954492372119, 128.25604578354282, 127.28947896410102, 126.08667043558715, 117.59559574400238, 106.815365366939, 106.47145182379322, 104.69984882544071, 97.8079282380946, 97.21429874700384, 96.5803915056243, 96.08686508022569, 95.61402306116025, 93.49781220723985, 92.96558740156756, 92.68295646693085, 92.57320169559081, 92.28902953997316, 202.52989587355373, 123.4335119255628, 214.1651834431465, 151.46158444925587, 167.86670680101042, 148.804534737745, 239.700849857049, 211.99171088891976, 259.6483084075292, 260.89150913343445, 338.7023850766129, 412.69048364099103, 143.10177295448264, 209.48289306462434, 183.12769383882218, 177.0565649815037, 217.7561978094877, 164.797128693475, 280.36723198684047, 186.32078325942348, 161.87739999220432, 656.0348288723046, 515.6681528554109, 242.30976497636053, 223.58060470554628, 205.94493968843443, 191.74006116042, 185.7344921354661, 152.93236764136626, 137.07936781607418, 131.45169362326678, 123.60122923181684, 117.70051251248948, 110.41009898769425, 108.98354651397693, 103.69692183778241, 99.90371782666006, 99.74820968262212, 95.80142313260069, 92.98366235690865, 91.98487374734842, 91.42772164111781, 88.87009355534265, 88.49582217372627, 86.91059362493608, 86.44641925930895, 86.44555998389752, 86.38212371783051, 86.19460497653772, 81.81257472519341, 80.29080314790183, 143.92971845034143, 170.7047816814857, 417.9844403468431, 125.93189472909967, 817.7953092690167, 251.80355735767256, 226.33577296150906, 564.9755707392392, 454.6181463695374, 287.2237801505378, 127.5537511863917, 128.5462867556085, 308.2867738496697, 172.94030572056278, 158.7383570111199, 116.72835108796791, 251.95960882769344, 149.36073606437498, 140.881448760364, 125.92967619659213, 124.60223176846526, 100.69737135069178, 98.16382479918062, 93.88499409112521, 92.80093418500171, 92.01302576877964, 89.04092368730551, 78.42821453301498, 76.85826248477541, 72.23070639823588, 69.6456478943766, 67.72413863769407, 67.18992035193358, 66.69443458133475, 65.91087044970865, 62.646599139212725, 59.96831550591256, 59.67730475278302, 59.54623607752837, 59.43474081787, 58.34866564639226, 58.26092316501092, 57.30622237770385, 57.07433009745111, 54.22378753494934, 51.44478085879451, 94.60918633327307, 75.68530564386406, 67.21391447935483, 94.26224392496731, 82.93262768976129, 80.43715085034664, 56.28133833727791, 55.90666727128418, 45.61464157082001, 40.73932532466921, 34.28260947014322, 32.610057686869204, 29.546992078403026, 29.471948166462575, 27.255066240532116, 26.663303857853514, 23.915081117546006, 23.369823521891497, 23.127424206864173, 22.185002316859567, 21.95722534547114, 21.668862257668597, 20.435021920589584, 19.604718377492556, 19.580963613606556, 18.03148758564471, 17.42761595777359, 17.130989313621324, 14.258394378326928, 13.826802131153386, 13.689869430241046, 13.475776130303954, 13.347943438646851], \"Total\": [5969.0, 2355.0, 1816.0, 2233.0, 2334.0, 2204.0, 2015.0, 1297.0, 2260.0, 2063.0, 1541.0, 1132.0, 1960.0, 1345.0, 3001.0, 1418.0, 1655.0, 1809.0, 1584.0, 1497.0, 893.0, 656.0, 859.0, 6826.0, 683.0, 4675.0, 1094.0, 623.0, 1615.0, 999.0, 1960.1315627007523, 896.500580932894, 820.5224009254975, 689.0443994081463, 674.5427989144631, 474.60600510357204, 369.04209800567486, 362.4682445478989, 359.32404918852785, 345.878394395344, 330.3006360907021, 328.18358565978156, 313.4863538746608, 310.3699351382075, 307.5019487185991, 299.60529942018536, 290.9038027576697, 287.6788110938003, 276.6121629011926, 275.765105377103, 264.76472454281117, 263.2437431323546, 250.80910767155828, 246.92754547968656, 242.89762665493785, 242.74708053442586, 241.0388100422141, 237.90681822201063, 232.23070815084984, 229.29461401842917, 1338.0959536495614, 327.992564172652, 928.7483466309878, 474.81398677392684, 276.881434222565, 1100.2680013422234, 333.5680239184343, 2259.871267200451, 2765.0570464432044, 644.5055299298198, 980.0772071930286, 1554.9232059359947, 4675.082606693858, 2279.969795792195, 1693.6722334380006, 1339.073486361973, 678.0489180940784, 1418.8840036308118, 786.3751920904717, 2163.6189104105615, 1345.5484663599489, 1288.8568578209913, 487.7334087660718, 2302.5723449631323, 863.4561360907336, 1249.5305559889039, 943.1862122629419, 6826.3754509339915, 1153.4876506804687, 1312.4835370567348, 3001.0990491950815, 1615.22870256345, 2313.450118667877, 1772.505214381474, 2334.5327797739114, 1094.9236273901804, 699.2918450832315, 553.0622398626577, 534.0459194018605, 533.2450732878732, 528.2296306538293, 494.19425990843274, 471.88172818901324, 415.83686756009513, 410.46033063487215, 365.3330403104123, 358.38899331033576, 371.9854124609448, 302.9859733542822, 300.685721728401, 275.25848457101455, 267.94641235143774, 267.64089135313657, 251.87233181101493, 245.7543636077813, 241.9283833333919, 233.2140132404819, 227.74363799145067, 227.64003235823182, 225.666282807103, 224.2175115862639, 223.7353462580885, 223.5930470098957, 221.11694729586662, 665.7527952893137, 486.8699553839112, 918.0320835664254, 258.502965216797, 1068.0265921297632, 1203.3768908813997, 553.1572989956085, 891.9520267073098, 956.5759089140946, 1042.5847109474494, 502.27734533216034, 1007.4801991337043, 6826.3754509339915, 1355.865286149057, 1470.257613044982, 646.3771024205602, 2163.6189104105615, 2204.1142517365624, 956.3298428369579, 2313.450118667877, 4675.082606693858, 947.008915740852, 1516.6214333047024, 1772.505214381474, 760.8595470549519, 2259.871267200451, 545.6799809566136, 497.4423821993143, 420.02263118910054, 384.2884893766621, 328.0688745596909, 315.7882452836629, 283.57851302563114, 247.31348164620366, 242.70027988776354, 215.30905208880824, 211.65321430578234, 186.78460378220507, 179.57741593114955, 173.5722372566329, 170.887958071611, 170.43391295689506, 147.61652259521136, 143.31736891407954, 137.20282519853032, 133.6410401107822, 133.02796795563495, 131.88859373624348, 131.83112474442137, 131.0158943683639, 128.9384455708229, 126.83839009957472, 124.19316158370117, 124.16803262377171, 123.54842778220183, 121.65894478435573, 5969.743823320802, 999.0726453059696, 1541.2987401118737, 1345.8822364078185, 1497.2512427734878, 788.5220338189603, 871.3963864550873, 612.1722398965633, 2204.1142517365624, 687.6103470829858, 1809.801394779102, 401.01268921791774, 2063.5481466852625, 288.7377360818221, 1355.865286149057, 1655.236866970817, 732.8509105763306, 1516.6214333047024, 332.27011399527197, 364.592422570876, 1056.1613035499436, 2313.450118667877, 585.7484657652057, 475.07244289395277, 1470.257613044982, 1297.7423098952643, 6826.3754509339915, 3001.0990491950815, 1235.8526183130884, 1339.073486361973, 2279.969795792195, 2355.000459664585, 512.4035765159414, 485.446037594928, 469.08061500055976, 424.36356836307465, 348.7776046348141, 338.70735184006395, 311.83447174075394, 298.5796530641794, 292.58981881310285, 241.73254078163814, 221.0777425471369, 203.07380202334107, 199.05637007480627, 296.8159535138301, 169.5462827921197, 157.75625132561794, 154.73163289812376, 150.87862734355247, 149.6912582030596, 144.81837923581887, 142.14668633300874, 140.47123945993854, 138.76404869940242, 137.3551830289395, 128.45708943630623, 121.35726832716426, 119.60723148577948, 119.29258536419665, 113.0468144007675, 284.1572499982485, 358.4799305977356, 879.4641873185166, 341.80870294488074, 227.26369105571698, 330.60329366025445, 638.2650531973007, 422.509542031582, 232.2633094404108, 738.5757239922689, 544.4776234202079, 1584.3852207153664, 912.0368762387075, 1277.2597428615084, 1161.259228284402, 691.4903709742719, 2063.5481466852625, 1235.8526183130884, 1225.8478092890116, 1615.22870256345, 1007.4582148246084, 6826.3754509339915, 1178.369843679567, 993.4236627628884, 888.7671280808487, 1055.522844040939, 4675.082606693858, 1804.645252440624, 956.3298428369579, 2765.0570464432044, 980.3417990404361, 1288.8568578209913, 2260.4898884391096, 2233.610917713331, 1816.2384473798447, 1132.6440230638684, 859.8538682466494, 609.2690451767189, 364.81794543764215, 268.7736467652301, 267.84177992090474, 252.36046703812846, 249.74331915755113, 237.94990387093432, 224.85769740806887, 224.47303388065623, 220.049729877844, 210.68996162002418, 205.95106843578506, 188.4489204580742, 177.4866890891712, 161.25486952362232, 161.2134502966216, 155.19202201608368, 152.95238091680784, 144.89149211391157, 142.95042030552557, 142.71397731240899, 139.51645955327535, 139.04418088961202, 130.41580704262057, 130.15553213054645, 129.4308732963724, 127.3264622458889, 247.89046897959284, 301.1171143967115, 467.03830970507147, 721.3313078350745, 395.00387346546114, 484.3997745193953, 584.9809016571005, 312.75544087639526, 927.3472082085406, 846.4278279400899, 722.321332342728, 427.0086064454598, 970.6965641396455, 912.3405842756257, 599.6230348576493, 945.7358236555664, 1012.7986399360084, 484.3771230891394, 2302.5723449631323, 820.2793681239627, 841.7202227620463, 951.886407988399, 1693.6722334380006, 336.4321513529629, 332.8173679481643, 683.034756355612, 302.695735896272, 298.0725398251168, 280.24783677952826, 252.1329796119573, 183.935876995956, 168.45090533354244, 160.44664773049263, 158.72514025874983, 150.9900243792281, 150.91068422335135, 141.0011870402795, 126.03813290386812, 124.31283331789807, 123.61116708518078, 123.34943134782522, 123.25094842922613, 123.03797210446086, 119.84795244998621, 115.87757915050783, 112.69861599530283, 108.21905642223393, 107.52711382263949, 103.45729511839012, 101.25967344397652, 100.20686971511206, 96.32277093758645, 92.9521187054946, 324.6854387072414, 893.6820180069013, 417.46764507986757, 1297.7423098952643, 587.1715333940291, 258.8795626658335, 480.809943537216, 1655.236866970817, 405.72597381849954, 2015.3884420097966, 1114.6321595880927, 452.6043726801319, 214.5282772000271, 231.40658482689244, 2233.610917713331, 638.3559604523701, 1363.4007954675383, 970.6965641396455, 3001.0990491950815, 1809.801394779102, 1804.645252440624, 6826.3754509339915, 2260.4898884391096, 831.6891553805627, 1225.8478092890116, 888.7671280808487, 590.7438202999801, 462.2262127213623, 362.9024131651639, 281.86387780341784, 279.73715595652766, 279.5305089505188, 244.4155993619898, 217.8426488257423, 173.71958511391503, 163.51463861602716, 153.06992034804455, 147.14433797973138, 146.18922531658953, 129.15043741183771, 128.1831535645614, 126.98030766486683, 118.48924486685583, 107.70908348179502, 107.36502219987925, 105.59357452743694, 98.70153209667401, 98.1087111086361, 97.47421323069256, 96.98106841545929, 96.50769898907366, 94.39131917474671, 93.85912999425787, 93.57646479348666, 93.46770389938456, 93.18268025631882, 253.14180617674057, 137.5408604982523, 293.7873856111555, 183.47419512806323, 219.71485009594815, 186.54147041352968, 390.23267829715684, 336.3076439091879, 498.9924729408399, 547.2834581667946, 948.4200924859539, 1418.8840036308118, 192.46664907551585, 462.07200013507304, 341.9937147178044, 418.9723804723776, 1131.3341067336044, 385.96029333579315, 4675.082606693858, 787.4782035695713, 453.14391407581354, 656.9129727047732, 516.5462582747675, 243.18777893590624, 224.4586927105744, 206.82325103443085, 192.61812468513273, 186.61251185874715, 153.8104141937401, 137.9577702197566, 132.32974133655924, 124.47924634706882, 118.57879365971475, 111.2882684691455, 109.86159796897189, 104.57519343813054, 100.7818197223072, 100.6267943654356, 96.6801354338832, 93.86168715600996, 92.86304382368942, 92.30577168358171, 89.74886352914658, 89.37411568033919, 87.78862732869018, 87.32460545106949, 87.3237711009161, 87.26023982029777, 87.0743331727769, 82.69088034706236, 81.17977280517492, 150.67788132032774, 185.18355444775545, 623.5573225745939, 139.8670728969345, 2233.610917713331, 462.07200013507304, 430.47232045640095, 2260.4898884391096, 2015.3884420097966, 980.3417990404361, 190.88554709520855, 218.46213444740596, 3001.0990491950815, 672.3046951438438, 736.5177008058636, 993.4236627628884, 252.85429275998683, 150.25539852158252, 141.77625985039435, 126.82433060918724, 125.49684261030919, 101.59201392708698, 99.05837390904297, 94.77978483747371, 93.69560325856949, 92.90774735165365, 89.93586649383786, 79.32288291013549, 77.75283991231451, 73.12525718156688, 70.54025557712437, 68.61909308543244, 68.08478619313527, 67.58939817769138, 66.80556879655147, 63.54121323646856, 60.86308960561744, 60.57196572874577, 60.4409605394074, 60.32941205197602, 59.24327876827513, 59.15577317035974, 58.20136301298923, 57.96908339764652, 55.11833368454527, 52.339823235112384, 111.30755475277088, 121.17346839289604, 161.39786572946664, 95.1965591502725, 83.86685701145187, 81.37144773959469, 57.2157036469875, 56.841030077913516, 46.54885562380423, 41.67372641639963, 35.21727487407408, 33.54464177051581, 30.481225010409606, 30.40667355737929, 28.18969189976343, 27.597729125883134, 24.84946575169112, 24.304432525956734, 24.062014311833003, 23.119460365641466, 22.891686414561935, 22.603055095153348, 21.37010977237679, 20.539038058136924, 20.515420963473474, 18.96586796341981, 18.362340956876082, 18.06553648715872, 15.192575002832907, 14.761057605338655, 14.62435370687881, 14.410461015035178, 14.282541381211878], \"Category\": [\"Default\", \"Default\", \"Default\", \"Default\", \"Default\", \"Default\", \"Default\", \"Default\", \"Default\", \"Default\", \"Default\", \"Default\", \"Default\", \"Default\", \"Default\", \"Default\", \"Default\", \"Default\", \"Default\", \"Default\", \"Default\", \"Default\", \"Default\", \"Default\", \"Default\", \"Default\", \"Default\", \"Default\", \"Default\", \"Default\", \"Topic1\", \"Topic1\", \"Topic1\", \"Topic1\", \"Topic1\", \"Topic1\", \"Topic1\", \"Topic1\", \"Topic1\", \"Topic1\", \"Topic1\", \"Topic1\", \"Topic1\", \"Topic1\", \"Topic1\", \"Topic1\", \"Topic1\", \"Topic1\", \"Topic1\", \"Topic1\", \"Topic1\", \"Topic1\", \"Topic1\", \"Topic1\", \"Topic1\", \"Topic1\", \"Topic1\", \"Topic1\", \"Topic1\", \"Topic1\", \"Topic1\", \"Topic1\", \"Topic1\", \"Topic1\", \"Topic1\", \"Topic1\", \"Topic1\", \"Topic1\", \"Topic1\", \"Topic1\", \"Topic1\", \"Topic1\", \"Topic1\", \"Topic1\", \"Topic1\", \"Topic1\", \"Topic1\", \"Topic1\", \"Topic1\", \"Topic1\", \"Topic1\", \"Topic1\", \"Topic1\", \"Topic1\", \"Topic1\", \"Topic1\", \"Topic1\", \"Topic1\", \"Topic1\", \"Topic1\", \"Topic1\", \"Topic1\", \"Topic1\", \"Topic1\", \"Topic2\", \"Topic2\", \"Topic2\", \"Topic2\", \"Topic2\", \"Topic2\", \"Topic2\", \"Topic2\", \"Topic2\", \"Topic2\", \"Topic2\", \"Topic2\", \"Topic2\", \"Topic2\", \"Topic2\", \"Topic2\", \"Topic2\", \"Topic2\", \"Topic2\", \"Topic2\", \"Topic2\", \"Topic2\", \"Topic2\", \"Topic2\", \"Topic2\", \"Topic2\", \"Topic2\", \"Topic2\", \"Topic2\", \"Topic2\", \"Topic2\", \"Topic2\", \"Topic2\", \"Topic2\", \"Topic2\", \"Topic2\", \"Topic2\", \"Topic2\", \"Topic2\", \"Topic2\", \"Topic2\", \"Topic2\", \"Topic2\", \"Topic2\", \"Topic2\", \"Topic2\", \"Topic2\", \"Topic2\", \"Topic2\", \"Topic2\", \"Topic2\", \"Topic2\", \"Topic2\", \"Topic2\", \"Topic2\", \"Topic2\", \"Topic3\", \"Topic3\", \"Topic3\", \"Topic3\", \"Topic3\", \"Topic3\", \"Topic3\", \"Topic3\", \"Topic3\", \"Topic3\", \"Topic3\", \"Topic3\", \"Topic3\", \"Topic3\", \"Topic3\", \"Topic3\", \"Topic3\", \"Topic3\", \"Topic3\", \"Topic3\", \"Topic3\", \"Topic3\", \"Topic3\", \"Topic3\", \"Topic3\", \"Topic3\", \"Topic3\", \"Topic3\", \"Topic3\", \"Topic3\", \"Topic3\", \"Topic3\", \"Topic3\", \"Topic3\", \"Topic3\", \"Topic3\", \"Topic3\", \"Topic3\", \"Topic3\", \"Topic3\", \"Topic3\", \"Topic3\", \"Topic3\", \"Topic3\", \"Topic3\", \"Topic3\", \"Topic3\", \"Topic3\", \"Topic3\", \"Topic3\", \"Topic3\", \"Topic3\", \"Topic3\", \"Topic3\", \"Topic3\", \"Topic3\", \"Topic3\", \"Topic3\", \"Topic3\", \"Topic3\", \"Topic3\", \"Topic4\", \"Topic4\", \"Topic4\", \"Topic4\", \"Topic4\", \"Topic4\", \"Topic4\", \"Topic4\", \"Topic4\", \"Topic4\", \"Topic4\", \"Topic4\", \"Topic4\", \"Topic4\", \"Topic4\", \"Topic4\", \"Topic4\", \"Topic4\", \"Topic4\", \"Topic4\", \"Topic4\", \"Topic4\", \"Topic4\", \"Topic4\", \"Topic4\", \"Topic4\", \"Topic4\", \"Topic4\", \"Topic4\", \"Topic4\", \"Topic4\", \"Topic4\", \"Topic4\", \"Topic4\", \"Topic4\", \"Topic4\", \"Topic4\", \"Topic4\", \"Topic4\", \"Topic4\", \"Topic4\", \"Topic4\", \"Topic4\", \"Topic4\", \"Topic4\", \"Topic4\", \"Topic4\", \"Topic4\", \"Topic4\", \"Topic4\", \"Topic4\", \"Topic4\", \"Topic4\", \"Topic4\", \"Topic4\", \"Topic4\", \"Topic4\", \"Topic4\", \"Topic4\", \"Topic4\", \"Topic4\", \"Topic4\", \"Topic4\", \"Topic4\", \"Topic5\", \"Topic5\", \"Topic5\", \"Topic5\", \"Topic5\", \"Topic5\", \"Topic5\", \"Topic5\", \"Topic5\", \"Topic5\", \"Topic5\", \"Topic5\", \"Topic5\", \"Topic5\", \"Topic5\", \"Topic5\", \"Topic5\", \"Topic5\", \"Topic5\", \"Topic5\", \"Topic5\", \"Topic5\", \"Topic5\", \"Topic5\", \"Topic5\", \"Topic5\", \"Topic5\", \"Topic5\", \"Topic5\", \"Topic5\", \"Topic5\", \"Topic5\", \"Topic5\", \"Topic5\", \"Topic5\", \"Topic5\", \"Topic5\", \"Topic5\", \"Topic5\", \"Topic5\", \"Topic5\", \"Topic5\", \"Topic5\", \"Topic5\", \"Topic5\", \"Topic5\", \"Topic5\", \"Topic5\", \"Topic5\", \"Topic5\", \"Topic5\", \"Topic5\", \"Topic5\", \"Topic6\", \"Topic6\", \"Topic6\", \"Topic6\", \"Topic6\", \"Topic6\", \"Topic6\", \"Topic6\", \"Topic6\", \"Topic6\", \"Topic6\", \"Topic6\", \"Topic6\", \"Topic6\", \"Topic6\", \"Topic6\", \"Topic6\", \"Topic6\", \"Topic6\", \"Topic6\", \"Topic6\", \"Topic6\", \"Topic6\", \"Topic6\", \"Topic6\", \"Topic6\", \"Topic6\", \"Topic6\", \"Topic6\", \"Topic6\", \"Topic6\", \"Topic6\", \"Topic6\", \"Topic6\", \"Topic6\", \"Topic6\", \"Topic6\", \"Topic6\", \"Topic6\", \"Topic6\", \"Topic6\", \"Topic6\", \"Topic6\", \"Topic6\", \"Topic6\", \"Topic6\", \"Topic6\", \"Topic6\", \"Topic6\", \"Topic6\", \"Topic6\", \"Topic6\", \"Topic6\", \"Topic6\", \"Topic6\", \"Topic6\", \"Topic7\", \"Topic7\", \"Topic7\", \"Topic7\", \"Topic7\", \"Topic7\", \"Topic7\", \"Topic7\", \"Topic7\", \"Topic7\", \"Topic7\", \"Topic7\", \"Topic7\", \"Topic7\", \"Topic7\", \"Topic7\", \"Topic7\", \"Topic7\", \"Topic7\", \"Topic7\", \"Topic7\", \"Topic7\", \"Topic7\", \"Topic7\", \"Topic7\", \"Topic7\", \"Topic7\", \"Topic7\", \"Topic7\", \"Topic7\", \"Topic7\", \"Topic7\", \"Topic7\", \"Topic7\", \"Topic7\", \"Topic7\", \"Topic7\", \"Topic7\", \"Topic7\", \"Topic7\", \"Topic7\", \"Topic7\", \"Topic7\", \"Topic7\", \"Topic7\", \"Topic7\", \"Topic7\", \"Topic7\", \"Topic7\", \"Topic7\", \"Topic7\", \"Topic8\", \"Topic8\", \"Topic8\", \"Topic8\", \"Topic8\", \"Topic8\", \"Topic8\", \"Topic8\", \"Topic8\", \"Topic8\", \"Topic8\", \"Topic8\", \"Topic8\", \"Topic8\", \"Topic8\", \"Topic8\", \"Topic8\", \"Topic8\", \"Topic8\", \"Topic8\", \"Topic8\", \"Topic8\", \"Topic8\", \"Topic8\", \"Topic8\", \"Topic8\", \"Topic8\", \"Topic8\", \"Topic8\", \"Topic8\", \"Topic8\", \"Topic8\", \"Topic8\", \"Topic8\", \"Topic8\", \"Topic8\", \"Topic8\", \"Topic8\", \"Topic8\", \"Topic8\", \"Topic8\", \"Topic8\", \"Topic8\", \"Topic8\", \"Topic8\", \"Topic8\", \"Topic9\", \"Topic9\", \"Topic9\", \"Topic9\", \"Topic9\", \"Topic9\", \"Topic9\", \"Topic9\", \"Topic9\", \"Topic9\", \"Topic9\", \"Topic9\", \"Topic9\", \"Topic9\", \"Topic9\", \"Topic9\", \"Topic9\", \"Topic9\", \"Topic9\", \"Topic9\", \"Topic9\", \"Topic9\", \"Topic9\", \"Topic9\", \"Topic9\", \"Topic9\", \"Topic9\", \"Topic9\", \"Topic9\", \"Topic9\", \"Topic9\", \"Topic9\", \"Topic9\", \"Topic10\", \"Topic10\", \"Topic10\", \"Topic10\", \"Topic10\", \"Topic10\", \"Topic10\", \"Topic10\", \"Topic10\", \"Topic10\", \"Topic10\", \"Topic10\", \"Topic10\", \"Topic10\", \"Topic10\", \"Topic10\", \"Topic10\", \"Topic10\", \"Topic10\", \"Topic10\", \"Topic10\", \"Topic10\", \"Topic10\", \"Topic10\", \"Topic10\", \"Topic10\", \"Topic10\", \"Topic10\", \"Topic10\", \"Topic10\"], \"logprob\": [30.0, 29.0, 28.0, 27.0, 26.0, 25.0, 24.0, 23.0, 22.0, 21.0, 20.0, 19.0, 18.0, 17.0, 16.0, 15.0, 14.0, 13.0, 12.0, 11.0, 10.0, 9.0, 8.0, 7.0, 6.0, 5.0, 4.0, 3.0, 2.0, 1.0, -4.4222, -5.205, -5.2936, -5.4684, -5.4897, -5.8418, -6.0939, -6.112, -6.1207, -6.1589, -6.2051, -6.2116, -6.2575, -6.2675, -6.2769, -6.3029, -6.3325, -6.3437, -6.383, -6.3861, -6.427, -6.4327, -6.4813, -6.4969, -6.5135, -6.5141, -6.5212, -6.5343, -6.5585, -6.5713, -4.82, -6.2162, -5.1927, -5.862, -6.3859, -5.0626, -6.2137, -4.573, -4.4251, -5.6725, -5.3251, -4.9439, -4.0531, -4.6822, -4.9275, -5.1368, -5.6668, -5.1022, -5.5657, -4.8112, -5.1741, -5.2261, -5.9322, -4.8705, -5.5417, -5.3018, -5.5383, -4.3919, -5.4426, -5.3954, -5.1127, -5.3841, -5.3402, -5.4385, -3.818, -4.5756, -5.0244, -5.2593, -5.2944, -5.2959, -5.3054, -5.3721, -5.4184, -5.5451, -5.5581, -5.6748, -5.6941, -5.6571, -5.8625, -5.8701, -5.9587, -5.9857, -5.9869, -6.0478, -6.0725, -6.0883, -6.1251, -6.1489, -6.1494, -6.1581, -6.1646, -6.1667, -6.1674, -6.1786, -5.1043, -5.45, -4.9987, -6.0486, -4.9096, -4.8384, -5.4764, -5.1265, -5.0784, -5.0351, -5.5703, -5.147, -3.9629, -5.0194, -4.9793, -5.4733, -4.924, -5.0049, -5.3222, -5.0898, -4.9083, -5.3826, -5.3484, -5.3638, -5.4594, -5.4114, -4.8669, -4.9596, -5.1291, -5.2182, -5.3768, -5.415, -5.5229, -5.6602, -5.6791, -5.7993, -5.8165, -5.942, -5.9816, -6.0158, -6.0314, -6.0341, -6.1786, -6.2083, -6.2522, -6.2787, -6.2833, -6.292, -6.2924, -6.2987, -6.3148, -6.3313, -6.3525, -6.3527, -6.3578, -6.3733, -2.5265, -4.3561, -3.947, -4.1046, -4.0627, -4.7019, -4.6134, -4.9481, -3.86, -4.9286, -4.2249, -5.4139, -4.2804, -5.7103, -4.6855, -4.5892, -5.1588, -4.7408, -5.6288, -5.582, -5.0511, -4.7092, -5.3556, -5.4669, -5.0008, -5.1435, -4.643, -4.9493, -5.3088, -5.3305, -5.3348, -3.3653, -4.8918, -4.9459, -4.9803, -5.0807, -5.2773, -5.3067, -5.3896, -5.4331, -5.4534, -5.645, -5.7347, -5.82, -5.84, -5.4408, -6.0013, -6.0737, -6.0932, -6.1186, -6.1265, -6.1598, -6.1786, -6.1905, -6.2028, -6.2131, -6.2805, -6.3377, -6.3524, -6.355, -6.4092, -5.4878, -5.2644, -4.3806, -5.3201, -5.7203, -5.373, -4.7871, -5.2032, -5.7475, -4.7443, -5.0229, -4.1193, -4.5977, -4.3741, -4.4583, -4.8753, -4.1515, -4.5873, -4.6133, -4.4554, -4.7985, -3.879, -4.8074, -4.8908, -4.9506, -4.9099, -4.5947, -4.8772, -5.1184, -4.9347, -5.133, -5.1101, -5.0797, -5.0916, -3.4682, -3.9407, -4.2165, -4.5614, -5.0752, -5.3816, -5.3851, -5.4448, -5.4553, -5.5038, -5.5607, -5.5624, -5.5823, -5.626, -5.6488, -5.738, -5.7983, -5.8947, -5.8949, -5.9332, -5.9478, -6.0023, -6.0158, -6.0175, -6.0403, -6.0437, -6.1082, -6.1102, -6.1158, -6.1323, -5.4956, -5.3325, -4.9374, -4.543, -5.1204, -4.9853, -4.8527, -5.4024, -4.6144, -4.691, -4.8224, -5.2062, -4.6791, -4.8032, -5.1289, -4.9815, -5.0088, -5.3743, -4.9818, -5.3302, -5.3453, -5.3702, -5.4112, -4.6172, -4.628, -3.9091, -4.7231, -4.7386, -4.8004, -4.9065, -5.2232, -5.3116, -5.3605, -5.3714, -5.4216, -5.4221, -5.4905, -5.6034, -5.6173, -5.623, -5.6251, -5.6259, -5.6277, -5.6542, -5.6881, -5.7161, -5.757, -5.7635, -5.8024, -5.8241, -5.8346, -5.8745, -5.9105, -4.6992, -3.8557, -4.6086, -3.6487, -4.3319, -5.1658, -4.7694, -4.0475, -4.9227, -4.0037, -4.3765, -4.8914, -5.3215, -5.2863, -4.124, -4.7695, -4.3891, -4.6105, -4.1596, -4.3787, -4.3918, -4.2956, -4.726, -4.9883, -5.0372, -5.1223, -4.0174, -4.2631, -4.5056, -4.759, -4.7666, -4.7674, -4.9021, -5.0176, -5.245, -5.3058, -5.3722, -5.4119, -5.4185, -5.5432, -5.5508, -5.5603, -5.63, -5.7262, -5.7294, -5.7462, -5.8143, -5.8203, -5.8269, -5.832, -5.8369, -5.8593, -5.865, -5.8681, -5.8693, -5.8723, -5.0864, -5.5816, -5.0305, -5.3769, -5.2741, -5.3946, -4.9179, -5.0407, -4.8379, -4.8332, -4.5721, -4.3746, -5.4337, -5.0526, -5.1871, -5.2208, -5.0139, -5.2925, -4.7612, -5.1698, -5.3104, -3.5231, -3.7638, -4.5191, -4.5995, -4.6817, -4.7532, -4.785, -4.9793, -5.0887, -5.1307, -5.1922, -5.2412, -5.3051, -5.3181, -5.3678, -5.4051, -5.4067, -5.447, -5.4769, -5.4877, -5.4938, -5.5221, -5.5263, -5.5444, -5.5498, -5.5498, -5.5505, -5.5527, -5.6049, -5.6236, -5.04, -4.8694, -3.9739, -5.1736, -3.3027, -4.4807, -4.5873, -3.6725, -3.8898, -4.349, -5.1608, -5.153, -4.2783, -4.8564, -4.942, -5.2495, -3.5347, -4.0576, -4.116, -4.2282, -4.2388, -4.4518, -4.4773, -4.5219, -4.5335, -4.542, -4.5749, -4.7018, -4.722, -4.7841, -4.8205, -4.8485, -4.8564, -4.8638, -4.8756, -4.9264, -4.9701, -4.975, -4.9772, -4.9791, -4.9975, -4.999, -5.0155, -5.0196, -5.0708, -5.1234, -4.5142, -4.7374, -4.8561, -3.3464, -3.4744, -3.505, -3.8621, -3.8688, -4.0722, -4.1853, -4.3578, -4.4078, -4.5065, -4.509, -4.5872, -4.6092, -4.7179, -4.741, -4.7514, -4.793, -4.8034, -4.8166, -4.8752, -4.9167, -4.9179, -5.0003, -5.0344, -5.0516, -5.2351, -5.2658, -5.2758, -5.2916, -5.3011], \"loglift\": [30.0, 29.0, 28.0, 27.0, 26.0, 25.0, 24.0, 23.0, 22.0, 21.0, 20.0, 19.0, 18.0, 17.0, 16.0, 15.0, 14.0, 13.0, 12.0, 11.0, 10.0, 9.0, 8.0, 7.0, 6.0, 5.0, 4.0, 3.0, 2.0, 1.0, 1.2448, 1.2443, 1.2442, 1.244, 1.244, 1.2434, 1.2429, 1.2429, 1.2428, 1.2427, 1.2426, 1.2426, 1.2425, 1.2424, 1.2424, 1.2423, 1.2423, 1.2422, 1.2421, 1.2421, 1.242, 1.2419, 1.2418, 1.2417, 1.2417, 1.2417, 1.2416, 1.2416, 1.2415, 1.2414, 1.2287, 1.2385, 1.2212, 1.2229, 1.2382, 1.1819, 1.2242, 0.9517, 0.8978, 1.1068, 1.035, 0.9546, 0.7447, 0.8336, 0.8856, 0.9113, 1.0617, 0.8879, 1.0147, 0.757, 0.8691, 0.8601, 1.1258, 0.6355, 0.9451, 0.8154, 0.8602, 0.0273, 0.7547, 0.6727, 0.1283, 0.4764, 0.1611, 0.3291, 1.6742, 1.6737, 1.6733, 1.6729, 1.6729, 1.6729, 1.6729, 1.6728, 1.6727, 1.6724, 1.6724, 1.6721, 1.6721, 1.6718, 1.6716, 1.6716, 1.6713, 1.6712, 1.6712, 1.671, 1.6709, 1.6709, 1.6707, 1.6706, 1.6706, 1.6706, 1.6706, 1.6706, 1.6706, 1.6705, 1.6425, 1.6097, 1.4268, 1.6442, 1.3646, 1.3165, 1.4557, 1.3278, 1.306, 1.2632, 1.4583, 1.1855, 0.4563, 1.0162, 0.9752, 1.3031, 0.6442, 0.5448, 1.0625, 0.4115, -0.1106, 1.0119, 0.5751, 0.4038, 1.1539, 0.1133, 2.0788, 2.0787, 2.0783, 2.0782, 2.0778, 2.0777, 2.0774, 2.0769, 2.0768, 2.0764, 2.0763, 2.0758, 2.0756, 2.0754, 2.0753, 2.0753, 2.0745, 2.0743, 2.0741, 2.0739, 2.0739, 2.0738, 2.0738, 2.0738, 2.0737, 2.0736, 2.0734, 2.0734, 2.0734, 2.0733, 2.0268, 1.9848, 1.9603, 1.9384, 1.8737, 1.8757, 1.8643, 1.8826, 1.6897, 1.7859, 1.5219, 1.8399, 1.3352, 1.8719, 1.3501, 1.2469, 1.492, 1.1827, 1.813, 1.7669, 1.2342, 0.792, 1.5193, 1.6174, 0.9537, 0.9359, -0.2237, 0.2917, 0.8195, 0.7175, 0.181, 2.1182, 2.1168, 2.1167, 2.1167, 2.1165, 2.116, 2.116, 2.1157, 2.1156, 2.1155, 2.1149, 2.1146, 2.1142, 2.1141, 2.1138, 2.1133, 2.113, 2.1128, 2.1127, 2.1127, 2.1125, 2.1123, 2.1123, 2.1122, 2.1121, 2.1117, 2.1113, 2.1112, 2.1111, 2.1107, 2.1104, 2.1014, 2.0879, 2.0934, 2.1013, 2.0738, 2.0019, 1.9984, 2.0523, 1.8987, 1.9251, 1.7605, 1.8344, 1.7212, 1.7321, 1.8337, 1.4641, 1.5409, 1.523, 1.4051, 1.534, 0.5402, 1.3685, 1.4558, 1.5073, 1.3761, 0.203, 0.8724, 1.2662, 0.3883, 1.2268, 0.9761, 0.4447, 0.4448, 2.275, 2.2747, 2.2745, 2.2741, 2.2731, 2.2723, 2.2723, 2.2721, 2.272, 2.2718, 2.2716, 2.2716, 2.2716, 2.2714, 2.2713, 2.2709, 2.2706, 2.2701, 2.2701, 2.2699, 2.2698, 2.2695, 2.2694, 2.2694, 2.2693, 2.2693, 2.2688, 2.2688, 2.2688, 2.2687, 2.2391, 2.2077, 2.1639, 2.1236, 2.1485, 2.0796, 2.0234, 2.0999, 1.801, 1.8157, 1.8429, 1.9847, 1.6906, 1.6286, 1.7225, 1.4143, 1.3184, 1.6906, 0.5242, 1.208, 1.167, 1.0191, 0.4019, 2.8122, 2.8122, 2.8121, 2.8119, 2.8119, 2.8117, 2.8113, 2.81, 2.8095, 2.8093, 2.8092, 2.8089, 2.8089, 2.8085, 2.8077, 2.8076, 2.8076, 2.8076, 2.8076, 2.8076, 2.8074, 2.8071, 2.8069, 2.8066, 2.8065, 2.8062, 2.806, 2.8059, 2.8055, 2.8052, 2.7657, 2.5967, 2.605, 2.4307, 2.5405, 2.5256, 2.3028, 1.7886, 2.3194, 1.6355, 1.855, 2.2413, 2.5578, 2.5173, 1.4124, 2.0194, 1.6409, 1.7593, 1.0814, 1.3681, 1.3579, 0.1236, 0.7985, 1.536, 1.0992, 1.3356, 2.849, 2.8486, 2.848, 2.8473, 2.8473, 2.8473, 2.8468, 2.8464, 2.8453, 2.845, 2.8446, 2.8444, 2.8444, 2.8435, 2.8435, 2.8434, 2.8429, 2.8422, 2.8421, 2.842, 2.8414, 2.8413, 2.8413, 2.8412, 2.8412, 2.841, 2.8409, 2.8409, 2.8409, 2.8409, 2.6274, 2.7423, 2.5344, 2.6588, 2.5813, 2.6245, 2.3631, 2.389, 2.1972, 2.1096, 1.8208, 1.6156, 2.5541, 2.0594, 2.2259, 1.9892, 1.2027, 1.9995, 0.0366, 1.4091, 1.8211, 3.2371, 3.2368, 3.2348, 3.2345, 3.2342, 3.2339, 3.2337, 3.2327, 3.2321, 3.2318, 3.2314, 3.231, 3.2305, 3.2304, 3.23, 3.2297, 3.2297, 3.2293, 3.2291, 3.229, 3.2289, 3.2286, 3.2286, 3.2284, 3.2283, 3.2283, 3.2283, 3.2283, 3.2278, 3.2274, 3.1926, 3.157, 2.8385, 3.1335, 2.2337, 2.6314, 2.5956, 1.8519, 1.7493, 2.0108, 2.8353, 2.7081, 0.9628, 1.8807, 1.7038, 1.0971, 4.1803, 4.1778, 4.1775, 4.1767, 4.1766, 4.175, 4.1747, 4.1743, 4.1742, 4.1741, 4.1738, 4.1725, 4.1722, 4.1715, 4.171, 4.1707, 4.1706, 4.1705, 4.1703, 4.1696, 4.169, 4.1689, 4.1689, 4.1689, 4.1686, 4.1686, 4.1683, 4.1682, 4.1674, 4.1666, 4.0213, 3.7132, 3.3078, 5.3454, 5.3441, 5.3438, 5.3388, 5.3387, 5.335, 5.3326, 5.3284, 5.327, 5.3242, 5.3241, 5.3216, 5.3209, 5.317, 5.3161, 5.3157, 5.314, 5.3136, 5.3131, 5.3106, 5.3087, 5.3087, 5.3048, 5.3031, 5.3022, 5.2918, 5.2899, 5.2893, 5.2882, 5.2876]}, \"token.table\": {\"Topic\": [2, 1, 7, 7, 8, 5, 5, 10, 2, 5, 6, 3, 6, 4, 8, 3, 3, 6, 2, 3, 4, 6, 10, 3, 6, 2, 3, 6, 7, 8, 9, 1, 2, 3, 5, 8, 1, 2, 3, 4, 5, 4, 8, 2, 7, 10, 1, 2, 5, 7, 1, 9, 2, 3, 1, 5, 1, 2, 3, 4, 6, 1, 2, 3, 5, 6, 2, 3, 6, 6, 1, 10, 6, 8, 2, 1, 2, 7, 3, 4, 5, 1, 3, 4, 8, 3, 5, 6, 10, 9, 4, 8, 3, 5, 7, 3, 8, 8, 2, 1, 3, 1, 3, 8, 5, 5, 1, 2, 4, 5, 6, 8, 9, 7, 3, 2, 6, 6, 2, 3, 2, 3, 4, 1, 8, 9, 3, 2, 6, 3, 9, 7, 2, 2, 6, 1, 3, 4, 4, 9, 9, 7, 8, 1, 2, 3, 4, 9, 10, 2, 6, 7, 3, 9, 1, 4, 5, 6, 9, 1, 2, 2, 2, 3, 8, 10, 10, 1, 1, 2, 3, 3, 4, 8, 2, 3, 6, 1, 4, 5, 6, 8, 6, 1, 5, 2, 4, 10, 2, 4, 7, 1, 2, 3, 1, 2, 7, 1, 3, 7, 10, 1, 2, 3, 7, 1, 2, 5, 4, 7, 6, 8, 3, 3, 6, 1, 4, 6, 1, 5, 7, 3, 9, 1, 2, 3, 5, 8, 1, 6, 5, 4, 2, 3, 5, 8, 3, 4, 5, 1, 2, 3, 6, 9, 2, 1, 2, 4, 5, 6, 8, 3, 4, 7, 6, 1, 10, 10, 1, 2, 6, 1, 10, 8, 1, 2, 3, 4, 8, 7, 4, 2, 3, 7, 9, 4, 7, 1, 6, 5, 9, 2, 1, 2, 3, 5, 6, 3, 9, 4, 1, 3, 6, 7, 1, 2, 7, 1, 2, 3, 4, 5, 6, 1, 3, 4, 1, 2, 3, 4, 1, 4, 5, 7, 4, 5, 6, 7, 9, 5, 9, 10, 5, 9, 6, 4, 1, 5, 6, 3, 3, 2, 2, 8, 1, 2, 3, 4, 6, 7, 8, 9, 2, 3, 1, 2, 3, 4, 5, 8, 1, 5, 1, 1, 2, 3, 5, 1, 9, 3, 5, 1, 2, 4, 6, 7, 4, 1, 2, 3, 4, 5, 1, 2, 3, 4, 5, 6, 7, 8, 1, 2, 6, 8, 10, 1, 3, 8, 5, 8, 3, 4, 8, 5, 10, 3, 3, 1, 2, 5, 8, 4, 2, 4, 10, 2, 3, 5, 10, 2, 7, 10, 7, 1, 3, 4, 4, 3, 1, 2, 4, 5, 6, 8, 7, 8, 1, 4, 1, 2, 3, 4, 6, 7, 8, 3, 1, 1, 3, 6, 1, 4, 7, 1, 2, 3, 4, 6, 1, 2, 4, 6, 4, 6, 7, 1, 2, 5, 3, 5, 2, 3, 1, 6, 8, 6, 10, 9, 6, 8, 1, 2, 4, 7, 5, 5, 7, 1, 1, 3, 4, 8, 6, 8, 1, 5, 1, 2, 3, 4, 1, 5, 1, 2, 6, 2, 8, 10, 2, 3, 6, 6, 3, 7, 8, 10, 2, 3, 4, 3, 9, 8, 7, 4, 2, 1, 4, 7, 8, 2, 4, 2, 4, 6, 7, 2, 5, 3, 4, 3, 2, 7, 2, 2, 1, 3, 4, 1, 6, 7, 1, 2, 4, 3, 2, 4, 5, 7, 5, 6, 9, 6, 8, 4, 7, 2, 7, 7, 9, 6, 2, 4, 1, 2, 3, 5, 7, 8, 2, 1, 9, 1, 3, 5, 4, 4, 1, 2, 5, 7, 7, 2, 3, 3, 2, 9, 5, 7, 7, 5, 1, 2, 5, 2, 2, 3, 2, 1, 2, 4, 4, 9, 3, 8, 1, 2, 3, 4, 4, 2, 3, 4, 5, 2, 1, 1, 2, 4, 5, 7, 8, 4, 8, 1, 9, 5, 5, 1, 2, 6, 8, 7, 6, 10, 4, 7, 1, 2, 3, 1, 2, 5, 1, 2, 3, 5, 6, 1, 2, 4, 5, 7, 8, 4, 1, 2, 3, 4, 2, 3, 7, 5, 2, 3, 5, 6, 4, 1, 6, 1, 2, 6, 2, 3, 4, 6, 10, 2, 4, 6, 1, 7, 1, 5, 2, 9, 8, 2, 4, 1, 2, 3, 3, 4, 6, 1, 3, 4, 5, 6, 7, 5, 1, 3, 4, 5, 6, 8, 4, 2, 8, 6, 2, 7, 2, 7, 1, 1, 1, 2, 3, 5, 9, 5, 10, 10, 4, 1, 1, 8, 3, 2, 1, 2, 3, 4, 5, 6, 8, 1, 6, 5, 1, 2, 4, 5, 6, 10, 10, 6, 1, 2, 7, 2, 6, 10, 6, 2, 3, 4, 3, 1, 2, 5, 7, 1, 2, 3, 5, 6, 1, 4, 7, 2, 7, 1, 1, 4, 7, 3, 4, 5, 1, 2, 4, 6, 3, 5, 1, 2, 3, 4, 6, 8, 8, 6, 5, 2, 9, 3, 4, 5, 8, 3, 4, 8, 4, 5, 3, 1, 3, 5, 3, 4, 8, 1, 2, 3, 4, 5, 6, 7, 1, 1, 1, 9, 5, 1, 8, 10, 3, 4, 9, 8, 7, 4, 1, 2, 3, 4, 5, 9, 1, 2, 7, 2, 3, 4, 6, 7], \"Freq\": [0.9961625695976626, 0.9803097915643127, 0.01798733562503326, 0.33004070218358283, 0.6705588869761683, 0.9938471741790699, 0.9953820660266125, 0.9410182759910772, 0.09374711249818397, 0.5573317347419509, 0.3482035607075405, 0.9979599546543259, 0.9898503951071463, 0.9943489269791769, 0.9922424528108202, 0.9908080302892713, 0.9958234851737975, 0.9975440946690871, 0.11023066538535024, 0.10399119375976439, 0.1851043248923806, 0.5989892760562429, 0.9490733582410931, 0.31824499891148006, 0.6811830000914004, 0.1642131317413743, 0.09074936227812791, 0.7432804910399048, 0.9873079390605035, 0.9876618845803257, 0.9912797244304223, 0.6978918214893607, 0.08915538497875929, 0.02302688751107028, 0.1535125834071352, 0.036016413799366334, 0.6627280777090252, 0.11929982603365642, 0.14956338484366485, 0.03640399103232898, 0.03201796801638573, 0.9953821070691925, 0.9908196072101524, 0.9967347584415132, 0.9973471588421112, 0.9537379991690045, 0.7412073100755029, 0.19688319173880545, 0.019688319173880545, 0.04285104761374001, 0.999363331305875, 0.9833228084809502, 0.9988785015249583, 0.992721755201342, 0.15986932108963886, 0.8377152425097077, 0.0347938299846284, 0.3038095398657797, 0.04073423998200398, 0.4726869097911712, 0.14766161993476443, 0.02718644134742643, 0.09243390058124987, 0.434378918417769, 0.08760075545281851, 0.35825688264497496, 0.013624638704396277, 0.22480653862253858, 0.7595736077700924, 0.9875599693230943, 0.9979796771907681, 0.9787522730736965, 0.03982004490257289, 0.9556810776617495, 0.9949486128968121, 0.7456176926783061, 0.20974646072968375, 0.044250308170819354, 0.01394778221381296, 0.9819238678524322, 0.9970236674996611, 0.032522416273261745, 0.4042071736819674, 0.034845446007066155, 0.5250047198397968, 0.037974311159031174, 0.8810040188895233, 0.07848024306199776, 0.9748764129972691, 0.9945247543473534, 0.9949231206321193, 0.9916560110100628, 0.9088428196549428, 0.09008353939311108, 0.9922798449389956, 0.40739325478588356, 0.5904913468244829, 0.996790931870284, 0.999156445831403, 0.13151224914923898, 0.8678322429735092, 0.3788096330810938, 0.40460670486797834, 0.2158807586376126, 0.9993181251164288, 0.99672522784323, 0.20830265094763314, 0.13202280693864074, 0.2552440934147054, 0.0924159648570485, 0.3087866762287097, 0.002933840154192016, 0.992341173522774, 0.998102142937776, 0.993920125159121, 0.19470012431049755, 0.8034177543387198, 0.9917633427285064, 0.19394158918595705, 0.8056035243108984, 0.07346796373081481, 0.8134907256739312, 0.11287350791370639, 0.9963935257231038, 0.9960195431107801, 0.9744014566290404, 0.994803858144066, 0.04619856085854539, 0.9516903536860349, 0.9966470778795584, 0.9797103139774553, 0.9872861554730737, 0.9945699531778298, 0.6899996895462637, 0.3094169011418223, 0.25057037569483914, 0.049861611284363457, 0.6993248772541103, 0.9980586317311622, 0.9925759242229344, 0.9902295838880061, 0.4523104623065346, 0.545369552637544, 0.02287501752489734, 0.7810184554929235, 0.005446432744023176, 0.19062514604081116, 0.9935002171489677, 0.9610475873898607, 0.231930499983111, 0.13677952563106546, 0.6303752050823016, 0.5762157980198176, 0.4151232093261052, 0.17865186717347842, 0.551455078581148, 0.08973381456202112, 0.17946762912404224, 0.985819162135703, 0.19312039633372885, 0.8063274279913422, 0.9973509378918232, 0.5177505517482698, 0.48161126822168115, 0.9929650963889235, 0.9852038206070387, 0.9658155326082489, 0.9969223912692128, 0.6137864637853452, 0.35680960093545666, 0.029117881941624055, 0.026152287189916083, 0.969908737956453, 0.0022741119295579203, 0.2119633674579545, 0.7855113029324196, 0.9934431139851893, 0.0014874208186007741, 0.5607576486124919, 0.05503457028822864, 0.12494334876246502, 0.25732380161793394, 0.9887352887510164, 0.9932049101527961, 0.0036116542187374402, 0.003369091142715161, 0.9938818871009726, 0.9654352905377639, 0.9981314635928008, 0.9966452957790485, 0.9922230240358347, 0.8317983923421668, 0.11356112803252986, 0.05309351440481916, 0.1930212154584051, 0.5701745114527887, 0.23619701365304832, 0.44690052875093905, 0.030060573682798592, 0.5210499438351756, 0.910202158916969, 0.6120568344043514, 0.18118962944831365, 0.14304444430130026, 0.06328632990299951, 0.31615594177692347, 0.2611722997287629, 0.4229510926781585, 0.26890194701742925, 0.7284179324269603, 0.9897568907653278, 0.985557685574861, 0.9975038802253237, 0.998753883264287, 0.9950557291902307, 0.22840628730086612, 0.5423242880739777, 0.2272811331762313, 0.9834870185585001, 0.012704619540649317, 0.0037366528060733283, 0.9969137520168315, 0.9905572533124127, 0.005190427911087066, 0.0116784627999459, 0.8869143693070025, 0.09537411286622485, 0.0006488034888858833, 0.9987231406744637, 0.9955798658966792, 0.9922180984218992, 0.9979841444398323, 0.030018860106455394, 0.39191289583427874, 0.5753614853737284, 0.001667714450358633, 0.01320052484435143, 0.981239013430123, 0.9949971451580664, 0.32203002901968725, 0.047758690744445144, 0.5553653466568336, 0.07504937116984237, 0.9879415921297708, 0.9967458118824224, 0.081482409741408, 0.072080593232784, 0.18758862462445028, 0.04656137699509028, 0.24579034586831314, 0.36622313828830627, 0.04234682554126985, 0.9558283479315195, 0.9961318464025088, 0.997323224041749, 0.9963045062757528, 0.94632943910278, 0.9737554379805351, 0.8877800704599196, 0.09021321732156226, 0.020503003936718698, 0.9984842785036154, 0.921502773386965, 0.9944997143278455, 0.26781272641377324, 0.0034445366741321314, 0.04736237926931681, 0.679434858972563, 0.0017222683370660657, 0.9943786870546493, 0.997696312817023, 0.9688280763728597, 0.03004118066272433, 0.7429858663143909, 0.2545895625832528, 0.9342844572516231, 0.06027641659687891, 0.0014640543408589953, 0.9970210061249758, 0.9979171021623939, 0.9966214029801038, 0.9977194735936933, 0.05472690691120187, 0.33297696373683067, 0.40748468037497293, 0.08110131988045578, 0.12330038063126204, 0.9936955347530209, 0.9960409951360133, 0.9969696227935657, 0.0023953952163375094, 0.18444543165798824, 0.8096435831220782, 0.9908466017710751, 0.5274810710692427, 0.04773584353567807, 0.42246221529075095, 0.6867088203070494, 0.05648254366161878, 0.03641637683446474, 0.08546700685639684, 0.05499616093368145, 0.08026466730861616, 0.6806715276930096, 0.05089132917330914, 0.2682397141843169, 0.1019539046427617, 0.052595268268091355, 0.2832052906743381, 0.5615556335085446, 0.9974603953019974, 0.9919330772838251, 0.9968571747053304, 0.9982996201425987, 0.27730872040606996, 0.5239271476446697, 0.19839082368971803, 0.994739290290911, 0.9914824850061577, 0.999006961207966, 0.990977830548392, 0.9577969172563601, 0.9960079669901881, 0.9846119217225737, 0.9879562177868325, 0.9995751764461535, 0.0468374634564995, 0.747057542131167, 0.20374296603577283, 0.9957994194043962, 0.9945836717100931, 0.9997717831257169, 0.9970474862313724, 0.9854671580812836, 0.3272134587705061, 0.059644815804399794, 0.1672720532615011, 0.12562064557686436, 0.17660196858285973, 0.04065177390020545, 0.1026290685349449, 0.9893156543230279, 0.3683648728054388, 0.6293776969647211, 0.563816595870956, 0.10209651871176771, 0.10362034734925679, 0.0670484600495191, 0.10666800462423492, 0.05561974526835107, 0.37742066499141547, 0.6222049248572764, 0.9956902789138722, 0.39999882327421515, 0.2803940975561141, 0.17997126181167084, 0.13935078892627806, 0.9939249715075762, 0.0030488496058514608, 0.032272317822185356, 0.9641354949377875, 0.3047206290148215, 0.613411559384885, 0.07444315041078702, 0.005955452032862961, 0.9969351241097295, 0.9977704857637626, 0.3380232811979921, 0.2826946622806737, 0.2757785849160089, 0.09898635728176494, 0.0043225483529155, 0.15483369414303305, 0.16014227794222277, 0.06856920740620036, 0.1875699609047029, 0.04158390642698602, 0.13315697696300843, 0.003981437849392279, 0.24994582054518194, 0.4689251957620447, 0.2524981823334087, 0.2789503728635753, 0.9989424794662302, 0.989663890572011, 0.18388833004163216, 0.8154496290811688, 0.9961499899691503, 0.992473020741204, 0.9907062725046144, 0.7295818111751627, 0.20022357975859728, 0.06856971909541003, 0.9966710160767766, 0.9573072616135415, 0.9955610298564979, 0.9912332330125867, 0.04786481049327115, 0.1743646667969163, 0.7778031705156561, 0.9916450236814185, 0.9888159288201409, 0.7331278132678433, 0.2659109820792688, 0.9358866291764301, 0.2952245124377682, 0.1465800026788919, 0.5574169115957861, 0.9558634494157567, 0.9709753224281024, 0.02707899305576381, 0.98820904152317, 0.9907698201233169, 0.8704347347664919, 0.0558567744235182, 0.07292412216403765, 0.9891645791710321, 0.9967031751985381, 0.1453814033526028, 0.11660283204048348, 0.15927450674466043, 0.04564876828818928, 0.30763300368127555, 0.22576293012093612, 0.07560066573811079, 0.9234081315154961, 0.9961883470646713, 0.9947122572550365, 0.21278420203675696, 0.0731445694501352, 0.1418561346911713, 0.28759114806530434, 0.23273272097770292, 0.04710066972167797, 0.004433004209099103, 0.9946890010303495, 0.9952753174014499, 0.1306300395342927, 0.25879536134152326, 0.6087852785843453, 0.9967740100067745, 0.9951250517816957, 0.9968526449962951, 0.00144615173540458, 0.0433845520621374, 0.02313842776647328, 0.7519989024103816, 0.1793228151901679, 0.15251668322832415, 0.183020019873989, 0.2817072854923164, 0.3830860219911436, 0.21053018491702602, 0.2514666097620033, 0.5350975533307745, 0.09288380980036279, 0.04713506765988559, 0.8595218220332078, 0.9971146309015902, 0.9946090326504154, 0.8026649938565213, 0.19524283634347817, 0.9977869270289055, 0.996401748964376, 0.9979564493357989, 0.9972162227331612, 0.9515793038446031, 0.9804622083624656, 0.99156380679308, 0.9951189108789915, 0.6998457925094593, 0.004933454730680982, 0.0042286754834408415, 0.29107382911017793, 0.9924902942148942, 0.9952295788846152, 0.9910922685598874, 0.9994227108413105, 0.9984485644473851, 0.19632380985421855, 0.8028966844382869, 0.9986102075271643, 0.9890600926726606, 0.9967177342363261, 0.9960622658615016, 0.9933513990130687, 0.15576390604394885, 0.6920517167858666, 0.14217376659044995, 0.009408558083191541, 0.9765831651707597, 0.02261107659160524, 0.9947004934849081, 0.9965366112079771, 0.9929247648153182, 0.09294539258413925, 0.9008553435078112, 0.9484415259606194, 0.24745673431474668, 0.18559255073606, 0.5634059575916107, 0.9949119388167184, 0.9903926949883064, 0.9934166789014144, 0.9848312460820484, 0.9258078825529089, 0.25185546857845226, 0.4289117566392439, 0.31813322346751866, 0.9922460219558735, 0.9832827545159035, 0.9846251269746384, 0.9886991573316214, 0.9979116135619106, 0.9979875099458944, 0.1425017053558639, 0.35754973343834945, 0.42750511606759173, 0.07254632272662162, 0.9954279899020156, 0.9964416955240694, 0.6627758806975534, 0.17456615092178687, 0.16209714014165924, 0.9852600939693303, 0.06309837299705306, 0.9331917269564164, 0.9477793633115419, 0.052096037820765204, 0.9932625429457491, 0.9980793484239286, 0.9958709765818359, 0.9947944241273784, 0.9976054056990457, 0.34106320107841953, 0.1828477716892638, 0.47559368594824053, 0.793514350753081, 0.15132725599297536, 0.0534096197622266, 0.05796964727216946, 0.05170265837788087, 0.8899124229889798, 0.9905931293337727, 0.13461507063249303, 0.46563573612223, 0.04192928429536669, 0.35750231872891597, 0.9962982177520199, 0.9939654092217651, 0.9941726332198526, 0.9987154873539138, 0.9899513040445137, 0.1983473161114121, 0.7987500027189298, 0.9971884015671523, 0.9951349878601201, 0.9938396391148259, 0.9917726671482651, 0.9950978520309869, 0.11124009122730491, 0.8875539193667945, 0.46854330123540916, 0.1302676442896653, 0.03781963866474154, 0.2846978355040266, 0.026263637961626073, 0.05252727592325215, 0.9975834201136735, 0.9983676567882226, 0.979358507244562, 0.7161668196458988, 0.2561472566616718, 0.027631045179247398, 0.9952062037525411, 0.9973239913595965, 0.1233630549657854, 0.2667594265499462, 0.25199803535745907, 0.35743654387522433, 0.9973648264421398, 0.9964679043726234, 0.9933900919199893, 0.9952032690687621, 0.9961243416057339, 0.9903175252098376, 0.19751775005148933, 0.8019220652090466, 0.9949960908434422, 0.9994313985234953, 0.7479469053906914, 0.1826456759509513, 0.06945680634754486, 0.9969304162224959, 0.9976721664547532, 0.9967419202412131, 0.9967133210268875, 0.03032426543750986, 0.5426997848988834, 0.4266310447760008, 0.990739992043859, 0.9779641139079777, 0.9974540691499303, 0.9951157951229972, 0.06968042365494811, 0.03758045320716303, 0.22000223648360023, 0.6717506010780392, 0.9946931109292846, 0.11387061163420975, 0.06244517412198599, 0.8246436229638738, 0.9978926917301446, 0.9973476500373043, 0.9971762083206593, 0.04488230537866226, 0.10302529189192929, 0.41006106277777793, 0.06732345806799339, 0.08160419159756775, 0.2927550373562743, 0.9742291437608562, 0.023404904354615164, 0.9991953084143265, 0.9840671278594005, 0.9971215676293372, 0.9911219130556245, 0.368133164815235, 0.17858374803802887, 0.45115894241186244, 0.9930575115977088, 0.995857777846734, 0.9894392776444824, 0.9842124123867967, 0.23211903964492436, 0.764627424712692, 0.17820006349593662, 0.49719178021194527, 0.3244329400288617, 0.29998914117055187, 0.6988666695967704, 0.9976178135858619, 0.3603875297690583, 0.19747261905153882, 0.049368154762884704, 0.384084244055243, 0.008886267857319247, 0.7063145415072779, 0.03869721246353238, 0.17721153371150342, 0.05569505345218679, 0.007233123824959323, 0.014466247649918646, 0.9967779724620119, 0.306227317588801, 0.5153066585632238, 0.1774006529479951, 0.9944939002100065, 0.3230322563537867, 0.6764622109880561, 0.9928923889855439, 0.9937733501688617, 0.3390720277929164, 0.02953589092272791, 0.6308866301094681, 0.9924266699654816, 0.9992123854429638, 0.9388621669809876, 0.060894254779986605, 0.9972255177969064, 0.24721920626315483, 0.749383218985188, 0.0877157515054924, 0.01096446893818655, 0.7521625691595974, 0.14802033066551845, 0.978341365582774, 0.9365950701156548, 0.010269682786355863, 0.051348413931779316, 0.99689312154361, 0.9930102508343128, 0.10491644685623938, 0.8950015262430217, 0.14374585836099052, 0.8534910340183812, 0.9921574236594007, 0.9976651011884716, 0.9901337321311422, 0.9772247931291971, 0.02106087916226718, 0.9975652950265907, 0.8104240310788106, 0.18702093024895627, 0.9955473812256045, 0.5433054048167292, 0.04125820420270925, 0.11682586242661883, 0.17371875453772317, 0.08599078349617297, 0.038218125998299095, 0.997757935299315, 0.06039719230477086, 0.10368184678985663, 0.5153893743340446, 0.04529789422857814, 0.1570326999924042, 0.11777452499430317, 0.9952716010009054, 0.9981526381405496, 0.9848406558234151, 0.9955064204067988, 0.16896109002338067, 0.8230040191461445, 0.09451736707845584, 0.8942797038961592, 0.9943539274833332, 0.9994416278767236, 0.3340325389710307, 0.2157801437878556, 0.10484232975003152, 0.34378531383149874, 0.9927042764464358, 0.9961855990790819, 0.9837636730705968, 0.9021224224843625, 0.9941765950617258, 0.9962436532632085, 0.32875886879746585, 0.670347351987028, 0.9967845849203503, 0.996351164106921, 0.29576457001405604, 0.29576457001405604, 0.09990660562138991, 0.20625879870222433, 0.0317884654249877, 0.06782515894824565, 0.002636831233409118, 0.22374672759453798, 0.7737907662644439, 0.9895821950716946, 0.4134390389933394, 0.09147932759335384, 0.06534237685239559, 0.3302760139084723, 0.09860758688634244, 0.9733197529000114, 0.9874306470637907, 0.9938010241817704, 0.2926166342863707, 0.7074371503245207, 0.9975133448210133, 0.9980415178473193, 0.9954314719296028, 0.983833305194073, 0.9862673080860229, 0.1905148759842469, 0.7446077595720184, 0.06398972933822034, 0.9922725425981266, 0.5188564514286504, 0.20506762645902368, 0.08220383302021207, 0.1926928558968412, 0.13982696547591006, 0.20766381011273774, 0.0027688508015031696, 0.6492955129524933, 0.9977015338712586, 0.2558089376005449, 0.26677217778342543, 0.4769009479553016, 0.38438605565927786, 0.6150176890548446, 0.9987081777371065, 0.6804479447645583, 0.3188872352317371, 0.989883918258598, 0.8200306503359598, 0.12578159377663128, 0.05227287014093768, 0.463711422915714, 0.04581394565522408, 0.48971393261192225, 0.0006191073737192443, 0.17547489588395052, 0.8216353948448507, 0.2650233985599918, 0.04268167092913725, 0.05062244691595349, 0.5578395130738404, 0.08437074485992248, 0.994731083730655, 0.9937710987477218, 0.9928994424706972, 0.9968116821722026, 0.37136842410164256, 0.6272000051494409, 0.5702106271224656, 0.262911486757065, 0.05804539318013123, 0.10926191657436467, 0.4744255672311771, 0.5194935731070703, 0.005330624350912103, 0.9990811798626726, 0.9923190509370375, 0.9991106865535695, 0.8101402564743246, 0.16937441130319633, 0.020406555578698353, 0.7644382967395446, 0.23173916869663358, 0.988424040675027, 0.6061924972068372, 0.1676975715632182, 0.0057752990206720554, 0.14716317504527313, 0.012620097859987085, 0.00021389996372859466, 0.0598919898440065, 0.9971116826679548, 0.9955861216467456, 0.9963151667929881, 0.9895940681918933, 0.9972578840043228, 0.9976403855006932, 0.9858538457588784, 0.9831458358221228, 0.007038356403056152, 0.9924082528309174, 0.9916449023866374, 0.9910167483797477, 0.9987408750215916, 0.9967867921171122, 0.6506443528758489, 0.21768175151565916, 0.05842194066412911, 0.01760661225494302, 0.05442043787891479, 0.9790140114773508, 0.26154630085180164, 0.5940649647488159, 0.1432590291097808, 0.09393295888179465, 0.5718859555450438, 0.09835333341740851, 0.23538494402143836, 0.9918651643853087], \"Term\": [\"access\", \"accuracy\", \"accuracy\", \"acid\", \"acid\", \"activate\", \"activation\", \"actively\", \"activity\", \"activity\", \"activity\", \"acute\", \"ad\", \"administer\", \"administration\", \"admission\", \"admit\", \"adolescent\", \"adult\", \"adult\", \"adult\", \"adult\", \"advocate\", \"age\", \"age\", \"aged_year\", \"aged_year\", \"aged_year\", \"aggregate\", \"aggression\", \"air\", \"also\", \"also\", \"also\", \"also\", \"also\", \"analysis\", \"analysis\", \"analysis\", \"analysis\", \"analysis\", \"antibiotic\", \"antioxidant\", \"anxiety\", \"application\", \"appointment\", \"approach\", \"approach\", \"approach\", \"approach\", \"area\", \"arm\", \"article\", \"asd\", \"assay\", \"assay\", \"assess\", \"assess\", \"assess\", \"assess\", \"assess\", \"associate\", \"associate\", \"associate\", \"associate\", \"associate\", \"association\", \"association\", \"association\", \"asthma\", \"attention\", \"awareness\", \"bacterial\", \"bacterial\", \"barrier\", \"base\", \"base\", \"base\", \"baseline\", \"baseline\", \"bind\", \"blood\", \"blood\", \"blood\", \"blood\", \"brain\", \"brain\", \"brain\", \"breastfeed\", \"build\", \"calcium\", \"calculation\", \"cancer\", \"cancer\", \"carbon\", \"cardiac\", \"cardiac\", \"cardiovascular\", \"care\", \"case\", \"case\", \"cause\", \"cause\", \"cause\", \"cell\", \"cellular\", \"change\", \"change\", \"change\", \"change\", \"change\", \"change\", \"channel\", \"chemical\", \"chemotherapy\", \"child\", \"child\", \"chinese\", \"ci\", \"ci\", \"clinical\", \"clinical\", \"clinical\", \"cluster\", \"co\", \"coach\", \"coefficient\", \"cognitive\", \"cognitive\", \"cohort\", \"color\", \"column\", \"communication\", \"community\", \"community\", \"compare\", \"compare\", \"compare\", \"complication\", \"composite\", \"compression\", \"concentration\", \"concentration\", \"conduct\", \"conduct\", \"conduct\", \"conduct\", \"construct\", \"consultation\", \"content\", \"content\", \"content\", \"continue\", \"continue\", \"control\", \"control\", \"control\", \"control\", \"correct\", \"cost\", \"cost\", \"country\", \"covid\", \"covid\", \"crc\", \"ct\", \"cumulative\", \"dataset\", \"datum\", \"datum\", \"datum\", \"day\", \"day\", \"day\", \"death\", \"death\", \"decline\", \"decrease\", \"decrease\", \"decrease\", \"decrease\", \"decrease\", \"dementia\", \"density\", \"density\", \"dental\", \"dental\", \"dentist\", \"depression\", \"depressive_symptom\", \"depth\", \"describe\", \"describe\", \"describe\", \"design\", \"design\", \"design\", \"detection\", \"detection\", \"detection\", \"determine_whether\", \"develop\", \"develop\", \"develop\", \"develop\", \"development\", \"development\", \"development\", \"device\", \"device\", \"diabetes\", \"diabetic\", \"diagnose\", \"diagnosis\", \"dietary\", \"difference\", \"difference\", \"difference\", \"different\", \"different\", \"different\", \"discharge\", \"discover\", \"disease\", \"disease\", \"disease\", \"disease\", \"disease\", \"distribution\", \"disturbance\", \"dna\", \"dose\", \"drug\", \"drug\", \"drug\", \"drug\", \"duration\", \"duration\", \"dysfunction\", \"early\", \"early\", \"early\", \"early\", \"easy\", \"education\", \"effect\", \"effect\", \"effect\", \"effect\", \"effect\", \"effect\", \"efficacy\", \"efficacy\", \"efficiency\", \"elderly\", \"employ\", \"encourage\", \"endoscopic\", \"environment\", \"environment\", \"environment\", \"environmental\", \"ep\", \"ethanol\", \"evaluate\", \"evaluate\", \"evaluate\", \"evaluate\", \"evaluate\", \"excellent\", \"exercise\", \"experience\", \"experience\", \"explain\", \"explain\", \"expose\", \"expose\", \"exposure\", \"exposure\", \"expression\", \"extract\", \"face\", \"factor\", \"factor\", \"factor\", \"factor\", \"factor\", \"failure\", \"fall\", \"fatigue\", \"female\", \"female\", \"female\", \"fiber\", \"field\", \"field\", \"field\", \"find\", \"find\", \"find\", \"find\", \"find\", \"find\", \"first\", \"first\", \"first\", \"follow\", \"follow\", \"follow\", \"follow\", \"food\", \"force\", \"formation\", \"fracture\", \"function\", \"function\", \"function\", \"fusion\", \"game\", \"gene\", \"general_population\", \"generalize\", \"genome\", \"glucose\", \"gradient\", \"group\", \"growth\", \"growth\", \"growth\", \"hazard\", \"headache\", \"health\", \"healthcare\", \"hfpef\", \"high\", \"high\", \"high\", \"high\", \"high\", \"high\", \"high\", \"hiv\", \"hospital\", \"hospital\", \"however\", \"however\", \"however\", \"however\", \"however\", \"however\", \"human\", \"human\", \"identification\", \"identify\", \"identify\", \"identify\", \"identify\", \"image\", \"image\", \"immune\", \"immune\", \"impact\", \"impact\", \"impact\", \"impact\", \"implant\", \"incidence\", \"include\", \"include\", \"include\", \"include\", \"include\", \"increase\", \"increase\", \"increase\", \"increase\", \"increase\", \"increase\", \"increase\", \"increase\", \"individual\", \"individual\", \"individual\", \"induce\", \"infant\", \"infection\", \"infection\", \"inflammation\", \"inhibit\", \"inhibition\", \"injury\", \"injury\", \"injury\", \"insertion\", \"insufficiency\", \"insurance\", \"intake\", \"interaction\", \"interaction\", \"interaction\", \"intermediate\", \"interval\", \"intervention\", \"intervention\", \"intolerance\", \"involve\", \"involve\", \"involve\", \"ischemic\", \"issue\", \"issue\", \"job\", \"land\", \"large\", \"large\", \"large\", \"late\", \"lesion\", \"level\", \"level\", \"level\", \"level\", \"level\", \"level\", \"lipid\", \"lipid\", \"little\", \"liver\", \"low\", \"low\", \"low\", \"low\", \"low\", \"low\", \"low\", \"lung\", \"mainly\", \"male\", \"male\", \"male\", \"map\", \"match\", \"matrix\", \"mean\", \"mean\", \"mean\", \"mean\", \"mean\", \"measure\", \"measure\", \"measure\", \"measure\", \"measurement\", \"measurement\", \"measurement\", \"mechanism\", \"mechanism\", \"mechanism\", \"median\", \"mediate\", \"medical\", \"medical\", \"medium\", \"meet\", \"membrane\", \"memory\", \"mental_illness\", \"meta_analyse\", \"metabolism\", \"metal\", \"method\", \"method\", \"method\", \"method\", \"mirna\", \"mitochondrial\", \"mixed\", \"model\", \"monitor\", \"month\", \"month\", \"mortality\", \"motor\", \"mouse\", \"muscle\", \"mutation\", \"need\", \"need\", \"need\", \"need\", \"new\", \"new\", \"noise\", \"nurse\", \"nutrient\", \"obesity\", \"obesity\", \"odds_ratio\", \"old\", \"old\", \"old\", \"older_adult\", \"onset\", \"operation\", \"organism\", \"organize\", \"outcome\", \"outcome\", \"outcome\", \"outpatient\", \"oxidation\", \"oxygen\", \"pac\", \"pain\", \"pandemic\", \"parameter\", \"parameter\", \"parameter\", \"parameter\", \"parent\", \"partial\", \"participant\", \"participant\", \"participant\", \"particle\", \"pathway\", \"pathway\", \"patient\", \"patient\", \"pca\", \"people\", \"peptide\", \"perceive\", \"perception\", \"perform\", \"perform\", \"perform\", \"performance\", \"performance\", \"performance\", \"period\", \"period\", \"period\", \"persistent\", \"phase\", \"phase\", \"phase\", \"phase\", \"phenotype\", \"physical_activity\", \"placebo\", \"plant\", \"plasma\", \"platform\", \"platform\", \"policy\", \"pollutant\", \"polymer\", \"pose\", \"positively\", \"post\", \"post\", \"potential\", \"potential\", \"potential\", \"potential\", \"potential\", \"potential\", \"practice\", \"prediction\", \"predominantly\", \"present\", \"present\", \"present\", \"probability\", \"procedure\", \"process\", \"process\", \"process\", \"process\", \"product\", \"professional\", \"prognosis\", \"prognostic\", \"program\", \"programme\", \"property\", \"property\", \"prosthetic\", \"protein\", \"provide\", \"provide\", \"provide\", \"psychological\", \"public\", \"publish\", \"qualitative\", \"quality\", \"quality\", \"quality\", \"randomize\", \"rank\", \"rare\", \"rat\", \"rate\", \"rate\", \"rate\", \"rate\", \"reach\", \"receive\", \"receive\", \"receive\", \"receptor\", \"recommendation\", \"record\", \"reduce\", \"reduce\", \"reduce\", \"reduce\", \"reduce\", \"reduce\", \"reduction\", \"reduction\", \"region\", \"regular\", \"regulate\", \"regulatory\", \"relationship\", \"relationship\", \"relationship\", \"relatively\", \"release\", \"reliability\", \"remission\", \"removal\", \"removal\", \"report\", \"report\", \"report\", \"research\", \"research\", \"resistance\", \"response\", \"response\", \"response\", \"response\", \"response\", \"result\", \"result\", \"result\", \"result\", \"result\", \"result\", \"retrospective\", \"review\", \"review\", \"review\", \"right\", \"risk\", \"risk\", \"river\", \"rna\", \"role\", \"role\", \"role\", \"rural\", \"safety\", \"sample\", \"sample\", \"sars_cov\", \"school\", \"school\", \"score\", \"score\", \"score\", \"score\", \"selective\", \"self\", \"self\", \"self\", \"sensitivity\", \"sensor\", \"sequence\", \"sequence\", \"series\", \"series\", \"serum\", \"service\", \"session\", \"set\", \"set\", \"severe\", \"severity\", \"severity\", \"sex\", \"show\", \"show\", \"show\", \"show\", \"show\", \"show\", \"signal\", \"significantly\", \"significantly\", \"significantly\", \"significantly\", \"significantly\", \"significantly\", \"simple\", \"social\", \"sodium\", \"soil\", \"solution\", \"solution\", \"space\", \"space\", \"spatial\", \"specie\", \"specific\", \"specific\", \"specific\", \"specific\", \"spectrum\", \"stability\", \"standard_deviation\", \"statistical_significance\", \"statistically_significant\", \"step\", \"stress\", \"stress\", \"stroke\", \"student\", \"study\", \"study\", \"study\", \"study\", \"study\", \"study\", \"study\", \"subject\", \"subject\", \"substrate\", \"suggest\", \"suggest\", \"suggest\", \"suggest\", \"suggest\", \"suicidal\", \"suicide\", \"suitable\", \"support\", \"support\", \"surface\", \"survey\", \"survivor\", \"suspect\", \"sustainable\", \"symptom\", \"symptom\", \"symptom\", \"syndrome\", \"system\", \"system\", \"system\", \"system\", \"target\", \"target\", \"target\", \"target\", \"task\", \"technique\", \"technique\", \"technique\", \"technology\", \"technology\", \"temperature\", \"test\", \"test\", \"text\", \"therapy\", \"therapy\", \"therapy\", \"time\", \"time\", \"time\", \"time\", \"tissue\", \"tissue\", \"total\", \"total\", \"total\", \"total\", \"total\", \"toxicity\", \"trail\", \"train\", \"transcription\", \"transition\", \"transition\", \"treat\", \"treat\", \"treat\", \"treat\", \"treatment\", \"treatment\", \"treatment\", \"trial\", \"trigger\", \"tumor\", \"type\", \"type\", \"type\", \"undergo\", \"undergo\", \"urine\", \"use\", \"use\", \"use\", \"use\", \"use\", \"use\", \"use\", \"useful\", \"user\", \"vaccine\", \"valuable\", \"variant\", \"variation\", \"vascular\", \"video\", \"visit\", \"visit\", \"visual\", \"vivo\", \"water\", \"week\", \"well\", \"well\", \"well\", \"well\", \"well\", \"white\", \"work\", \"work\", \"work\", \"year\", \"year\", \"year\", \"year\", \"zone\"]}, \"R\": 30, \"lambda.step\": 0.01, \"plot.opts\": {\"xlab\": \"PC1\", \"ylab\": \"PC2\"}, \"topic.order\": [6, 10, 7, 8, 4, 3, 1, 2, 9, 5]};\n",
       "\n",
       "function LDAvis_load_lib(url, callback){\n",
       "  var s = document.createElement('script');\n",
       "  s.src = url;\n",
       "  s.async = true;\n",
       "  s.onreadystatechange = s.onload = callback;\n",
       "  s.onerror = function(){console.warn(\"failed to load library \" + url);};\n",
       "  document.getElementsByTagName(\"head\")[0].appendChild(s);\n",
       "}\n",
       "\n",
       "if(typeof(LDAvis) !== \"undefined\"){\n",
       "   // already loaded: just create the visualization\n",
       "   !function(LDAvis){\n",
       "       new LDAvis(\"#\" + \"ldavis_el201403045687546404038228997\", ldavis_el201403045687546404038228997_data);\n",
       "   }(LDAvis);\n",
       "}else if(typeof define === \"function\" && define.amd){\n",
       "   // require.js is available: use it to load d3/LDAvis\n",
       "   require.config({paths: {d3: \"https://d3js.org/d3.v5\"}});\n",
       "   require([\"d3\"], function(d3){\n",
       "      window.d3 = d3;\n",
       "      LDAvis_load_lib(\"https://cdn.jsdelivr.net/gh/bmabey/pyLDAvis@3.2.2/pyLDAvis/js/ldavis.v3.0.0.js\", function(){\n",
       "        new LDAvis(\"#\" + \"ldavis_el201403045687546404038228997\", ldavis_el201403045687546404038228997_data);\n",
       "      });\n",
       "    });\n",
       "}else{\n",
       "    // require.js not available: dynamically load d3 & LDAvis\n",
       "    LDAvis_load_lib(\"https://d3js.org/d3.v5.js\", function(){\n",
       "         LDAvis_load_lib(\"https://cdn.jsdelivr.net/gh/bmabey/pyLDAvis@3.2.2/pyLDAvis/js/ldavis.v3.0.0.js\", function(){\n",
       "                 new LDAvis(\"#\" + \"ldavis_el201403045687546404038228997\", ldavis_el201403045687546404038228997_data);\n",
       "            })\n",
       "         });\n",
       "}\n",
       "</script>"
      ],
      "text/plain": [
       "PreparedData(topic_coordinates=              x         y  topics  cluster       Freq\n",
       "topic                                                \n",
       "5     -0.215441  0.127906       1        1  28.786157\n",
       "9     -0.213725  0.042489       2        1  18.738968\n",
       "6     -0.146154 -0.114469       3        1  12.487816\n",
       "7     -0.151324 -0.127173       4        1  12.020567\n",
       "3     -0.019915  0.174070       5        1  10.274735\n",
       "2     -0.041909 -0.206017       6        1   5.991377\n",
       "0      0.087950  0.256130       7        1   5.781581\n",
       "1      0.154718 -0.125851       8        1   3.922450\n",
       "8      0.287528 -0.019299       9        1   1.524044\n",
       "4      0.258272 -0.007785      10        1   0.472304, topic_info=                           Term         Freq        Total Category  logprob  \\\n",
       "172                     patient  5969.000000  5969.000000  Default  30.0000   \n",
       "227                       group  2355.000000  2355.000000  Default  29.0000   \n",
       "391                        cell  1816.000000  1816.000000  Default  28.0000   \n",
       "1050                     effect  2233.000000  2233.000000  Default  27.0000   \n",
       "159                      health  2334.000000  2334.000000  Default  26.0000   \n",
       "...                         ...          ...          ...      ...      ...   \n",
       "10340                        ep    14.258394    15.192575  Topic10  -5.2351   \n",
       "4183                 odds_ratio    13.826802    14.761058  Topic10  -5.2658   \n",
       "1891              insufficiency    13.689869    14.624354  Topic10  -5.2758   \n",
       "7735   statistical_significance    13.475776    14.410461  Topic10  -5.2916   \n",
       "771           determine_whether    13.347943    14.282541  Topic10  -5.3011   \n",
       "\n",
       "       loglift  \n",
       "172    30.0000  \n",
       "227    29.0000  \n",
       "391    28.0000  \n",
       "1050   27.0000  \n",
       "159    26.0000  \n",
       "...        ...  \n",
       "10340   5.2918  \n",
       "4183    5.2899  \n",
       "1891    5.2893  \n",
       "7735    5.2882  \n",
       "771     5.2876  \n",
       "\n",
       "[544 rows x 6 columns], token_table=      Topic      Freq      Term\n",
       "term                           \n",
       "1845      2  0.996163    access\n",
       "1932      1  0.980310  accuracy\n",
       "1932      7  0.017987  accuracy\n",
       "1043      7  0.330041      acid\n",
       "1043      8  0.670559      acid\n",
       "...     ...       ...       ...\n",
       "192       2  0.093933      year\n",
       "192       3  0.571886      year\n",
       "192       4  0.098353      year\n",
       "192       6  0.235385      year\n",
       "2190      7  0.991865      zone\n",
       "\n",
       "[850 rows x 3 columns], R=30, lambda_step=0.01, plot_opts={'xlab': 'PC1', 'ylab': 'PC2'}, topic_order=[6, 10, 7, 8, 4, 3, 1, 2, 9, 5])"
      ]
     },
     "execution_count": 17,
     "metadata": {},
     "output_type": "execute_result"
    }
   ],
   "source": [
    "#Visualize The Topics \n",
    "pyLDAvis.enable_notebook()\n",
    "vis = pyLDAvis.gensim.prepare(lda_model , corpus , id2word)\n",
    "vis"
   ]
  },
  {
   "cell_type": "markdown",
   "id": "67e4b1ed",
   "metadata": {
    "papermill": {
     "duration": 0.052223,
     "end_time": "2022-04-11T01:31:19.331834",
     "exception": false,
     "start_time": "2022-04-11T01:31:19.279611",
     "status": "completed"
    },
    "tags": []
   },
   "source": [
    "So how to infer pyLDAvis’s output?\n",
    "\n",
    "Each bubble on the left-hand side plot represents a topic. The larger the bubble, the more prevalent is that topic.\n",
    "\n",
    "A good topic model will have fairly big, non-overlapping bubbles scattered throughout the chart instead of being clustered in one quadrant.\n",
    "\n",
    "A model with too many topics, will typically have many overlaps, small sized bubbles clustered in one region of the chart.\n",
    "\n",
    "Alright, if you move the cursor over one of the bubbles, the words and bars on the right-hand side will update. These words are the salient keywords that form the selected topic.\n",
    "We have successfully built a good looking topic model.\n",
    "\n",
    "Given our prior knowledge of the number of natural topics in the document, finding the best model was fairly straightforward.\n",
    "\n",
    "Upnext, we will improve upon this model by using Mallet’s version of LDA algorithm and then we will focus on how to arrive at the optimal number of topics given any large corpus of text"
   ]
  },
  {
   "cell_type": "markdown",
   "id": "a391a080",
   "metadata": {
    "papermill": {
     "duration": 0.054025,
     "end_time": "2022-04-11T01:31:19.437782",
     "exception": false,
     "start_time": "2022-04-11T01:31:19.383757",
     "status": "completed"
    },
    "tags": []
   },
   "source": [
    "# **How to find the optimal number of topics for LDA?**\n",
    "\n",
    "***My approach to finding the optimal number of topics is to build many LDA models with different values of number of topics (k) and pick the one that gives the highest coherence value.***\n"
   ]
  },
  {
   "cell_type": "code",
   "execution_count": 18,
   "id": "40d664be",
   "metadata": {
    "execution": {
     "iopub.execute_input": "2022-04-11T01:31:19.544916Z",
     "iopub.status.busy": "2022-04-11T01:31:19.544185Z",
     "iopub.status.idle": "2022-04-11T01:31:19.552997Z",
     "shell.execute_reply": "2022-04-11T01:31:19.553560Z",
     "shell.execute_reply.started": "2022-04-11T01:06:26.653105Z"
    },
    "papermill": {
     "duration": 0.063873,
     "end_time": "2022-04-11T01:31:19.553760",
     "exception": false,
     "start_time": "2022-04-11T01:31:19.489887",
     "status": "completed"
    },
    "tags": []
   },
   "outputs": [],
   "source": [
    "def compute_coherence_values(dictionary , corpus , texts , limit , start = 2 , step = 1):\n",
    "    \"\"\"\n",
    "    compute coherence score for various number of topics \n",
    "    \n",
    "    parameters :\n",
    "    ------------\n",
    "    - dictionnary : Gensim Dictionary \n",
    "    - corpus : gensim corpus \n",
    "    - texts : list of input texts \n",
    "    - limit : maximum number of topics\n",
    "    \n",
    "    returns:\n",
    "    --------\n",
    "    - model list :List of LDA topic Models \n",
    "    - coherence_values : coherence values corresponding to the lda model with respective number of topics \n",
    "    \"\"\"\n",
    "    x = 1\n",
    "    coherence_values = []\n",
    "    model_list = []\n",
    "    for num_topics in range(start , limit , step):\n",
    "        model =  gensim.models.ldamodel.LdaModel(corpus=corpus,\n",
    "                                           id2word=id2word,\n",
    "                                           num_topics=x,\n",
    "                                           random_state=100,\n",
    "                                           update_every=1,\n",
    "                                           chunksize=100,\n",
    "                                           passes=10,\n",
    "                                           alpha='auto',\n",
    "                                           per_word_topics=True)\n",
    "        model_list.append(model)\n",
    "        coherencemodel = CoherenceModel(model=model , texts=texts , dictionary=dictionary , coherence='c_v')\n",
    "        coherence_values.append(coherencemodel.get_coherence())\n",
    "        x = x+1\n",
    "        \n",
    "    return model_list , coherence_values\n",
    "            "
   ]
  },
  {
   "cell_type": "code",
   "execution_count": 19,
   "id": "04a8f10f",
   "metadata": {
    "execution": {
     "iopub.execute_input": "2022-04-11T01:31:19.663403Z",
     "iopub.status.busy": "2022-04-11T01:31:19.662712Z",
     "iopub.status.idle": "2022-04-11T01:46:20.850568Z",
     "shell.execute_reply": "2022-04-11T01:46:20.851329Z",
     "shell.execute_reply.started": "2022-04-11T01:06:26.664570Z"
    },
    "papermill": {
     "duration": 901.246535,
     "end_time": "2022-04-11T01:46:20.851767",
     "exception": false,
     "start_time": "2022-04-11T01:31:19.605232",
     "status": "completed"
    },
    "tags": []
   },
   "outputs": [
    {
     "name": "stderr",
     "output_type": "stream",
     "text": [
      "/opt/conda/lib/python3.7/site-packages/past/builtins/misc.py:45: DeprecationWarning: the imp module is deprecated in favour of importlib; see the module's documentation for alternative uses\n",
      "  from imp import reload\n",
      "/opt/conda/lib/python3.7/site-packages/past/builtins/misc.py:45: DeprecationWarning: the imp module is deprecated in favour of importlib; see the module's documentation for alternative uses\n",
      "  from imp import reload\n",
      "/opt/conda/lib/python3.7/site-packages/past/builtins/misc.py:45: DeprecationWarning: the imp module is deprecated in favour of importlib; see the module's documentation for alternative uses\n",
      "  from imp import reload\n",
      "/opt/conda/lib/python3.7/site-packages/past/builtins/misc.py:45: DeprecationWarning: the imp module is deprecated in favour of importlib; see the module's documentation for alternative uses\n",
      "  from imp import reload\n"
     ]
    }
   ],
   "source": [
    "# Can take a long time to run.\n",
    "model_list, coherence_values = compute_coherence_values(dictionary=id2word, corpus=corpus, texts=data_lemmatized, start=2, limit=20, step=1)"
   ]
  },
  {
   "cell_type": "code",
   "execution_count": 20,
   "id": "20126332",
   "metadata": {
    "execution": {
     "iopub.execute_input": "2022-04-11T01:46:20.965242Z",
     "iopub.status.busy": "2022-04-11T01:46:20.964158Z",
     "iopub.status.idle": "2022-04-11T01:46:21.249360Z",
     "shell.execute_reply": "2022-04-11T01:46:21.249968Z",
     "shell.execute_reply.started": "2022-04-11T01:21:27.340298Z"
    },
    "papermill": {
     "duration": 0.343756,
     "end_time": "2022-04-11T01:46:21.250149",
     "exception": false,
     "start_time": "2022-04-11T01:46:20.906393",
     "status": "completed"
    },
    "tags": []
   },
   "outputs": [
    {
     "data": {
      "image/png": "[encoded data removed]",
      "text/plain": [
       "<Figure size 432x288 with 1 Axes>"
      ]
     },
     "metadata": {
      "needs_background": "light"
     },
     "output_type": "display_data"
    }
   ],
   "source": [
    "#show graph\n",
    "x = range(2 , 20 , 1)\n",
    "plt.plot(x , coherence_values)\n",
    "plt.xlabel(\"Num of topics\")\n",
    "plt.ylabel(\"Coherence Score\")\n",
    "plt.legend((\"coherence_values\") , loc='best')\n",
    "plt.title(\"Chossing the optimal model with coherence score\")\n",
    "plt.show()"
   ]
  },
  {
   "cell_type": "code",
   "execution_count": 21,
   "id": "ef48d346",
   "metadata": {
    "execution": {
     "iopub.execute_input": "2022-04-11T01:46:21.368256Z",
     "iopub.status.busy": "2022-04-11T01:46:21.367147Z",
     "iopub.status.idle": "2022-04-11T01:46:21.380328Z",
     "shell.execute_reply": "2022-04-11T01:46:21.379731Z",
     "shell.execute_reply.started": "2022-04-11T01:21:27.613972Z"
    },
    "papermill": {
     "duration": 0.075373,
     "end_time": "2022-04-11T01:46:21.380481",
     "exception": false,
     "start_time": "2022-04-11T01:46:21.305108",
     "status": "completed"
    },
    "tags": []
   },
   "outputs": [
    {
     "name": "stdout",
     "output_type": "stream",
     "text": [
      "Num Topics = 2  has Coherence Value of 0.2773\n",
      "Num Topics = 3  has Coherence Value of 0.309\n",
      "Num Topics = 4  has Coherence Value of 0.3475\n",
      "Num Topics = 5  has Coherence Value of 0.4018\n",
      "Num Topics = 6  has Coherence Value of 0.3541\n",
      "Num Topics = 7  has Coherence Value of 0.4268\n",
      "Num Topics = 8  has Coherence Value of 0.4619\n",
      "Num Topics = 9  has Coherence Value of 0.4518\n",
      "Num Topics = 10  has Coherence Value of 0.3979\n",
      "Num Topics = 11  has Coherence Value of 0.452\n",
      "Num Topics = 12  has Coherence Value of 0.4316\n",
      "Num Topics = 13  has Coherence Value of 0.3861\n",
      "Num Topics = 14  has Coherence Value of 0.4568\n",
      "Num Topics = 15  has Coherence Value of 0.4721\n",
      "Num Topics = 16  has Coherence Value of 0.4678\n",
      "Num Topics = 17  has Coherence Value of 0.4537\n",
      "Num Topics = 18  has Coherence Value of 0.4352\n",
      "Num Topics = 19  has Coherence Value of 0.4272\n"
     ]
    }
   ],
   "source": [
    "# Print the coherence scores\n",
    "for m, cv in zip(x, coherence_values):\n",
    "    print(\"Num Topics =\", m, \" has Coherence Value of\", round(cv, 4))"
   ]
  },
  {
   "cell_type": "markdown",
   "id": "93e589c8",
   "metadata": {
    "papermill": {
     "duration": 0.054216,
     "end_time": "2022-04-11T01:46:21.489374",
     "exception": false,
     "start_time": "2022-04-11T01:46:21.435158",
     "status": "completed"
    },
    "tags": []
   },
   "source": [
    "# **As required**\n",
    "**i'll continue using top 3 topics**"
   ]
  },
  {
   "cell_type": "code",
   "execution_count": 22,
   "id": "ecd13e20",
   "metadata": {
    "execution": {
     "iopub.execute_input": "2022-04-11T01:46:21.604202Z",
     "iopub.status.busy": "2022-04-11T01:46:21.603480Z",
     "iopub.status.idle": "2022-04-11T01:46:21.613601Z",
     "shell.execute_reply": "2022-04-11T01:46:21.612841Z",
     "shell.execute_reply.started": "2022-04-11T01:21:27.632878Z"
    },
    "papermill": {
     "duration": 0.069779,
     "end_time": "2022-04-11T01:46:21.613812",
     "exception": false,
     "start_time": "2022-04-11T01:46:21.544033",
     "status": "completed"
    },
    "tags": []
   },
   "outputs": [
    {
     "name": "stdout",
     "output_type": "stream",
     "text": [
      "[(0,\n",
      "  '0.008*\"cell\" + 0.008*\"use\" + 0.006*\"study\" + 0.005*\"result\" + 0.005*\"show\" '\n",
      "  '+ 0.005*\"protein\" + 0.005*\"effect\" + 0.005*\"high\" + 0.004*\"specie\" + '\n",
      "  '0.004*\"base\"'),\n",
      " (1,\n",
      "  '0.016*\"study\" + 0.010*\"health\" + 0.009*\"use\" + 0.006*\"datum\" + 0.005*\"base\" '\n",
      "  '+ 0.005*\"risk\" + 0.005*\"include\" + 0.005*\"care\" + 0.004*\"result\" + '\n",
      "  '0.004*\"high\"'),\n",
      " (2,\n",
      "  '0.031*\"patient\" + 0.011*\"treatment\" + 0.010*\"group\" + 0.010*\"study\" + '\n",
      "  '0.007*\"clinical\" + 0.007*\"year\" + 0.006*\"high\" + 0.006*\"disease\" + '\n",
      "  '0.006*\"risk\" + 0.005*\"case\"')]\n"
     ]
    }
   ],
   "source": [
    "optimal_model = model_list[2]\n",
    "model_topics = optimal_model.show_topics(formatted=False)\n",
    "pprint(optimal_model.print_topics(num_words=10))"
   ]
  },
  {
   "cell_type": "markdown",
   "id": "bbe31f88",
   "metadata": {
    "papermill": {
     "duration": 0.054652,
     "end_time": "2022-04-11T01:46:21.724069",
     "exception": false,
     "start_time": "2022-04-11T01:46:21.669417",
     "status": "completed"
    },
    "tags": []
   },
   "source": [
    "# Let's buld the model with the required number of topics\n",
    "**and visulaize it**"
   ]
  },
  {
   "cell_type": "code",
   "execution_count": 23,
   "id": "99c0dbae",
   "metadata": {
    "execution": {
     "iopub.execute_input": "2022-04-11T01:46:21.848145Z",
     "iopub.status.busy": "2022-04-11T01:46:21.838094Z",
     "iopub.status.idle": "2022-04-11T01:47:01.544303Z",
     "shell.execute_reply": "2022-04-11T01:47:01.543661Z",
     "shell.execute_reply.started": "2022-04-11T01:21:27.645625Z"
    },
    "papermill": {
     "duration": 39.764991,
     "end_time": "2022-04-11T01:47:01.544451",
     "exception": false,
     "start_time": "2022-04-11T01:46:21.779460",
     "status": "completed"
    },
    "tags": []
   },
   "outputs": [],
   "source": [
    "#Build LDA Model \n",
    "lda_model_opt = gensim.models.ldamodel.LdaModel(corpus=corpus,\n",
    "                                           id2word=id2word,\n",
    "                                           num_topics=3,\n",
    "                                           random_state=100,\n",
    "                                           update_every=1,\n",
    "                                           chunksize=100,\n",
    "                                           passes=10,\n",
    "                                           alpha='auto',\n",
    "                                           per_word_topics=True)"
   ]
  },
  {
   "cell_type": "code",
   "execution_count": 24,
   "id": "d39988d9",
   "metadata": {
    "execution": {
     "iopub.execute_input": "2022-04-11T01:47:01.657784Z",
     "iopub.status.busy": "2022-04-11T01:47:01.657086Z",
     "iopub.status.idle": "2022-04-11T01:47:01.665308Z",
     "shell.execute_reply": "2022-04-11T01:47:01.666094Z",
     "shell.execute_reply.started": "2022-04-11T01:22:07.673730Z"
    },
    "papermill": {
     "duration": 0.066947,
     "end_time": "2022-04-11T01:47:01.666333",
     "exception": false,
     "start_time": "2022-04-11T01:47:01.599386",
     "status": "completed"
    },
    "tags": []
   },
   "outputs": [
    {
     "name": "stdout",
     "output_type": "stream",
     "text": [
      "[(0,\n",
      "  '0.008*\"cell\" + 0.008*\"use\" + 0.006*\"study\" + 0.005*\"result\" + 0.005*\"show\" '\n",
      "  '+ 0.005*\"protein\" + 0.005*\"effect\" + 0.005*\"high\" + 0.004*\"specie\" + '\n",
      "  '0.004*\"base\"'),\n",
      " (1,\n",
      "  '0.016*\"study\" + 0.010*\"health\" + 0.009*\"use\" + 0.006*\"datum\" + 0.005*\"base\" '\n",
      "  '+ 0.005*\"risk\" + 0.005*\"include\" + 0.005*\"care\" + 0.004*\"result\" + '\n",
      "  '0.004*\"high\"'),\n",
      " (2,\n",
      "  '0.031*\"patient\" + 0.011*\"treatment\" + 0.010*\"group\" + 0.010*\"study\" + '\n",
      "  '0.007*\"clinical\" + 0.007*\"year\" + 0.006*\"high\" + 0.006*\"disease\" + '\n",
      "  '0.006*\"risk\" + 0.005*\"case\"')]\n"
     ]
    }
   ],
   "source": [
    "pprint(lda_model_opt.print_topics())\n",
    "doc_lda = lda_model_opt[corpus]"
   ]
  },
  {
   "cell_type": "markdown",
   "id": "c2b572cd",
   "metadata": {
    "papermill": {
     "duration": 0.054711,
     "end_time": "2022-04-11T01:47:01.777414",
     "exception": false,
     "start_time": "2022-04-11T01:47:01.722703",
     "status": "completed"
    },
    "tags": []
   },
   "source": [
    "# **Let's again Compute Model Perplexity and Coherence Score**\n",
    "***Model perplexity and topic coherence provide a convenient measure to judge how good a given topic model is.***"
   ]
  },
  {
   "cell_type": "code",
   "execution_count": 25,
   "id": "21c6f356",
   "metadata": {
    "execution": {
     "iopub.execute_input": "2022-04-11T01:47:01.892927Z",
     "iopub.status.busy": "2022-04-11T01:47:01.892231Z",
     "iopub.status.idle": "2022-04-11T01:47:08.717931Z",
     "shell.execute_reply": "2022-04-11T01:47:08.718440Z",
     "shell.execute_reply.started": "2022-04-11T01:22:07.686234Z"
    },
    "papermill": {
     "duration": 6.884205,
     "end_time": "2022-04-11T01:47:08.718613",
     "exception": false,
     "start_time": "2022-04-11T01:47:01.834408",
     "status": "completed"
    },
    "tags": []
   },
   "outputs": [
    {
     "name": "stdout",
     "output_type": "stream",
     "text": [
      "\n",
      "Perplexity:  -8.28978851061961\n",
      "\n",
      "Coherence Score:  0.34751347463623805\n"
     ]
    }
   ],
   "source": [
    "#Compute Perplexity\n",
    "#a measure of how good the model is , more lower more better \n",
    "print('\\nPerplexity: ' , lda_model_opt.log_perplexity(corpus))\n",
    "\n",
    "#Compute Coherence Score \n",
    "coherence_model_lda_opt = CoherenceModel(model=lda_model_opt , texts=data_lemmatized , dictionary=id2word , coherence='c_v')\n",
    "coherence_lda_opt = coherence_model_lda_opt.get_coherence()\n",
    "print('\\nCoherence Score: ' , coherence_lda_opt)"
   ]
  },
  {
   "cell_type": "markdown",
   "id": "d10b6586",
   "metadata": {
    "papermill": {
     "duration": 0.055776,
     "end_time": "2022-04-11T01:47:08.829949",
     "exception": false,
     "start_time": "2022-04-11T01:47:08.774173",
     "status": "completed"
    },
    "tags": []
   },
   "source": [
    "# **Let's Now Visualize The Topics-Keywords**\n",
    "\n",
    "***Now that the LDA model is built, the next step is to examine the produced topics and the associated keywords. There is no better tool than pyLDAvis package’s interactive chart and is designed to work well with jupyter notebooks.***"
   ]
  },
  {
   "cell_type": "code",
   "execution_count": 26,
   "id": "3bdf42f8",
   "metadata": {
    "execution": {
     "iopub.execute_input": "2022-04-11T01:47:08.962698Z",
     "iopub.status.busy": "2022-04-11T01:47:08.946043Z",
     "iopub.status.idle": "2022-04-11T01:47:14.147443Z",
     "shell.execute_reply": "2022-04-11T01:47:14.148009Z",
     "shell.execute_reply.started": "2022-04-11T01:22:14.638743Z"
    },
    "papermill": {
     "duration": 5.261941,
     "end_time": "2022-04-11T01:47:14.148187",
     "exception": false,
     "start_time": "2022-04-11T01:47:08.886246",
     "status": "completed"
    },
    "tags": []
   },
   "outputs": [
    {
     "name": "stderr",
     "output_type": "stream",
     "text": [
      "/opt/conda/lib/python3.7/site-packages/pyLDAvis/_prepare.py:248: FutureWarning: In a future version of pandas all arguments of DataFrame.drop except for the argument 'labels' will be keyword-only\n",
      "  by='saliency', ascending=False).head(R).drop('saliency', 1)\n"
     ]
    },
    {
     "data": {
      "text/html": [
       "\n",
       "<link rel=\"stylesheet\" type=\"text/css\" href=\"https://cdn.jsdelivr.net/gh/bmabey/pyLDAvis@3.2.2/pyLDAvis/js/ldavis.v1.0.0.css\">\n",
       "\n",
       "\n",
       "<div id=\"ldavis_el20140304518697936642624747\"></div>\n",
       "<script type=\"text/javascript\">\n",
       "\n",
       "var ldavis_el20140304518697936642624747_data = {\"mdsDat\": {\"x\": [0.002860607220983516, -0.17436759157686008, 0.1715069843558765], \"y\": [-0.1660344434047142, 0.08095740279348823, 0.08507704061122592], \"topics\": [1, 2, 3], \"cluster\": [1, 1, 1], \"Freq\": [38.54170783223282, 35.55336340084146, 25.90492876692573]}, \"tinfo\": {\"Term\": [\"patient\", \"health\", \"cell\", \"treatment\", \"group\", \"clinical\", \"protein\", \"year\", \"care\", \"risk\", \"specie\", \"gene\", \"case\", \"participant\", \"water\", \"disease\", \"cancer\", \"age\", \"surgery\", \"month\", \"social\", \"research\", \"intervention\", \"day\", \"outcome\", \"expression\", \"child\", \"covid\", \"follow\", \"therapy\", \"health\", \"care\", \"social\", \"service\", \"survey\", \"public\", \"people\", \"practice\", \"pandemic\", \"depression\", \"student\", \"country\", \"questionnaire\", \"adolescent\", \"program\", \"education\", \"face\", \"task\", \"training\", \"professional\", \"perception\", \"parent\", \"school\", \"user\", \"nurse\", \"urban\", \"visit\", \"access\", \"policy\", \"perceive\", \"psychological\", \"participant\", \"experience\", \"child\", \"intervention\", \"self\", \"research\", \"cost\", \"conduct\", \"datum\", \"community\", \"study\", \"support\", \"population\", \"impact\", \"need\", \"quality\", \"covid\", \"use\", \"design\", \"risk\", \"base\", \"report\", \"model\", \"include\", \"result\", \"identify\", \"analysis\", \"factor\", \"high\", \"aim\", \"level\", \"increase\", \"effect\", \"patient\", \"time\", \"cell\", \"protein\", \"specie\", \"gene\", \"water\", \"expression\", \"sequence\", \"plant\", \"surface\", \"chemical\", \"soil\", \"signal\", \"temperature\", \"property\", \"production\", \"bind\", \"molecular\", \"regulate\", \"assay\", \"genome\", \"biological\", \"fish\", \"enzyme\", \"compound\", \"mitochondrial\", \"cellular\", \"matrix\", \"natural\", \"host\", \"sensor\", \"membrane\", \"release\", \"pollution\", \"noise\", \"concentration\", \"mechanism\", \"human\", \"new\", \"structure\", \"dynamic\", \"detection\", \"environmental\", \"method\", \"process\", \"application\", \"show\", \"use\", \"activity\", \"result\", \"effect\", \"also\", \"different\", \"provide\", \"base\", \"high\", \"system\", \"increase\", \"study\", \"analysis\", \"model\", \"sample\", \"potential\", \"level\", \"find\", \"identify\", \"surgery\", \"pain\", \"implant\", \"undergo\", \"fracture\", \"muscle\", \"cardiac\", \"lung\", \"liver\", \"chemotherapy\", \"cardiovascular\", \"lesion\", \"stroke\", \"inflammatory\", \"postoperative\", \"prosthesis\", \"pulmonary\", \"admit\", \"bone\", \"prognostic\", \"placebo\", \"inflammation\", \"prognosis\", \"asthma\", \"spinal\", \"ct\", \"syndrome\", \"tooth\", \"diabetic\", \"recurrence\", \"rat\", \"wound\", \"surgical\", \"complication\", \"patient\", \"injury\", \"treatment\", \"acute\", \"clinical\", \"therapy\", \"cancer\", \"month\", \"group\", \"day\", \"treat\", \"disease\", \"case\", \"cohort\", \"year\", \"severe\", \"follow\", \"blood\", \"mortality\", \"rate\", \"perform\", \"age\", \"diagnosis\", \"risk\", \"outcome\", \"compare\", \"study\", \"associate\", \"high\", \"low\", \"include\", \"significantly\", \"level\", \"increase\", \"evaluate\", \"use\", \"show\"], \"Freq\": [5281.0, 2106.0, 1579.0, 1959.0, 2231.0, 1329.0, 984.0, 1628.0, 988.0, 1891.0, 884.0, 747.0, 1138.0, 920.0, 684.0, 1322.0, 905.0, 1224.0, 492.0, 696.0, 631.0, 1070.0, 952.0, 859.0, 951.0, 529.0, 801.0, 1172.0, 1132.0, 557.0, 2105.9616088572184, 987.3868714873602, 630.3961211817472, 480.57171947429845, 481.26263594122383, 476.0110299248433, 498.3647004108543, 445.2695704608337, 374.59093686143564, 425.0339170180873, 329.0213998875669, 334.9752647127548, 321.9641489923521, 290.58299161870457, 322.681437675716, 272.7853567616007, 270.68272563053023, 264.1771296234391, 258.5494715680264, 241.15070059001775, 240.8695834439123, 247.73447228981087, 227.64632015404948, 234.95381464594223, 226.63736035175273, 242.07967908016488, 219.58481423960552, 217.65053804857644, 204.79680367960066, 209.8059862116995, 221.0599544657542, 891.3007562909062, 580.4299517155542, 741.890884118605, 851.1475944658241, 418.5351365886293, 912.3402409942009, 415.596910553489, 719.0366755767184, 1408.6987201799814, 513.6588057570065, 3465.603632284868, 652.141374207705, 701.9631449806116, 698.8140938015221, 666.0359464631681, 659.5351061016644, 829.8416410220832, 2009.648545098086, 553.1876810159046, 1029.385986738099, 1068.9244750132111, 806.404090242331, 927.3600447718807, 1003.1184453650218, 952.8533568708459, 776.885213163148, 853.2621019952329, 718.4263253409187, 942.3019271694567, 658.8397645955293, 766.2216316059305, 753.0528675058727, 737.6672096243506, 774.86795477131, 675.5683964458897, 1578.547326887683, 984.260633393664, 884.2604605024609, 747.0400586884995, 683.3385341403406, 529.1472461260611, 411.2117695202326, 382.22273030381035, 419.25103756068336, 322.8538121441175, 286.23907132752, 316.56719874958986, 356.85362319545663, 277.9445880562702, 327.3008067544216, 216.64378514096555, 243.6177758925028, 233.07920965886908, 276.962880935832, 206.37021672396077, 222.24259125984315, 195.83748016077962, 185.30848537802981, 173.7309475347235, 190.72134025810524, 182.6076823383583, 188.47671772863714, 198.2191409999005, 175.9609665637621, 176.28946908025065, 221.62068154677368, 199.96475781429126, 216.21295255399758, 227.39796707330999, 454.20255111069474, 530.5458509270334, 650.9975399811607, 637.0926616284436, 390.1388597518846, 266.2318300097903, 408.16945570545704, 462.2794011715278, 787.7807986192136, 586.7545715937849, 386.26289133267153, 1016.3836424508505, 1548.8423290694816, 556.4232067692102, 1051.2602265544815, 948.6722899277346, 763.6167794041328, 662.9744747639241, 709.8271021916578, 850.7954777286984, 911.3242070654732, 553.1186633515417, 748.454850501996, 1155.8960783193693, 713.5804246667016, 640.4910897187527, 517.5412989028027, 487.0365219092726, 529.5834040055552, 500.4182547847567, 504.1258313548406, 491.3226305932197, 347.0628724466989, 331.6144900869479, 313.5339162293105, 287.432125426441, 331.08156326918396, 212.1165992958492, 227.1631071796092, 207.80723866078282, 197.7673507215454, 193.7733566843283, 159.35328898478937, 164.80865252244675, 158.86603477133184, 141.6452750386274, 166.33555674029375, 141.79998414849916, 135.39056400692547, 295.5703271410866, 122.56157900422129, 120.33654373185084, 125.05035989202882, 116.20474560184995, 116.53407721381537, 105.91144479017814, 117.7342223222973, 121.77245314841596, 106.91324225630545, 87.49230907868701, 82.9907286562974, 243.4703293609828, 105.78594768657872, 349.4406853153608, 295.85749022205505, 4506.243745708056, 314.4135924673438, 1568.6258683922583, 232.8368684961674, 1012.195983149983, 464.8285203240177, 696.1090162004577, 553.848254958288, 1506.4264817988187, 636.0210303459197, 439.02103749305985, 884.8786758501948, 766.8271639629882, 290.6420616943711, 995.8427977826138, 306.27480958932006, 683.2382985392902, 335.9450802783573, 436.6998709607271, 663.0602376777458, 590.840021885264, 663.4444208567843, 363.3404382027463, 861.930038234602, 550.9336864307826, 704.2494741964538, 1496.2393031293013, 702.4044514012315, 944.93903935123, 637.1675631327673, 678.5714198684182, 490.8957831850088, 609.904368597786, 617.0811209684842, 486.2459291825084, 663.4208324608476, 468.3318415396705], \"Total\": [5281.0, 2106.0, 1579.0, 1959.0, 2231.0, 1329.0, 984.0, 1628.0, 988.0, 1891.0, 884.0, 747.0, 1138.0, 920.0, 684.0, 1322.0, 905.0, 1224.0, 492.0, 696.0, 631.0, 1070.0, 952.0, 859.0, 951.0, 529.0, 801.0, 1172.0, 1132.0, 557.0, 2106.8174372519875, 988.1803766475899, 631.1500884829826, 481.306472207252, 482.0501859702849, 476.7919157398015, 499.21383046185537, 446.08460992146803, 375.3769271923527, 425.9862643850704, 329.79301676865407, 335.78362772672443, 322.760334144985, 291.31921235648895, 323.540813124924, 273.52707560037663, 271.4564783810284, 264.98528519146845, 259.3525252164728, 241.90283647223706, 241.6295979381497, 248.52127710289685, 228.40106122938917, 235.73916646490056, 227.3990695152595, 242.9354273711546, 220.37082956263674, 218.43133169334942, 205.5326907395869, 210.56613671330317, 221.89624996821607, 920.024923660169, 601.7903215921825, 801.1979108016556, 952.3793272612143, 443.86931144236723, 1070.5273600720543, 446.40769806901255, 828.4769883605494, 1853.3249989662277, 597.0248426681292, 6117.739013733539, 802.6689932829189, 888.7072139179595, 903.1835125208055, 858.8354186491418, 851.8588143525911, 1172.2307308476236, 4221.911706628415, 726.5777030160152, 1891.7318302773133, 2016.3809003907838, 1312.7947406727085, 1657.2240198888528, 2067.4455165881413, 2466.734811053049, 1558.5413254005434, 2017.7844557397777, 1345.915927643616, 2798.5651735861597, 1171.4328161475428, 1905.7094042092717, 2118.588838976353, 2104.222975446274, 5281.480377673648, 1427.729535828012, 1579.309696403697, 984.9425118401355, 884.9079381478399, 747.7486254062, 684.038820049807, 529.8648490705921, 411.90370845530634, 382.87231105325657, 420.12618895790155, 323.5658872420148, 286.8898696428778, 317.3009322798521, 357.7308946194122, 278.65332526874323, 328.2057514378674, 217.29794102017544, 244.35778742119598, 233.79594098054582, 277.839323122232, 207.02455924624897, 222.96032818455413, 196.50172983882365, 186.00191170593703, 174.39241725834967, 191.45467708678152, 183.3154236716122, 189.21638899198405, 199.00749149812228, 176.72605876647808, 177.07252250641034, 222.63387650600595, 200.93854810949708, 217.50612788040218, 228.91338393678447, 493.8200453778523, 624.452353977367, 810.2053824405332, 850.3178737530018, 472.1255569777076, 293.84784201979477, 528.3748054495444, 629.8598618937824, 1337.1007914620645, 914.6870774373995, 500.9027328199712, 2093.931231289543, 4221.911706628415, 889.1784591849913, 2466.734811053049, 2104.222975446274, 1514.008902957049, 1200.4455779341533, 1381.769663507097, 2016.3809003907838, 2798.5651735861597, 1047.9953689221059, 2118.588838976353, 6117.739013733539, 2017.7844557397777, 1657.2240198888528, 977.7092769067757, 856.9679183863458, 1905.7094042092717, 1218.505519402624, 1558.5413254005434, 492.01187404121384, 347.7653881605103, 332.3194130828863, 314.3217159076508, 288.1816003788853, 332.0337016482391, 212.79072587278023, 227.93355584766636, 208.52470131495465, 198.45548437430818, 194.5327445611299, 160.0069213685062, 165.51836397226066, 159.5836927419678, 142.28978276781356, 167.1147300939065, 142.4810292119732, 136.06783010736015, 297.13207242733785, 123.21110542149817, 120.9803090457203, 125.74585331359295, 116.91653699730021, 117.24889455035408, 106.5790172740596, 118.51247852173859, 122.57949196904593, 107.64718631138504, 88.15682612486495, 83.63358594854334, 245.6093091168973, 106.60972086970644, 357.8423721209835, 304.09051732491315, 5281.480377673648, 338.312685485536, 1959.3262356122502, 254.5193684146723, 1329.151115225115, 557.7124478076566, 905.5578540632545, 696.8497477145054, 2231.0846245796183, 859.0809706979134, 553.5435917383951, 1322.6362439469103, 1138.7506530968128, 338.73541563935885, 1628.8253701784326, 367.43213333621077, 1132.7835211564272, 418.06701073408203, 608.1241822032268, 1158.84621743577, 985.9168300580391, 1224.0725058008488, 479.23626508938514, 1891.7318302773133, 951.6123834330867, 1460.7175233572386, 6117.739013733539, 1521.9813244116403, 2798.5651735861597, 1690.8745902210449, 2067.4455165881413, 948.5769399494833, 1905.7094042092717, 2118.588838976353, 1055.2945563229302, 4221.911706628415, 2093.931231289543], \"Category\": [\"Default\", \"Default\", \"Default\", \"Default\", \"Default\", \"Default\", \"Default\", \"Default\", \"Default\", \"Default\", \"Default\", \"Default\", \"Default\", \"Default\", \"Default\", \"Default\", \"Default\", \"Default\", \"Default\", \"Default\", \"Default\", \"Default\", \"Default\", \"Default\", \"Default\", \"Default\", \"Default\", \"Default\", \"Default\", \"Default\", \"Topic1\", \"Topic1\", \"Topic1\", \"Topic1\", \"Topic1\", \"Topic1\", \"Topic1\", \"Topic1\", \"Topic1\", \"Topic1\", \"Topic1\", \"Topic1\", \"Topic1\", \"Topic1\", \"Topic1\", \"Topic1\", \"Topic1\", \"Topic1\", \"Topic1\", \"Topic1\", \"Topic1\", \"Topic1\", \"Topic1\", \"Topic1\", \"Topic1\", \"Topic1\", \"Topic1\", \"Topic1\", \"Topic1\", \"Topic1\", \"Topic1\", \"Topic1\", \"Topic1\", \"Topic1\", \"Topic1\", \"Topic1\", \"Topic1\", \"Topic1\", \"Topic1\", \"Topic1\", \"Topic1\", \"Topic1\", \"Topic1\", \"Topic1\", \"Topic1\", \"Topic1\", \"Topic1\", \"Topic1\", \"Topic1\", \"Topic1\", \"Topic1\", \"Topic1\", \"Topic1\", \"Topic1\", \"Topic1\", \"Topic1\", \"Topic1\", \"Topic1\", \"Topic1\", \"Topic1\", \"Topic1\", \"Topic1\", \"Topic1\", \"Topic1\", \"Topic1\", \"Topic1\", \"Topic2\", \"Topic2\", \"Topic2\", \"Topic2\", \"Topic2\", \"Topic2\", \"Topic2\", \"Topic2\", \"Topic2\", \"Topic2\", \"Topic2\", \"Topic2\", \"Topic2\", \"Topic2\", \"Topic2\", \"Topic2\", \"Topic2\", \"Topic2\", \"Topic2\", \"Topic2\", \"Topic2\", \"Topic2\", \"Topic2\", \"Topic2\", \"Topic2\", \"Topic2\", \"Topic2\", \"Topic2\", \"Topic2\", \"Topic2\", \"Topic2\", \"Topic2\", \"Topic2\", \"Topic2\", \"Topic2\", \"Topic2\", \"Topic2\", \"Topic2\", \"Topic2\", \"Topic2\", \"Topic2\", \"Topic2\", \"Topic2\", \"Topic2\", \"Topic2\", \"Topic2\", \"Topic2\", \"Topic2\", \"Topic2\", \"Topic2\", \"Topic2\", \"Topic2\", \"Topic2\", \"Topic2\", \"Topic2\", \"Topic2\", \"Topic2\", \"Topic2\", \"Topic2\", \"Topic2\", \"Topic2\", \"Topic2\", \"Topic2\", \"Topic2\", \"Topic2\", \"Topic3\", \"Topic3\", \"Topic3\", \"Topic3\", \"Topic3\", \"Topic3\", \"Topic3\", \"Topic3\", \"Topic3\", \"Topic3\", \"Topic3\", \"Topic3\", \"Topic3\", \"Topic3\", \"Topic3\", \"Topic3\", \"Topic3\", \"Topic3\", \"Topic3\", \"Topic3\", \"Topic3\", \"Topic3\", \"Topic3\", \"Topic3\", \"Topic3\", \"Topic3\", \"Topic3\", \"Topic3\", \"Topic3\", \"Topic3\", \"Topic3\", \"Topic3\", \"Topic3\", \"Topic3\", \"Topic3\", \"Topic3\", \"Topic3\", \"Topic3\", \"Topic3\", \"Topic3\", \"Topic3\", \"Topic3\", \"Topic3\", \"Topic3\", \"Topic3\", \"Topic3\", \"Topic3\", \"Topic3\", \"Topic3\", \"Topic3\", \"Topic3\", \"Topic3\", \"Topic3\", \"Topic3\", \"Topic3\", \"Topic3\", \"Topic3\", \"Topic3\", \"Topic3\", \"Topic3\", \"Topic3\", \"Topic3\", \"Topic3\", \"Topic3\", \"Topic3\", \"Topic3\", \"Topic3\", \"Topic3\", \"Topic3\", \"Topic3\", \"Topic3\"], \"logprob\": [30.0, 29.0, 28.0, 27.0, 26.0, 25.0, 24.0, 23.0, 22.0, 21.0, 20.0, 19.0, 18.0, 17.0, 16.0, 15.0, 14.0, 13.0, 12.0, 11.0, 10.0, 9.0, 8.0, 7.0, 6.0, 5.0, 4.0, 3.0, 2.0, 1.0, -4.6418, -5.3993, -5.848, -6.1193, -6.1179, -6.1289, -6.083, -6.1956, -6.3685, -6.2422, -6.4982, -6.4803, -6.5199, -6.6224, -6.5177, -6.6856, -6.6934, -6.7177, -6.7392, -6.8089, -6.8101, -6.782, -6.8665, -6.8349, -6.871, -6.8051, -6.9026, -6.9114, -6.9723, -6.9481, -6.8959, -5.5016, -5.9306, -5.6851, -5.5477, -6.2576, -5.4783, -6.2646, -5.7164, -5.0439, -6.0528, -4.1437, -5.8141, -5.7404, -5.7449, -5.793, -5.8028, -5.5731, -4.6886, -5.9786, -5.3576, -5.3199, -5.6017, -5.462, -5.3835, -5.4349, -5.639, -5.5453, -5.7173, -5.446, -5.8038, -5.6529, -5.6702, -5.6908, -5.6416, -5.7788, -4.8494, -5.3217, -5.4289, -5.5975, -5.6866, -5.9424, -6.1945, -6.2676, -6.1751, -6.4364, -6.5568, -6.4561, -6.3363, -6.5862, -6.4227, -6.8354, -6.718, -6.7622, -6.5897, -6.8839, -6.8098, -6.9363, -6.9916, -7.0561, -6.9628, -7.0063, -6.9746, -6.9242, -7.0434, -7.0415, -6.8127, -6.9155, -6.8374, -6.7869, -6.0951, -5.9397, -5.7351, -5.7567, -6.2471, -6.6293, -6.2019, -6.0774, -5.5444, -5.839, -6.2571, -5.2896, -4.8684, -5.8921, -5.2559, -5.3586, -5.5756, -5.7169, -5.6486, -5.4674, -5.3987, -5.898, -5.5956, -5.161, -5.6433, -5.7514, -5.9645, -6.0253, -5.9415, -5.9982, -5.9908, -5.6999, -6.0475, -6.093, -6.1491, -6.236, -6.0947, -6.5399, -6.4713, -6.5604, -6.6099, -6.6303, -6.8259, -6.7922, -6.829, -6.9437, -6.783, -6.9426, -6.9889, -6.2081, -7.0884, -7.1067, -7.0683, -7.1417, -7.1388, -7.2344, -7.1286, -7.0949, -7.225, -7.4255, -7.4783, -6.402, -7.2356, -6.0407, -6.2071, -3.4838, -6.1463, -4.5391, -6.4467, -4.9771, -5.7553, -5.3515, -5.5801, -4.5795, -5.4418, -5.8125, -5.1116, -5.2548, -6.2249, -4.9934, -6.1725, -5.3702, -6.0801, -5.8178, -5.4002, -5.5155, -5.3996, -6.0017, -5.1378, -5.5854, -5.3399, -4.5863, -5.3425, -5.0459, -5.44, -5.377, -5.7008, -5.4837, -5.472, -5.7103, -5.3996, -5.7478], \"loglift\": [30.0, 29.0, 28.0, 27.0, 26.0, 25.0, 24.0, 23.0, 22.0, 21.0, 20.0, 19.0, 18.0, 17.0, 16.0, 15.0, 14.0, 13.0, 12.0, 11.0, 10.0, 9.0, 8.0, 7.0, 6.0, 5.0, 4.0, 3.0, 2.0, 1.0, 0.953, 0.9526, 0.9522, 0.9519, 0.9518, 0.9518, 0.9517, 0.9516, 0.9513, 0.9512, 0.9511, 0.951, 0.951, 0.9509, 0.9508, 0.9507, 0.9506, 0.9504, 0.9503, 0.9503, 0.9503, 0.9503, 0.9501, 0.9501, 0.9501, 0.9499, 0.9499, 0.9498, 0.9498, 0.9498, 0.9497, 0.9217, 0.9173, 0.8765, 0.8411, 0.8947, 0.7935, 0.8819, 0.8118, 0.6791, 0.803, 0.3851, 0.7457, 0.7175, 0.6969, 0.6992, 0.6975, 0.608, 0.2111, 0.6808, 0.3449, 0.3188, 0.4661, 0.3729, 0.2302, 0.0022, 0.2572, 0.0927, 0.3257, -0.1351, 0.3779, 0.0423, -0.0809, -0.0948, -0.9658, 0.2051, 1.0337, 1.0334, 1.0334, 1.0332, 1.0331, 1.0328, 1.0325, 1.0324, 1.0321, 1.0319, 1.0319, 1.0318, 1.0317, 1.0316, 1.0314, 1.0311, 1.0311, 1.0311, 1.031, 1.031, 1.0309, 1.0307, 1.0304, 1.0303, 1.0303, 1.0303, 1.0302, 1.0302, 1.0298, 1.0297, 1.0296, 1.0293, 1.0282, 1.0275, 0.9505, 0.8712, 0.8154, 0.7454, 0.8434, 0.9354, 0.776, 0.7248, 0.5051, 0.5902, 0.7742, 0.3113, 0.0314, 0.5654, 0.1812, 0.2375, 0.3497, 0.4404, 0.368, 0.1712, -0.0878, 0.3951, -0.0064, -0.6322, -0.0053, 0.0835, 0.398, 0.4691, -0.2464, 0.1442, -0.0945, 1.3493, 1.3487, 1.3486, 1.3482, 1.3481, 1.3479, 1.3476, 1.3474, 1.3473, 1.3473, 1.3468, 1.3466, 1.3464, 1.3462, 1.3462, 1.3461, 1.3459, 1.3457, 1.3455, 1.3455, 1.3454, 1.3452, 1.3446, 1.3446, 1.3445, 1.3441, 1.3441, 1.3439, 1.3432, 1.343, 1.342, 1.343, 1.327, 1.3233, 1.192, 1.2775, 1.1283, 1.2617, 1.0783, 1.1686, 1.0877, 1.1211, 0.958, 1.0501, 1.1189, 0.9488, 0.9553, 1.1976, 0.8587, 1.1687, 0.8451, 1.132, 1.0196, 0.7924, 0.8387, 0.7382, 1.0739, 0.5647, 0.8042, 0.6212, -0.0575, 0.5775, 0.265, 0.3748, 0.2367, 0.692, 0.2114, 0.1172, 0.5759, -0.4999, -0.1469]}, \"token.table\": {\"Topic\": [1, 1, 2, 3, 1, 3, 3, 1, 1, 3, 1, 2, 3, 1, 2, 3, 1, 2, 3, 1, 2, 2, 3, 1, 2, 3, 3, 1, 2, 3, 2, 2, 2, 3, 2, 3, 1, 2, 3, 3, 3, 1, 1, 2, 3, 2, 2, 2, 3, 1, 3, 1, 2, 3, 1, 3, 1, 2, 1, 2, 3, 1, 3, 2, 2, 3, 1, 2, 3, 1, 2, 1, 1, 3, 3, 1, 2, 3, 1, 2, 3, 1, 3, 1, 2, 1, 2, 3, 3, 1, 2, 3, 1, 2, 3, 1, 2, 3, 1, 2, 1, 1, 2, 3, 1, 2, 2, 1, 2, 3, 1, 3, 2, 1, 1, 2, 3, 1, 2, 3, 2, 1, 2, 3, 3, 2, 2, 1, 2, 3, 1, 1, 2, 3, 2, 1, 2, 3, 1, 2, 3, 1, 2, 3, 3, 1, 2, 3, 1, 2, 3, 3, 3, 1, 3, 1, 3, 3, 1, 2, 3, 3, 1, 2, 3, 3, 2, 1, 2, 3, 2, 3, 1, 2, 3, 2, 1, 2, 3, 2, 1, 3, 1, 3, 2, 3, 2, 1, 2, 3, 1, 2, 3, 1, 2, 1, 1, 3, 3, 1, 1, 1, 3, 1, 3, 1, 1, 1, 1, 2, 3, 3, 2, 1, 1, 2, 1, 2, 3, 3, 1, 2, 3, 1, 1, 2, 2, 1, 3, 3, 1, 2, 3, 2, 1, 2, 3, 1, 1, 3, 1, 2, 3, 1, 2, 3, 1, 2, 3, 3, 2, 1, 2, 1, 2, 3, 1, 2, 1, 2, 3, 1, 3, 1, 2, 3, 1, 1, 2, 2, 2, 1, 1, 3, 1, 2, 3, 2, 1, 2, 3, 1, 2, 2, 3, 3, 1, 2, 1, 1, 2, 3, 1, 2, 3, 2, 3, 3, 1, 3, 1, 3, 1, 2, 3, 1, 2, 3, 1, 2, 3, 1, 2, 3, 3, 1, 1, 2, 3, 1, 2, 3, 3, 1, 1, 2, 3, 1, 1, 2, 3, 1, 3], \"Freq\": [0.9980253213217829, 0.28115840798611624, 0.6252962993611225, 0.0933445914513906, 0.08250845556785301, 0.9154509593957024, 0.9921522221195296, 0.9989042523014297, 0.457489239686517, 0.5416345819860013, 0.5625589371546157, 0.081097267116371, 0.3568279753120324, 0.34411950879708947, 0.504620546489398, 0.15191456242481877, 0.4227408916614266, 0.353853454450479, 0.22351247613048464, 0.22758909570767422, 0.7706086924838794, 0.9969791060790099, 0.0035992025490216963, 0.36399921018358256, 0.174772183950962, 0.46124087644201256, 0.9978772119659756, 0.5301577691957026, 0.4220432755711346, 0.04810599028249125, 0.9986288824515471, 0.9956928293370684, 0.19614080492985217, 0.8036989080052479, 0.0033655067654958216, 0.9961900025867632, 0.028711583565133394, 0.2020853766315158, 0.7685870062051092, 0.9962840209810038, 0.9972614144609342, 0.9988055048698757, 0.3135014667426487, 0.013172330535405409, 0.67354516804373, 0.9998039039433481, 0.9982793391560044, 0.9982510911553802, 0.9977048536816998, 0.9261132486698276, 0.07363973271094316, 0.22721268976917722, 0.011285398498469067, 0.7613882186967131, 0.14170351780135124, 0.859077576670692, 0.8609356985932316, 0.13902269062886816, 0.30259101635484575, 0.21564744378229958, 0.4819549219769489, 0.02630795616507896, 0.9733943781079216, 0.9977498032052143, 0.9193632462866437, 0.07897613789687027, 0.8678575387142733, 0.03862509212636543, 0.09294162792906681, 0.9318835714515128, 0.0672031421719841, 0.9976662717833218, 0.7080517326139698, 0.2917514368120213, 0.9956757420979548, 0.7602552173989617, 0.16402951461269297, 0.0760794788170714, 0.14201222487897477, 0.11756749764570862, 0.7403260247789176, 0.9976847507360499, 0.002347493531143647, 0.761102353821902, 0.23810254468569444, 0.056777877541825304, 0.7721791345688241, 0.1703336326254759, 0.986877634146828, 0.14606574063618472, 0.09598605813234996, 0.7574551978705008, 0.3365417037024232, 0.5522949246403628, 0.11079219453569872, 0.22152727277883427, 0.10887347194591172, 0.6691182130009158, 0.09188428887009206, 0.905230401460907, 0.9980730404870534, 0.35072328769886246, 0.45099783201384885, 0.19864814940125272, 0.2651383428337308, 0.7334964933484049, 0.9946134332881427, 0.3544034201248665, 0.184782531883286, 0.4605349256168051, 0.9637908407457751, 0.03489587526838151, 0.9983677930851441, 0.9983184104363586, 0.5334657130160054, 0.14934068010615195, 0.31725607166829295, 0.36766349669030085, 0.4103387239847108, 0.22158291095174382, 0.9974466899643317, 0.2860211099021262, 0.11034765042520302, 0.6029395619233093, 0.9958998063119512, 0.99899882743911, 0.9950510255885617, 0.254136483104864, 0.07036936128300467, 0.6750080133261467, 0.9996120037562183, 0.33660105860350387, 0.32552395370253934, 0.33767303649714564, 0.9958916145612828, 0.15551612310999186, 0.8034999694016246, 0.04073041319547406, 0.4985430847015313, 0.32337929818477706, 0.17837191447493655, 0.773929096700487, 0.16497201059853014, 0.060895708610195685, 0.9990388371238288, 0.485139749489132, 0.18670383180738281, 0.32842461605495576, 0.35542526522693757, 0.35306520370484634, 0.2912315918260564, 0.9940685653328631, 0.9963424035881185, 0.0709402899437718, 0.928135460097681, 0.8935515247346308, 0.10605018096145442, 0.9937070136723198, 0.40195005508609183, 0.2781116569133534, 0.32009077493801047, 0.9974837450352602, 0.3832336258097581, 0.2401124260474719, 0.3767281167296542, 0.9959042632218212, 0.9935714395647008, 0.11530103064133794, 0.8503451009798673, 0.03523087047374215, 0.997152829946844, 0.004491679414174972, 0.34103636981725427, 0.5893347794210446, 0.07030135693601294, 0.9976251450541717, 0.5593691552106349, 0.3861879820224448, 0.05370426624999623, 0.9985358051201402, 0.2052092297787358, 0.7950063866952422, 0.281192567249125, 0.7186032274144305, 0.003011742467815551, 0.9968867568469473, 0.9949374192371457, 0.7754687167508162, 0.07684825120954034, 0.14671029776366792, 0.2504945580643783, 0.7491316126150657, 0.00117603078903464, 0.004368464537993789, 0.99164145012459, 0.9982450697089035, 0.4203392126497335, 0.579017265425008, 0.9977991249659467, 0.998995870110686, 0.9979024850146693, 0.9684520245987489, 0.03043395812431534, 0.1467391611026617, 0.8531698837788305, 0.9975685159589182, 0.9973113591665786, 0.9973943674801344, 0.20691400509715502, 0.19372830869390492, 0.5994420441785225, 0.9918969536988881, 0.9977216658711702, 0.9974082432450523, 0.004597571616694218, 0.9930754692059511, 0.7899114455312667, 0.11589868787709467, 0.09451931826869857, 0.9979634323548977, 0.29989454037430724, 0.5682826504369168, 0.13186024537858645, 0.9975686004463168, 0.35859258110317854, 0.6417495277669689, 0.9963262330639089, 0.9962677722783103, 0.992160758256795, 0.9982866364133656, 0.9983284547018951, 0.9976554190835041, 0.9933295521389401, 0.9990430793383316, 0.46606899616355074, 0.513833831174101, 0.02026386939841525, 0.9959609503615116, 0.998339074733319, 0.9966239069535526, 0.7747762761621444, 0.17491161386084775, 0.050477848295412436, 0.9976442763730581, 0.008143013826271967, 0.989376179892044, 0.338267488905815, 0.089744435832155, 0.5721207784299881, 0.9924242642312006, 0.9965955739983867, 0.004976645892031985, 0.995329178406397, 0.6139573651757514, 0.09674018036888392, 0.2886970736992677, 0.8519165730977821, 0.14759080981299297, 0.38634067826414, 0.42606931044660135, 0.18769751735183296, 0.5439460200070517, 0.455667122688123, 0.40605117428772625, 0.5298098445366303, 0.06443633244364422, 0.9982440483103256, 0.9439715456751141, 0.05632288458682065, 0.9939430325426606, 0.9978060201043215, 0.9993632493536883, 0.16601705312524553, 0.8328068566610677, 0.29084049700378584, 0.48521173227560993, 0.223503042032466, 0.9990515871551658, 0.2182216236576696, 0.26460689631920326, 0.5176174744730231, 0.9981777892390906, 0.996898218664934, 0.9989739744568906, 0.9945672488931785, 0.9968682389082366, 0.17368261215283418, 0.8260514480439674, 0.9975954106717476, 0.5665491764554315, 0.18895869820613928, 0.24453478591382732, 0.8122900042934482, 0.14700954065433572, 0.041112837640619314, 0.9973194031043506, 0.0023802372389125316, 0.9979433950792637, 0.022356212185222345, 0.9752897565803248, 0.9978214177675898, 0.9952725210413479, 0.4408416427213611, 0.527674087499811, 0.031488688765811505, 0.9962817362075161, 0.9979568591072074, 0.0027953973644459593, 0.06813547043709774, 0.0986171282642204, 0.8337629935065907, 0.4734790329934259, 0.2927725381527397, 0.23393786541391162, 0.9939878938450564, 0.9986407488564895, 0.028904679304031407, 0.17884770319369434, 0.7930721384043617, 0.08166072453472925, 0.11789767104701536, 0.8007854799686888, 0.9989764757209925, 0.9961494814433737, 0.47608764457207703, 0.36689540370256085, 0.1570378648513866, 0.9968644732397041, 0.9983172475078815, 0.9984813434276562, 0.9942808135624742, 0.3886236128128682, 0.6114835993074514], \"Term\": [\"access\", \"activity\", \"activity\", \"activity\", \"acute\", \"acute\", \"admit\", \"adolescent\", \"age\", \"age\", \"aim\", \"aim\", \"aim\", \"also\", \"also\", \"also\", \"analysis\", \"analysis\", \"analysis\", \"application\", \"application\", \"assay\", \"assay\", \"associate\", \"associate\", \"associate\", \"asthma\", \"base\", \"base\", \"base\", \"bind\", \"biological\", \"blood\", \"blood\", \"bone\", \"bone\", \"cancer\", \"cancer\", \"cancer\", \"cardiac\", \"cardiovascular\", \"care\", \"case\", \"case\", \"case\", \"cell\", \"cellular\", \"chemical\", \"chemotherapy\", \"child\", \"child\", \"clinical\", \"clinical\", \"clinical\", \"cohort\", \"cohort\", \"community\", \"community\", \"compare\", \"compare\", \"compare\", \"complication\", \"complication\", \"compound\", \"concentration\", \"concentration\", \"conduct\", \"conduct\", \"conduct\", \"cost\", \"cost\", \"country\", \"covid\", \"covid\", \"ct\", \"datum\", \"datum\", \"datum\", \"day\", \"day\", \"day\", \"depression\", \"depression\", \"design\", \"design\", \"detection\", \"detection\", \"detection\", \"diabetic\", \"diagnosis\", \"diagnosis\", \"diagnosis\", \"different\", \"different\", \"different\", \"disease\", \"disease\", \"disease\", \"dynamic\", \"dynamic\", \"education\", \"effect\", \"effect\", \"effect\", \"environmental\", \"environmental\", \"enzyme\", \"evaluate\", \"evaluate\", \"evaluate\", \"experience\", \"experience\", \"expression\", \"face\", \"factor\", \"factor\", \"factor\", \"find\", \"find\", \"find\", \"fish\", \"follow\", \"follow\", \"follow\", \"fracture\", \"gene\", \"genome\", \"group\", \"group\", \"group\", \"health\", \"high\", \"high\", \"high\", \"host\", \"human\", \"human\", \"human\", \"identify\", \"identify\", \"identify\", \"impact\", \"impact\", \"impact\", \"implant\", \"include\", \"include\", \"include\", \"increase\", \"increase\", \"increase\", \"inflammation\", \"inflammatory\", \"injury\", \"injury\", \"intervention\", \"intervention\", \"lesion\", \"level\", \"level\", \"level\", \"liver\", \"low\", \"low\", \"low\", \"lung\", \"matrix\", \"mechanism\", \"mechanism\", \"mechanism\", \"membrane\", \"membrane\", \"method\", \"method\", \"method\", \"mitochondrial\", \"model\", \"model\", \"model\", \"molecular\", \"month\", \"month\", \"mortality\", \"mortality\", \"muscle\", \"muscle\", \"natural\", \"need\", \"need\", \"need\", \"new\", \"new\", \"new\", \"noise\", \"noise\", \"nurse\", \"outcome\", \"outcome\", \"pain\", \"pandemic\", \"parent\", \"participant\", \"participant\", \"patient\", \"patient\", \"people\", \"perceive\", \"perception\", \"perform\", \"perform\", \"perform\", \"placebo\", \"plant\", \"policy\", \"pollution\", \"pollution\", \"population\", \"population\", \"population\", \"postoperative\", \"potential\", \"potential\", \"potential\", \"practice\", \"process\", \"process\", \"production\", \"professional\", \"prognosis\", \"prognostic\", \"program\", \"property\", \"prosthesis\", \"protein\", \"provide\", \"provide\", \"provide\", \"psychological\", \"public\", \"pulmonary\", \"quality\", \"quality\", \"quality\", \"questionnaire\", \"rat\", \"rat\", \"rate\", \"rate\", \"rate\", \"recurrence\", \"regulate\", \"release\", \"release\", \"report\", \"report\", \"report\", \"research\", \"research\", \"result\", \"result\", \"result\", \"risk\", \"risk\", \"sample\", \"sample\", \"sample\", \"school\", \"self\", \"self\", \"sensor\", \"sequence\", \"service\", \"severe\", \"severe\", \"show\", \"show\", \"show\", \"signal\", \"significantly\", \"significantly\", \"significantly\", \"social\", \"soil\", \"specie\", \"spinal\", \"stroke\", \"structure\", \"structure\", \"student\", \"study\", \"study\", \"study\", \"support\", \"support\", \"support\", \"surface\", \"surface\", \"surgery\", \"surgical\", \"surgical\", \"survey\", \"syndrome\", \"system\", \"system\", \"system\", \"task\", \"temperature\", \"temperature\", \"therapy\", \"therapy\", \"therapy\", \"time\", \"time\", \"time\", \"tooth\", \"training\", \"treat\", \"treat\", \"treat\", \"treatment\", \"treatment\", \"treatment\", \"undergo\", \"urban\", \"use\", \"use\", \"use\", \"user\", \"visit\", \"water\", \"wound\", \"year\", \"year\"]}, \"R\": 30, \"lambda.step\": 0.01, \"plot.opts\": {\"xlab\": \"PC1\", \"ylab\": \"PC2\"}, \"topic.order\": [2, 1, 3]};\n",
       "\n",
       "function LDAvis_load_lib(url, callback){\n",
       "  var s = document.createElement('script');\n",
       "  s.src = url;\n",
       "  s.async = true;\n",
       "  s.onreadystatechange = s.onload = callback;\n",
       "  s.onerror = function(){console.warn(\"failed to load library \" + url);};\n",
       "  document.getElementsByTagName(\"head\")[0].appendChild(s);\n",
       "}\n",
       "\n",
       "if(typeof(LDAvis) !== \"undefined\"){\n",
       "   // already loaded: just create the visualization\n",
       "   !function(LDAvis){\n",
       "       new LDAvis(\"#\" + \"ldavis_el20140304518697936642624747\", ldavis_el20140304518697936642624747_data);\n",
       "   }(LDAvis);\n",
       "}else if(typeof define === \"function\" && define.amd){\n",
       "   // require.js is available: use it to load d3/LDAvis\n",
       "   require.config({paths: {d3: \"https://d3js.org/d3.v5\"}});\n",
       "   require([\"d3\"], function(d3){\n",
       "      window.d3 = d3;\n",
       "      LDAvis_load_lib(\"https://cdn.jsdelivr.net/gh/bmabey/pyLDAvis@3.2.2/pyLDAvis/js/ldavis.v3.0.0.js\", function(){\n",
       "        new LDAvis(\"#\" + \"ldavis_el20140304518697936642624747\", ldavis_el20140304518697936642624747_data);\n",
       "      });\n",
       "    });\n",
       "}else{\n",
       "    // require.js not available: dynamically load d3 & LDAvis\n",
       "    LDAvis_load_lib(\"https://d3js.org/d3.v5.js\", function(){\n",
       "         LDAvis_load_lib(\"https://cdn.jsdelivr.net/gh/bmabey/pyLDAvis@3.2.2/pyLDAvis/js/ldavis.v3.0.0.js\", function(){\n",
       "                 new LDAvis(\"#\" + \"ldavis_el20140304518697936642624747\", ldavis_el20140304518697936642624747_data);\n",
       "            })\n",
       "         });\n",
       "}\n",
       "</script>"
      ],
      "text/plain": [
       "PreparedData(topic_coordinates=              x         y  topics  cluster       Freq\n",
       "topic                                                \n",
       "1      0.002861 -0.166034       1        1  38.541708\n",
       "0     -0.174368  0.080957       2        1  35.553363\n",
       "2      0.171507  0.085077       3        1  25.904929, topic_info=          Term         Freq        Total Category  logprob  loglift\n",
       "172    patient  5281.000000  5281.000000  Default  30.0000  30.0000\n",
       "159     health  2106.000000  2106.000000  Default  29.0000  29.0000\n",
       "391       cell  1579.000000  1579.000000  Default  28.0000  28.0000\n",
       "273  treatment  1959.000000  1959.000000  Default  27.0000  27.0000\n",
       "227      group  2231.000000  2231.000000  Default  26.0000  26.0000\n",
       "..         ...          ...          ...      ...      ...      ...\n",
       "112      level   609.904369  1905.709404   Topic3  -5.4837   0.2114\n",
       "105   increase   617.081121  2118.588839   Topic3  -5.4720   0.1172\n",
       "156   evaluate   486.245929  1055.294556   Topic3  -5.7103   0.5759\n",
       "71         use   663.420832  4221.911707   Topic3  -5.3996  -0.4999\n",
       "366       show   468.331842  2093.931231   Topic3  -5.7478  -0.1469\n",
       "\n",
       "[232 rows x 6 columns], token_table=      Topic      Freq      Term\n",
       "term                           \n",
       "1845      1  0.998025    access\n",
       "689       1  0.281158  activity\n",
       "689       2  0.625296  activity\n",
       "689       3  0.093345  activity\n",
       "194       1  0.082508     acute\n",
       "...     ...       ...       ...\n",
       "2362      1  0.998317     visit\n",
       "1688      2  0.998481     water\n",
       "1446      3  0.994281     wound\n",
       "192       1  0.388624      year\n",
       "192       3  0.611484      year\n",
       "\n",
       "[333 rows x 3 columns], R=30, lambda_step=0.01, plot_opts={'xlab': 'PC1', 'ylab': 'PC2'}, topic_order=[2, 1, 3])"
      ]
     },
     "execution_count": 26,
     "metadata": {},
     "output_type": "execute_result"
    }
   ],
   "source": [
    "#Visualize The Topics \n",
    "pyLDAvis.enable_notebook()\n",
    "vis = pyLDAvis.gensim.prepare(lda_model_opt , corpus , id2word)\n",
    "vis"
   ]
  },
  {
   "cell_type": "markdown",
   "id": "4f4fa1ba",
   "metadata": {
    "papermill": {
     "duration": 0.059964,
     "end_time": "2022-04-11T01:47:14.267365",
     "exception": false,
     "start_time": "2022-04-11T01:47:14.207401",
     "status": "completed"
    },
    "tags": []
   },
   "source": [
    "# Let's Find out the dominant topic in each sentence\n",
    "**One of the practical application of topic modeling is to determine what topic a given document is about.**\n",
    "\n",
    "**To find that, we find the topic number that has the highest percentage contribution in that document.**"
   ]
  },
  {
   "cell_type": "code",
   "execution_count": 27,
   "id": "d14edf09",
   "metadata": {
    "execution": {
     "iopub.execute_input": "2022-04-11T01:47:14.401106Z",
     "iopub.status.busy": "2022-04-11T01:47:14.399798Z",
     "iopub.status.idle": "2022-04-11T01:47:40.667197Z",
     "shell.execute_reply": "2022-04-11T01:47:40.666457Z",
     "shell.execute_reply.started": "2022-04-11T01:22:19.712445Z"
    },
    "papermill": {
     "duration": 26.340698,
     "end_time": "2022-04-11T01:47:40.667361",
     "exception": false,
     "start_time": "2022-04-11T01:47:14.326663",
     "status": "completed"
    },
    "tags": []
   },
   "outputs": [
    {
     "data": {
      "text/html": [
       "<div>\n",
       "<style scoped>\n",
       "    .dataframe tbody tr th:only-of-type {\n",
       "        vertical-align: middle;\n",
       "    }\n",
       "\n",
       "    .dataframe tbody tr th {\n",
       "        vertical-align: top;\n",
       "    }\n",
       "\n",
       "    .dataframe thead th {\n",
       "        text-align: right;\n",
       "    }\n",
       "</style>\n",
       "<table border=\"1\" class=\"dataframe\">\n",
       "  <thead>\n",
       "    <tr style=\"text-align: right;\">\n",
       "      <th></th>\n",
       "      <th>Document_No</th>\n",
       "      <th>Dominant_Topic</th>\n",
       "      <th>Topic_Perc_Contrib</th>\n",
       "      <th>Keywords</th>\n",
       "      <th>Text</th>\n",
       "    </tr>\n",
       "  </thead>\n",
       "  <tbody>\n",
       "    <tr>\n",
       "      <th>0</th>\n",
       "      <td>0</td>\n",
       "      <td>1.0</td>\n",
       "      <td>0.5204</td>\n",
       "      <td>study, health, use, datum, base, risk, include...</td>\n",
       "      <td>Coordination variability (CV) is commonly anal...</td>\n",
       "    </tr>\n",
       "    <tr>\n",
       "      <th>1</th>\n",
       "      <td>1</td>\n",
       "      <td>2.0</td>\n",
       "      <td>0.5205</td>\n",
       "      <td>patient, treatment, group, study, clinical, ye...</td>\n",
       "      <td>Clinical Scenario: Dynamic knee valgus (DKV) i...</td>\n",
       "    </tr>\n",
       "    <tr>\n",
       "      <th>2</th>\n",
       "      <td>2</td>\n",
       "      <td>1.0</td>\n",
       "      <td>0.8874</td>\n",
       "      <td>study, health, use, datum, base, risk, include...</td>\n",
       "      <td>Various methodologies have been reported to as...</td>\n",
       "    </tr>\n",
       "    <tr>\n",
       "      <th>3</th>\n",
       "      <td>3</td>\n",
       "      <td>2.0</td>\n",
       "      <td>0.7822</td>\n",
       "      <td>patient, treatment, group, study, clinical, ye...</td>\n",
       "      <td>As outcomes for acute ischemic stroke (AIS) va...</td>\n",
       "    </tr>\n",
       "    <tr>\n",
       "      <th>4</th>\n",
       "      <td>4</td>\n",
       "      <td>1.0</td>\n",
       "      <td>0.9952</td>\n",
       "      <td>study, health, use, datum, base, risk, include...</td>\n",
       "      <td>Because hearing loss in children can result in...</td>\n",
       "    </tr>\n",
       "    <tr>\n",
       "      <th>5</th>\n",
       "      <td>5</td>\n",
       "      <td>1.0</td>\n",
       "      <td>0.9413</td>\n",
       "      <td>study, health, use, datum, base, risk, include...</td>\n",
       "      <td>Despite growing numbers in the USA, immigrant ...</td>\n",
       "    </tr>\n",
       "    <tr>\n",
       "      <th>6</th>\n",
       "      <td>6</td>\n",
       "      <td>2.0</td>\n",
       "      <td>0.4672</td>\n",
       "      <td>patient, treatment, group, study, clinical, ye...</td>\n",
       "      <td>Historically the treatment of lupus nephritis ...</td>\n",
       "    </tr>\n",
       "    <tr>\n",
       "      <th>7</th>\n",
       "      <td>7</td>\n",
       "      <td>1.0</td>\n",
       "      <td>0.5328</td>\n",
       "      <td>study, health, use, datum, base, risk, include...</td>\n",
       "      <td>Progressive chronic kidney disease (CKD) in in...</td>\n",
       "    </tr>\n",
       "    <tr>\n",
       "      <th>8</th>\n",
       "      <td>8</td>\n",
       "      <td>2.0</td>\n",
       "      <td>0.6374</td>\n",
       "      <td>patient, treatment, group, study, clinical, ye...</td>\n",
       "      <td>Immunoglobulin A nephropathy (IgAN) is the mos...</td>\n",
       "    </tr>\n",
       "    <tr>\n",
       "      <th>9</th>\n",
       "      <td>9</td>\n",
       "      <td>2.0</td>\n",
       "      <td>0.4221</td>\n",
       "      <td>patient, treatment, group, study, clinical, ye...</td>\n",
       "      <td>In kidney transplantation, precision medicine ...</td>\n",
       "    </tr>\n",
       "  </tbody>\n",
       "</table>\n",
       "</div>"
      ],
      "text/plain": [
       "   Document_No  Dominant_Topic  Topic_Perc_Contrib  \\\n",
       "0            0             1.0              0.5204   \n",
       "1            1             2.0              0.5205   \n",
       "2            2             1.0              0.8874   \n",
       "3            3             2.0              0.7822   \n",
       "4            4             1.0              0.9952   \n",
       "5            5             1.0              0.9413   \n",
       "6            6             2.0              0.4672   \n",
       "7            7             1.0              0.5328   \n",
       "8            8             2.0              0.6374   \n",
       "9            9             2.0              0.4221   \n",
       "\n",
       "                                            Keywords  \\\n",
       "0  study, health, use, datum, base, risk, include...   \n",
       "1  patient, treatment, group, study, clinical, ye...   \n",
       "2  study, health, use, datum, base, risk, include...   \n",
       "3  patient, treatment, group, study, clinical, ye...   \n",
       "4  study, health, use, datum, base, risk, include...   \n",
       "5  study, health, use, datum, base, risk, include...   \n",
       "6  patient, treatment, group, study, clinical, ye...   \n",
       "7  study, health, use, datum, base, risk, include...   \n",
       "8  patient, treatment, group, study, clinical, ye...   \n",
       "9  patient, treatment, group, study, clinical, ye...   \n",
       "\n",
       "                                                Text  \n",
       "0  Coordination variability (CV) is commonly anal...  \n",
       "1  Clinical Scenario: Dynamic knee valgus (DKV) i...  \n",
       "2  Various methodologies have been reported to as...  \n",
       "3  As outcomes for acute ischemic stroke (AIS) va...  \n",
       "4  Because hearing loss in children can result in...  \n",
       "5  Despite growing numbers in the USA, immigrant ...  \n",
       "6  Historically the treatment of lupus nephritis ...  \n",
       "7  Progressive chronic kidney disease (CKD) in in...  \n",
       "8  Immunoglobulin A nephropathy (IgAN) is the mos...  \n",
       "9  In kidney transplantation, precision medicine ...  "
      ]
     },
     "execution_count": 27,
     "metadata": {},
     "output_type": "execute_result"
    }
   ],
   "source": [
    "def format_topics_sentences(ldamodel = lda_model_opt , corpus = corpus, texts=data):\n",
    "    #Init output\n",
    "    sent_topics_df = pd.DataFrame()\n",
    "    \n",
    "\n",
    "    #Get The Main Topic in Each Document\n",
    "    for i , row in enumerate(ldamodel[corpus]):\n",
    "        row2 = sorted(row[0], key=lambda x: (x[1]), reverse=True)\n",
    "        #Get The Dominant Topic , Perc% Contibution and keywords for each document \n",
    "        for j , (topic_num , prop_topic) in enumerate(row2):\n",
    "            if j == 0: # Dominant Topic\n",
    "                wp = ldamodel.show_topic(topic_num)\n",
    "                topic_keywords = \", \".join([word for word , prop in wp])\n",
    "                sent_topics_df = sent_topics_df.append(pd.Series([int(topic_num) , round(prop_topic,4) , topic_keywords]) , ignore_index=True)\n",
    "            else:\n",
    "                break\n",
    "    sent_topics_df.columns = ['Dominant_Topic', 'Perc_Contribution', 'Topic_Keywords']\n",
    "    \n",
    "    #Add original text in the end of output \n",
    "    contents = pd.Series(texts)\n",
    "    sent_topics_df = pd.concat([sent_topics_df , contents] , axis=1)\n",
    "    return (sent_topics_df)\n",
    "\n",
    "df_topic_sents_keywords = format_topics_sentences(ldamodel=lda_model_opt , corpus=corpus , texts=data)\n",
    "\n",
    "#Formatting \n",
    "df_dominant_topic = df_topic_sents_keywords.reset_index()\n",
    "df_dominant_topic.columns = ['Document_No', 'Dominant_Topic', 'Topic_Perc_Contrib', 'Keywords', 'Text']\n",
    "\n",
    "# Show\n",
    "df_dominant_topic.head(10)"
   ]
  },
  {
   "cell_type": "markdown",
   "id": "694629f3",
   "metadata": {
    "papermill": {
     "duration": 0.058595,
     "end_time": "2022-04-11T01:47:40.784202",
     "exception": false,
     "start_time": "2022-04-11T01:47:40.725607",
     "status": "completed"
    },
    "tags": []
   },
   "source": [
    "# **Conclusion**\n",
    "\n",
    "> **First things first i want to thank everyone that give me the honor to proceed to this step**\n",
    "\n",
    "> **Second I really hope this simple NoteBook Meet your Expectations**\n",
    "\n",
    "> **And I really happy to say i'm really honord by this chance , whatever the result you see i accept it happily**\n",
    "\n",
    "# **About the next steps to improve The Model**\n",
    "> **We Could Expand The Number Of Topics To get More Better Coherence Score**\n",
    "\n",
    "> **Expand The DataSet And Get More Organised Documents For Better Results**\n",
    "\n",
    "> ***Finally I want To Say SomeThing .. Maybe This Work Isn't Ideal For Your Needs , But to Be Honest This is The First Time For Me To work With This Algorithm(LDA) , Shame On Me Ofcourse , But I really Tried My Best To Learn With The Fly To Get The Best Results as much as i can , I really happy to deal with new algorithm and of course i'll add this valuable Task To my Portfolio***"
   ]
  }
 ],
 "metadata": {
  "kernelspec": {
   "display_name": "Python 3",
   "language": "python",
   "name": "python3"
  },
  "language_info": {
   "codemirror_mode": {
    "name": "ipython",
    "version": 3
   },
   "file_extension": ".py",
   "mimetype": "text/x-python",
   "name": "python",
   "nbconvert_exporter": "python",
   "pygments_lexer": "ipython3",
   "version": "3.7.12"
  },
  "papermill": {
   "default_parameters": {},
   "duration": 1176.368476,
   "end_time": "2022-04-11T01:47:43.845308",
   "environment_variables": {},
   "exception": null,
   "input_path": "__notebook__.ipynb",
   "output_path": "__notebook__.ipynb",
   "parameters": {},
   "start_time": "2022-04-11T01:28:07.476832",
   "version": "2.3.3"
  }
 },
 "nbformat": 4,
 "nbformat_minor": 5
}
